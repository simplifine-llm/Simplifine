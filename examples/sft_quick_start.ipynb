{
  "nbformat": 4,
  "nbformat_minor": 0,
  "metadata": {
    "colab": {
      "provenance": [],
      "gpuType": "L4",
      "machine_shape": "hm",
      "authorship_tag": "ABX9TyMRvEWVRhx+W4gNmwE8oGL5",
      "include_colab_link": true
    },
    "kernelspec": {
      "name": "python3",
      "display_name": "Python 3"
    },
    "language_info": {
      "name": "python"
    },
    "accelerator": "GPU",
    "widgets": {
      "application/vnd.jupyter.widget-state+json": {
        "5d6108f4c40f4d3fad47af55ca452696": {
          "model_module": "@jupyter-widgets/controls",
          "model_name": "HBoxModel",
          "model_module_version": "1.5.0",
          "state": {
            "_dom_classes": [],
            "_model_module": "@jupyter-widgets/controls",
            "_model_module_version": "1.5.0",
            "_model_name": "HBoxModel",
            "_view_count": null,
            "_view_module": "@jupyter-widgets/controls",
            "_view_module_version": "1.5.0",
            "_view_name": "HBoxView",
            "box_style": "",
            "children": [
              "IPY_MODEL_a78a4868b5174b27bd7cd6491fbfa6b5",
              "IPY_MODEL_14a270febe5b47d781023100122d967c",
              "IPY_MODEL_705f1ab7cbfe41e5ade1fc2b3afdc362"
            ],
            "layout": "IPY_MODEL_6364f0cfb95248e3b2b78d077d305bf4"
          }
        },
        "a78a4868b5174b27bd7cd6491fbfa6b5": {
          "model_module": "@jupyter-widgets/controls",
          "model_name": "HTMLModel",
          "model_module_version": "1.5.0",
          "state": {
            "_dom_classes": [],
            "_model_module": "@jupyter-widgets/controls",
            "_model_module_version": "1.5.0",
            "_model_name": "HTMLModel",
            "_view_count": null,
            "_view_module": "@jupyter-widgets/controls",
            "_view_module_version": "1.5.0",
            "_view_name": "HTMLView",
            "description": "",
            "description_tooltip": null,
            "layout": "IPY_MODEL_f9536034b60a40b1a72ee1b822bdba99",
            "placeholder": "​",
            "style": "IPY_MODEL_ca853d94a7e44603bbe8f4239b3395e4",
            "value": "tokenizer_config.json: 100%"
          }
        },
        "14a270febe5b47d781023100122d967c": {
          "model_module": "@jupyter-widgets/controls",
          "model_name": "FloatProgressModel",
          "model_module_version": "1.5.0",
          "state": {
            "_dom_classes": [],
            "_model_module": "@jupyter-widgets/controls",
            "_model_module_version": "1.5.0",
            "_model_name": "FloatProgressModel",
            "_view_count": null,
            "_view_module": "@jupyter-widgets/controls",
            "_view_module_version": "1.5.0",
            "_view_name": "ProgressView",
            "bar_style": "success",
            "description": "",
            "description_tooltip": null,
            "layout": "IPY_MODEL_3a8829c671554ce3bc36f24140b1424e",
            "max": 396,
            "min": 0,
            "orientation": "horizontal",
            "style": "IPY_MODEL_2ee3a8902a2a4ac78609ac30c53ac70d",
            "value": 396
          }
        },
        "705f1ab7cbfe41e5ade1fc2b3afdc362": {
          "model_module": "@jupyter-widgets/controls",
          "model_name": "HTMLModel",
          "model_module_version": "1.5.0",
          "state": {
            "_dom_classes": [],
            "_model_module": "@jupyter-widgets/controls",
            "_model_module_version": "1.5.0",
            "_model_name": "HTMLModel",
            "_view_count": null,
            "_view_module": "@jupyter-widgets/controls",
            "_view_module_version": "1.5.0",
            "_view_name": "HTMLView",
            "description": "",
            "description_tooltip": null,
            "layout": "IPY_MODEL_d84556e53dfe4d1381171ad301e2619c",
            "placeholder": "​",
            "style": "IPY_MODEL_f7eecb12abe243d1836c82f26accba92",
            "value": " 396/396 [00:00&lt;00:00, 30.3kB/s]"
          }
        },
        "6364f0cfb95248e3b2b78d077d305bf4": {
          "model_module": "@jupyter-widgets/base",
          "model_name": "LayoutModel",
          "model_module_version": "1.2.0",
          "state": {
            "_model_module": "@jupyter-widgets/base",
            "_model_module_version": "1.2.0",
            "_model_name": "LayoutModel",
            "_view_count": null,
            "_view_module": "@jupyter-widgets/base",
            "_view_module_version": "1.2.0",
            "_view_name": "LayoutView",
            "align_content": null,
            "align_items": null,
            "align_self": null,
            "border": null,
            "bottom": null,
            "display": null,
            "flex": null,
            "flex_flow": null,
            "grid_area": null,
            "grid_auto_columns": null,
            "grid_auto_flow": null,
            "grid_auto_rows": null,
            "grid_column": null,
            "grid_gap": null,
            "grid_row": null,
            "grid_template_areas": null,
            "grid_template_columns": null,
            "grid_template_rows": null,
            "height": null,
            "justify_content": null,
            "justify_items": null,
            "left": null,
            "margin": null,
            "max_height": null,
            "max_width": null,
            "min_height": null,
            "min_width": null,
            "object_fit": null,
            "object_position": null,
            "order": null,
            "overflow": null,
            "overflow_x": null,
            "overflow_y": null,
            "padding": null,
            "right": null,
            "top": null,
            "visibility": null,
            "width": null
          }
        },
        "f9536034b60a40b1a72ee1b822bdba99": {
          "model_module": "@jupyter-widgets/base",
          "model_name": "LayoutModel",
          "model_module_version": "1.2.0",
          "state": {
            "_model_module": "@jupyter-widgets/base",
            "_model_module_version": "1.2.0",
            "_model_name": "LayoutModel",
            "_view_count": null,
            "_view_module": "@jupyter-widgets/base",
            "_view_module_version": "1.2.0",
            "_view_name": "LayoutView",
            "align_content": null,
            "align_items": null,
            "align_self": null,
            "border": null,
            "bottom": null,
            "display": null,
            "flex": null,
            "flex_flow": null,
            "grid_area": null,
            "grid_auto_columns": null,
            "grid_auto_flow": null,
            "grid_auto_rows": null,
            "grid_column": null,
            "grid_gap": null,
            "grid_row": null,
            "grid_template_areas": null,
            "grid_template_columns": null,
            "grid_template_rows": null,
            "height": null,
            "justify_content": null,
            "justify_items": null,
            "left": null,
            "margin": null,
            "max_height": null,
            "max_width": null,
            "min_height": null,
            "min_width": null,
            "object_fit": null,
            "object_position": null,
            "order": null,
            "overflow": null,
            "overflow_x": null,
            "overflow_y": null,
            "padding": null,
            "right": null,
            "top": null,
            "visibility": null,
            "width": null
          }
        },
        "ca853d94a7e44603bbe8f4239b3395e4": {
          "model_module": "@jupyter-widgets/controls",
          "model_name": "DescriptionStyleModel",
          "model_module_version": "1.5.0",
          "state": {
            "_model_module": "@jupyter-widgets/controls",
            "_model_module_version": "1.5.0",
            "_model_name": "DescriptionStyleModel",
            "_view_count": null,
            "_view_module": "@jupyter-widgets/base",
            "_view_module_version": "1.2.0",
            "_view_name": "StyleView",
            "description_width": ""
          }
        },
        "3a8829c671554ce3bc36f24140b1424e": {
          "model_module": "@jupyter-widgets/base",
          "model_name": "LayoutModel",
          "model_module_version": "1.2.0",
          "state": {
            "_model_module": "@jupyter-widgets/base",
            "_model_module_version": "1.2.0",
            "_model_name": "LayoutModel",
            "_view_count": null,
            "_view_module": "@jupyter-widgets/base",
            "_view_module_version": "1.2.0",
            "_view_name": "LayoutView",
            "align_content": null,
            "align_items": null,
            "align_self": null,
            "border": null,
            "bottom": null,
            "display": null,
            "flex": null,
            "flex_flow": null,
            "grid_area": null,
            "grid_auto_columns": null,
            "grid_auto_flow": null,
            "grid_auto_rows": null,
            "grid_column": null,
            "grid_gap": null,
            "grid_row": null,
            "grid_template_areas": null,
            "grid_template_columns": null,
            "grid_template_rows": null,
            "height": null,
            "justify_content": null,
            "justify_items": null,
            "left": null,
            "margin": null,
            "max_height": null,
            "max_width": null,
            "min_height": null,
            "min_width": null,
            "object_fit": null,
            "object_position": null,
            "order": null,
            "overflow": null,
            "overflow_x": null,
            "overflow_y": null,
            "padding": null,
            "right": null,
            "top": null,
            "visibility": null,
            "width": null
          }
        },
        "2ee3a8902a2a4ac78609ac30c53ac70d": {
          "model_module": "@jupyter-widgets/controls",
          "model_name": "ProgressStyleModel",
          "model_module_version": "1.5.0",
          "state": {
            "_model_module": "@jupyter-widgets/controls",
            "_model_module_version": "1.5.0",
            "_model_name": "ProgressStyleModel",
            "_view_count": null,
            "_view_module": "@jupyter-widgets/base",
            "_view_module_version": "1.2.0",
            "_view_name": "StyleView",
            "bar_color": null,
            "description_width": ""
          }
        },
        "d84556e53dfe4d1381171ad301e2619c": {
          "model_module": "@jupyter-widgets/base",
          "model_name": "LayoutModel",
          "model_module_version": "1.2.0",
          "state": {
            "_model_module": "@jupyter-widgets/base",
            "_model_module_version": "1.2.0",
            "_model_name": "LayoutModel",
            "_view_count": null,
            "_view_module": "@jupyter-widgets/base",
            "_view_module_version": "1.2.0",
            "_view_name": "LayoutView",
            "align_content": null,
            "align_items": null,
            "align_self": null,
            "border": null,
            "bottom": null,
            "display": null,
            "flex": null,
            "flex_flow": null,
            "grid_area": null,
            "grid_auto_columns": null,
            "grid_auto_flow": null,
            "grid_auto_rows": null,
            "grid_column": null,
            "grid_gap": null,
            "grid_row": null,
            "grid_template_areas": null,
            "grid_template_columns": null,
            "grid_template_rows": null,
            "height": null,
            "justify_content": null,
            "justify_items": null,
            "left": null,
            "margin": null,
            "max_height": null,
            "max_width": null,
            "min_height": null,
            "min_width": null,
            "object_fit": null,
            "object_position": null,
            "order": null,
            "overflow": null,
            "overflow_x": null,
            "overflow_y": null,
            "padding": null,
            "right": null,
            "top": null,
            "visibility": null,
            "width": null
          }
        },
        "f7eecb12abe243d1836c82f26accba92": {
          "model_module": "@jupyter-widgets/controls",
          "model_name": "DescriptionStyleModel",
          "model_module_version": "1.5.0",
          "state": {
            "_model_module": "@jupyter-widgets/controls",
            "_model_module_version": "1.5.0",
            "_model_name": "DescriptionStyleModel",
            "_view_count": null,
            "_view_module": "@jupyter-widgets/base",
            "_view_module_version": "1.2.0",
            "_view_name": "StyleView",
            "description_width": ""
          }
        },
        "05d591757074489b948e7b0c73555690": {
          "model_module": "@jupyter-widgets/controls",
          "model_name": "HBoxModel",
          "model_module_version": "1.5.0",
          "state": {
            "_dom_classes": [],
            "_model_module": "@jupyter-widgets/controls",
            "_model_module_version": "1.5.0",
            "_model_name": "HBoxModel",
            "_view_count": null,
            "_view_module": "@jupyter-widgets/controls",
            "_view_module_version": "1.5.0",
            "_view_name": "HBoxView",
            "box_style": "",
            "children": [
              "IPY_MODEL_e5cc86e90aac42baba18a08ca36be738",
              "IPY_MODEL_fdd0db4c57304f949c1401fa0e8c000d",
              "IPY_MODEL_c6c9ded461684c7aa50a5ae71fb575a5"
            ],
            "layout": "IPY_MODEL_a037820eb14b4a85b6bc575325a0cd8f"
          }
        },
        "e5cc86e90aac42baba18a08ca36be738": {
          "model_module": "@jupyter-widgets/controls",
          "model_name": "HTMLModel",
          "model_module_version": "1.5.0",
          "state": {
            "_dom_classes": [],
            "_model_module": "@jupyter-widgets/controls",
            "_model_module_version": "1.5.0",
            "_model_name": "HTMLModel",
            "_view_count": null,
            "_view_module": "@jupyter-widgets/controls",
            "_view_module_version": "1.5.0",
            "_view_name": "HTMLView",
            "description": "",
            "description_tooltip": null,
            "layout": "IPY_MODEL_5ddcb4768e664b62a898621d414f0408",
            "placeholder": "​",
            "style": "IPY_MODEL_54a6aee891804ae8ac503af85a1c5f90",
            "value": "tokenizer.json: 100%"
          }
        },
        "fdd0db4c57304f949c1401fa0e8c000d": {
          "model_module": "@jupyter-widgets/controls",
          "model_name": "FloatProgressModel",
          "model_module_version": "1.5.0",
          "state": {
            "_dom_classes": [],
            "_model_module": "@jupyter-widgets/controls",
            "_model_module_version": "1.5.0",
            "_model_name": "FloatProgressModel",
            "_view_count": null,
            "_view_module": "@jupyter-widgets/controls",
            "_view_module_version": "1.5.0",
            "_view_name": "ProgressView",
            "bar_style": "success",
            "description": "",
            "description_tooltip": null,
            "layout": "IPY_MODEL_a8bfed5455fc4a0886bd966cb5fcbe55",
            "max": 2113710,
            "min": 0,
            "orientation": "horizontal",
            "style": "IPY_MODEL_d23e5bfedf7c40d4bf1409484c4790eb",
            "value": 2113710
          }
        },
        "c6c9ded461684c7aa50a5ae71fb575a5": {
          "model_module": "@jupyter-widgets/controls",
          "model_name": "HTMLModel",
          "model_module_version": "1.5.0",
          "state": {
            "_dom_classes": [],
            "_model_module": "@jupyter-widgets/controls",
            "_model_module_version": "1.5.0",
            "_model_name": "HTMLModel",
            "_view_count": null,
            "_view_module": "@jupyter-widgets/controls",
            "_view_module_version": "1.5.0",
            "_view_name": "HTMLView",
            "description": "",
            "description_tooltip": null,
            "layout": "IPY_MODEL_bec2d8c54d0f47c6b0b3b80e1e11cb46",
            "placeholder": "​",
            "style": "IPY_MODEL_74bce8c61453437bbb9d9198cae0a503",
            "value": " 2.11M/2.11M [00:00&lt;00:00, 3.26MB/s]"
          }
        },
        "a037820eb14b4a85b6bc575325a0cd8f": {
          "model_module": "@jupyter-widgets/base",
          "model_name": "LayoutModel",
          "model_module_version": "1.2.0",
          "state": {
            "_model_module": "@jupyter-widgets/base",
            "_model_module_version": "1.2.0",
            "_model_name": "LayoutModel",
            "_view_count": null,
            "_view_module": "@jupyter-widgets/base",
            "_view_module_version": "1.2.0",
            "_view_name": "LayoutView",
            "align_content": null,
            "align_items": null,
            "align_self": null,
            "border": null,
            "bottom": null,
            "display": null,
            "flex": null,
            "flex_flow": null,
            "grid_area": null,
            "grid_auto_columns": null,
            "grid_auto_flow": null,
            "grid_auto_rows": null,
            "grid_column": null,
            "grid_gap": null,
            "grid_row": null,
            "grid_template_areas": null,
            "grid_template_columns": null,
            "grid_template_rows": null,
            "height": null,
            "justify_content": null,
            "justify_items": null,
            "left": null,
            "margin": null,
            "max_height": null,
            "max_width": null,
            "min_height": null,
            "min_width": null,
            "object_fit": null,
            "object_position": null,
            "order": null,
            "overflow": null,
            "overflow_x": null,
            "overflow_y": null,
            "padding": null,
            "right": null,
            "top": null,
            "visibility": null,
            "width": null
          }
        },
        "5ddcb4768e664b62a898621d414f0408": {
          "model_module": "@jupyter-widgets/base",
          "model_name": "LayoutModel",
          "model_module_version": "1.2.0",
          "state": {
            "_model_module": "@jupyter-widgets/base",
            "_model_module_version": "1.2.0",
            "_model_name": "LayoutModel",
            "_view_count": null,
            "_view_module": "@jupyter-widgets/base",
            "_view_module_version": "1.2.0",
            "_view_name": "LayoutView",
            "align_content": null,
            "align_items": null,
            "align_self": null,
            "border": null,
            "bottom": null,
            "display": null,
            "flex": null,
            "flex_flow": null,
            "grid_area": null,
            "grid_auto_columns": null,
            "grid_auto_flow": null,
            "grid_auto_rows": null,
            "grid_column": null,
            "grid_gap": null,
            "grid_row": null,
            "grid_template_areas": null,
            "grid_template_columns": null,
            "grid_template_rows": null,
            "height": null,
            "justify_content": null,
            "justify_items": null,
            "left": null,
            "margin": null,
            "max_height": null,
            "max_width": null,
            "min_height": null,
            "min_width": null,
            "object_fit": null,
            "object_position": null,
            "order": null,
            "overflow": null,
            "overflow_x": null,
            "overflow_y": null,
            "padding": null,
            "right": null,
            "top": null,
            "visibility": null,
            "width": null
          }
        },
        "54a6aee891804ae8ac503af85a1c5f90": {
          "model_module": "@jupyter-widgets/controls",
          "model_name": "DescriptionStyleModel",
          "model_module_version": "1.5.0",
          "state": {
            "_model_module": "@jupyter-widgets/controls",
            "_model_module_version": "1.5.0",
            "_model_name": "DescriptionStyleModel",
            "_view_count": null,
            "_view_module": "@jupyter-widgets/base",
            "_view_module_version": "1.2.0",
            "_view_name": "StyleView",
            "description_width": ""
          }
        },
        "a8bfed5455fc4a0886bd966cb5fcbe55": {
          "model_module": "@jupyter-widgets/base",
          "model_name": "LayoutModel",
          "model_module_version": "1.2.0",
          "state": {
            "_model_module": "@jupyter-widgets/base",
            "_model_module_version": "1.2.0",
            "_model_name": "LayoutModel",
            "_view_count": null,
            "_view_module": "@jupyter-widgets/base",
            "_view_module_version": "1.2.0",
            "_view_name": "LayoutView",
            "align_content": null,
            "align_items": null,
            "align_self": null,
            "border": null,
            "bottom": null,
            "display": null,
            "flex": null,
            "flex_flow": null,
            "grid_area": null,
            "grid_auto_columns": null,
            "grid_auto_flow": null,
            "grid_auto_rows": null,
            "grid_column": null,
            "grid_gap": null,
            "grid_row": null,
            "grid_template_areas": null,
            "grid_template_columns": null,
            "grid_template_rows": null,
            "height": null,
            "justify_content": null,
            "justify_items": null,
            "left": null,
            "margin": null,
            "max_height": null,
            "max_width": null,
            "min_height": null,
            "min_width": null,
            "object_fit": null,
            "object_position": null,
            "order": null,
            "overflow": null,
            "overflow_x": null,
            "overflow_y": null,
            "padding": null,
            "right": null,
            "top": null,
            "visibility": null,
            "width": null
          }
        },
        "d23e5bfedf7c40d4bf1409484c4790eb": {
          "model_module": "@jupyter-widgets/controls",
          "model_name": "ProgressStyleModel",
          "model_module_version": "1.5.0",
          "state": {
            "_model_module": "@jupyter-widgets/controls",
            "_model_module_version": "1.5.0",
            "_model_name": "ProgressStyleModel",
            "_view_count": null,
            "_view_module": "@jupyter-widgets/base",
            "_view_module_version": "1.2.0",
            "_view_name": "StyleView",
            "bar_color": null,
            "description_width": ""
          }
        },
        "bec2d8c54d0f47c6b0b3b80e1e11cb46": {
          "model_module": "@jupyter-widgets/base",
          "model_name": "LayoutModel",
          "model_module_version": "1.2.0",
          "state": {
            "_model_module": "@jupyter-widgets/base",
            "_model_module_version": "1.2.0",
            "_model_name": "LayoutModel",
            "_view_count": null,
            "_view_module": "@jupyter-widgets/base",
            "_view_module_version": "1.2.0",
            "_view_name": "LayoutView",
            "align_content": null,
            "align_items": null,
            "align_self": null,
            "border": null,
            "bottom": null,
            "display": null,
            "flex": null,
            "flex_flow": null,
            "grid_area": null,
            "grid_auto_columns": null,
            "grid_auto_flow": null,
            "grid_auto_rows": null,
            "grid_column": null,
            "grid_gap": null,
            "grid_row": null,
            "grid_template_areas": null,
            "grid_template_columns": null,
            "grid_template_rows": null,
            "height": null,
            "justify_content": null,
            "justify_items": null,
            "left": null,
            "margin": null,
            "max_height": null,
            "max_width": null,
            "min_height": null,
            "min_width": null,
            "object_fit": null,
            "object_position": null,
            "order": null,
            "overflow": null,
            "overflow_x": null,
            "overflow_y": null,
            "padding": null,
            "right": null,
            "top": null,
            "visibility": null,
            "width": null
          }
        },
        "74bce8c61453437bbb9d9198cae0a503": {
          "model_module": "@jupyter-widgets/controls",
          "model_name": "DescriptionStyleModel",
          "model_module_version": "1.5.0",
          "state": {
            "_model_module": "@jupyter-widgets/controls",
            "_model_module_version": "1.5.0",
            "_model_name": "DescriptionStyleModel",
            "_view_count": null,
            "_view_module": "@jupyter-widgets/base",
            "_view_module_version": "1.2.0",
            "_view_name": "StyleView",
            "description_width": ""
          }
        },
        "7e62ffdd152446f5833b65f38f87a895": {
          "model_module": "@jupyter-widgets/controls",
          "model_name": "HBoxModel",
          "model_module_version": "1.5.0",
          "state": {
            "_dom_classes": [],
            "_model_module": "@jupyter-widgets/controls",
            "_model_module_version": "1.5.0",
            "_model_name": "HBoxModel",
            "_view_count": null,
            "_view_module": "@jupyter-widgets/controls",
            "_view_module_version": "1.5.0",
            "_view_name": "HBoxView",
            "box_style": "",
            "children": [
              "IPY_MODEL_b60ef2c5343a48218a792cafe5099137",
              "IPY_MODEL_e0a4eca4e34349deb30b628dcb4f0c01",
              "IPY_MODEL_274601d1db094b61b11df6372a925e39"
            ],
            "layout": "IPY_MODEL_ee5b47ead04d48a3a9520e1a50d9c017"
          }
        },
        "b60ef2c5343a48218a792cafe5099137": {
          "model_module": "@jupyter-widgets/controls",
          "model_name": "HTMLModel",
          "model_module_version": "1.5.0",
          "state": {
            "_dom_classes": [],
            "_model_module": "@jupyter-widgets/controls",
            "_model_module_version": "1.5.0",
            "_model_name": "HTMLModel",
            "_view_count": null,
            "_view_module": "@jupyter-widgets/controls",
            "_view_module_version": "1.5.0",
            "_view_name": "HTMLView",
            "description": "",
            "description_tooltip": null,
            "layout": "IPY_MODEL_c67398b8d26d42ae852fda95bac98bf5",
            "placeholder": "​",
            "style": "IPY_MODEL_3f2a5d8fba6c441383826d3a7ea9b8cd",
            "value": "special_tokens_map.json: 100%"
          }
        },
        "e0a4eca4e34349deb30b628dcb4f0c01": {
          "model_module": "@jupyter-widgets/controls",
          "model_name": "FloatProgressModel",
          "model_module_version": "1.5.0",
          "state": {
            "_dom_classes": [],
            "_model_module": "@jupyter-widgets/controls",
            "_model_module_version": "1.5.0",
            "_model_name": "FloatProgressModel",
            "_view_count": null,
            "_view_module": "@jupyter-widgets/controls",
            "_view_module_version": "1.5.0",
            "_view_name": "ProgressView",
            "bar_style": "success",
            "description": "",
            "description_tooltip": null,
            "layout": "IPY_MODEL_c2eb3dcde44d4d42a65640065c7c7ca8",
            "max": 99,
            "min": 0,
            "orientation": "horizontal",
            "style": "IPY_MODEL_763bb0d46f844671b2ee4f676d3660fc",
            "value": 99
          }
        },
        "274601d1db094b61b11df6372a925e39": {
          "model_module": "@jupyter-widgets/controls",
          "model_name": "HTMLModel",
          "model_module_version": "1.5.0",
          "state": {
            "_dom_classes": [],
            "_model_module": "@jupyter-widgets/controls",
            "_model_module_version": "1.5.0",
            "_model_name": "HTMLModel",
            "_view_count": null,
            "_view_module": "@jupyter-widgets/controls",
            "_view_module_version": "1.5.0",
            "_view_name": "HTMLView",
            "description": "",
            "description_tooltip": null,
            "layout": "IPY_MODEL_362b954014474a1b8b1c5c77fd6dcc45",
            "placeholder": "​",
            "style": "IPY_MODEL_1d7c8cef05d1457ea173dcf579970f2b",
            "value": " 99.0/99.0 [00:00&lt;00:00, 6.23kB/s]"
          }
        },
        "ee5b47ead04d48a3a9520e1a50d9c017": {
          "model_module": "@jupyter-widgets/base",
          "model_name": "LayoutModel",
          "model_module_version": "1.2.0",
          "state": {
            "_model_module": "@jupyter-widgets/base",
            "_model_module_version": "1.2.0",
            "_model_name": "LayoutModel",
            "_view_count": null,
            "_view_module": "@jupyter-widgets/base",
            "_view_module_version": "1.2.0",
            "_view_name": "LayoutView",
            "align_content": null,
            "align_items": null,
            "align_self": null,
            "border": null,
            "bottom": null,
            "display": null,
            "flex": null,
            "flex_flow": null,
            "grid_area": null,
            "grid_auto_columns": null,
            "grid_auto_flow": null,
            "grid_auto_rows": null,
            "grid_column": null,
            "grid_gap": null,
            "grid_row": null,
            "grid_template_areas": null,
            "grid_template_columns": null,
            "grid_template_rows": null,
            "height": null,
            "justify_content": null,
            "justify_items": null,
            "left": null,
            "margin": null,
            "max_height": null,
            "max_width": null,
            "min_height": null,
            "min_width": null,
            "object_fit": null,
            "object_position": null,
            "order": null,
            "overflow": null,
            "overflow_x": null,
            "overflow_y": null,
            "padding": null,
            "right": null,
            "top": null,
            "visibility": null,
            "width": null
          }
        },
        "c67398b8d26d42ae852fda95bac98bf5": {
          "model_module": "@jupyter-widgets/base",
          "model_name": "LayoutModel",
          "model_module_version": "1.2.0",
          "state": {
            "_model_module": "@jupyter-widgets/base",
            "_model_module_version": "1.2.0",
            "_model_name": "LayoutModel",
            "_view_count": null,
            "_view_module": "@jupyter-widgets/base",
            "_view_module_version": "1.2.0",
            "_view_name": "LayoutView",
            "align_content": null,
            "align_items": null,
            "align_self": null,
            "border": null,
            "bottom": null,
            "display": null,
            "flex": null,
            "flex_flow": null,
            "grid_area": null,
            "grid_auto_columns": null,
            "grid_auto_flow": null,
            "grid_auto_rows": null,
            "grid_column": null,
            "grid_gap": null,
            "grid_row": null,
            "grid_template_areas": null,
            "grid_template_columns": null,
            "grid_template_rows": null,
            "height": null,
            "justify_content": null,
            "justify_items": null,
            "left": null,
            "margin": null,
            "max_height": null,
            "max_width": null,
            "min_height": null,
            "min_width": null,
            "object_fit": null,
            "object_position": null,
            "order": null,
            "overflow": null,
            "overflow_x": null,
            "overflow_y": null,
            "padding": null,
            "right": null,
            "top": null,
            "visibility": null,
            "width": null
          }
        },
        "3f2a5d8fba6c441383826d3a7ea9b8cd": {
          "model_module": "@jupyter-widgets/controls",
          "model_name": "DescriptionStyleModel",
          "model_module_version": "1.5.0",
          "state": {
            "_model_module": "@jupyter-widgets/controls",
            "_model_module_version": "1.5.0",
            "_model_name": "DescriptionStyleModel",
            "_view_count": null,
            "_view_module": "@jupyter-widgets/base",
            "_view_module_version": "1.2.0",
            "_view_name": "StyleView",
            "description_width": ""
          }
        },
        "c2eb3dcde44d4d42a65640065c7c7ca8": {
          "model_module": "@jupyter-widgets/base",
          "model_name": "LayoutModel",
          "model_module_version": "1.2.0",
          "state": {
            "_model_module": "@jupyter-widgets/base",
            "_model_module_version": "1.2.0",
            "_model_name": "LayoutModel",
            "_view_count": null,
            "_view_module": "@jupyter-widgets/base",
            "_view_module_version": "1.2.0",
            "_view_name": "LayoutView",
            "align_content": null,
            "align_items": null,
            "align_self": null,
            "border": null,
            "bottom": null,
            "display": null,
            "flex": null,
            "flex_flow": null,
            "grid_area": null,
            "grid_auto_columns": null,
            "grid_auto_flow": null,
            "grid_auto_rows": null,
            "grid_column": null,
            "grid_gap": null,
            "grid_row": null,
            "grid_template_areas": null,
            "grid_template_columns": null,
            "grid_template_rows": null,
            "height": null,
            "justify_content": null,
            "justify_items": null,
            "left": null,
            "margin": null,
            "max_height": null,
            "max_width": null,
            "min_height": null,
            "min_width": null,
            "object_fit": null,
            "object_position": null,
            "order": null,
            "overflow": null,
            "overflow_x": null,
            "overflow_y": null,
            "padding": null,
            "right": null,
            "top": null,
            "visibility": null,
            "width": null
          }
        },
        "763bb0d46f844671b2ee4f676d3660fc": {
          "model_module": "@jupyter-widgets/controls",
          "model_name": "ProgressStyleModel",
          "model_module_version": "1.5.0",
          "state": {
            "_model_module": "@jupyter-widgets/controls",
            "_model_module_version": "1.5.0",
            "_model_name": "ProgressStyleModel",
            "_view_count": null,
            "_view_module": "@jupyter-widgets/base",
            "_view_module_version": "1.2.0",
            "_view_name": "StyleView",
            "bar_color": null,
            "description_width": ""
          }
        },
        "362b954014474a1b8b1c5c77fd6dcc45": {
          "model_module": "@jupyter-widgets/base",
          "model_name": "LayoutModel",
          "model_module_version": "1.2.0",
          "state": {
            "_model_module": "@jupyter-widgets/base",
            "_model_module_version": "1.2.0",
            "_model_name": "LayoutModel",
            "_view_count": null,
            "_view_module": "@jupyter-widgets/base",
            "_view_module_version": "1.2.0",
            "_view_name": "LayoutView",
            "align_content": null,
            "align_items": null,
            "align_self": null,
            "border": null,
            "bottom": null,
            "display": null,
            "flex": null,
            "flex_flow": null,
            "grid_area": null,
            "grid_auto_columns": null,
            "grid_auto_flow": null,
            "grid_auto_rows": null,
            "grid_column": null,
            "grid_gap": null,
            "grid_row": null,
            "grid_template_areas": null,
            "grid_template_columns": null,
            "grid_template_rows": null,
            "height": null,
            "justify_content": null,
            "justify_items": null,
            "left": null,
            "margin": null,
            "max_height": null,
            "max_width": null,
            "min_height": null,
            "min_width": null,
            "object_fit": null,
            "object_position": null,
            "order": null,
            "overflow": null,
            "overflow_x": null,
            "overflow_y": null,
            "padding": null,
            "right": null,
            "top": null,
            "visibility": null,
            "width": null
          }
        },
        "1d7c8cef05d1457ea173dcf579970f2b": {
          "model_module": "@jupyter-widgets/controls",
          "model_name": "DescriptionStyleModel",
          "model_module_version": "1.5.0",
          "state": {
            "_model_module": "@jupyter-widgets/controls",
            "_model_module_version": "1.5.0",
            "_model_name": "DescriptionStyleModel",
            "_view_count": null,
            "_view_module": "@jupyter-widgets/base",
            "_view_module_version": "1.2.0",
            "_view_name": "StyleView",
            "description_width": ""
          }
        },
        "b49e8a2752ec4756a3eda09b13d0fa18": {
          "model_module": "@jupyter-widgets/controls",
          "model_name": "HBoxModel",
          "model_module_version": "1.5.0",
          "state": {
            "_dom_classes": [],
            "_model_module": "@jupyter-widgets/controls",
            "_model_module_version": "1.5.0",
            "_model_name": "HBoxModel",
            "_view_count": null,
            "_view_module": "@jupyter-widgets/controls",
            "_view_module_version": "1.5.0",
            "_view_name": "HBoxView",
            "box_style": "",
            "children": [
              "IPY_MODEL_254a7cb13ae141b791a189dacfa1e26b",
              "IPY_MODEL_452b0dd7c5a14b2190a1d958f312f998",
              "IPY_MODEL_e01c81f3912d4a3e830ad35a27c63724"
            ],
            "layout": "IPY_MODEL_63e0b506049845db8bef83a5d804902d"
          }
        },
        "254a7cb13ae141b791a189dacfa1e26b": {
          "model_module": "@jupyter-widgets/controls",
          "model_name": "HTMLModel",
          "model_module_version": "1.5.0",
          "state": {
            "_dom_classes": [],
            "_model_module": "@jupyter-widgets/controls",
            "_model_module_version": "1.5.0",
            "_model_name": "HTMLModel",
            "_view_count": null,
            "_view_module": "@jupyter-widgets/controls",
            "_view_module_version": "1.5.0",
            "_view_name": "HTMLView",
            "description": "",
            "description_tooltip": null,
            "layout": "IPY_MODEL_90196df2977f4078a4801d2db8f3bbb6",
            "placeholder": "​",
            "style": "IPY_MODEL_cf6e13d84ad845058c1ebb52e3757726",
            "value": "Map: 100%"
          }
        },
        "452b0dd7c5a14b2190a1d958f312f998": {
          "model_module": "@jupyter-widgets/controls",
          "model_name": "FloatProgressModel",
          "model_module_version": "1.5.0",
          "state": {
            "_dom_classes": [],
            "_model_module": "@jupyter-widgets/controls",
            "_model_module_version": "1.5.0",
            "_model_name": "FloatProgressModel",
            "_view_count": null,
            "_view_module": "@jupyter-widgets/controls",
            "_view_module_version": "1.5.0",
            "_view_name": "ProgressView",
            "bar_style": "success",
            "description": "",
            "description_tooltip": null,
            "layout": "IPY_MODEL_53e4298df8c44e5cb1a4a26a2c01f73c",
            "max": 480,
            "min": 0,
            "orientation": "horizontal",
            "style": "IPY_MODEL_ee0d88dd42a54d1d9196b7ff3dbe16f8",
            "value": 480
          }
        },
        "e01c81f3912d4a3e830ad35a27c63724": {
          "model_module": "@jupyter-widgets/controls",
          "model_name": "HTMLModel",
          "model_module_version": "1.5.0",
          "state": {
            "_dom_classes": [],
            "_model_module": "@jupyter-widgets/controls",
            "_model_module_version": "1.5.0",
            "_model_name": "HTMLModel",
            "_view_count": null,
            "_view_module": "@jupyter-widgets/controls",
            "_view_module_version": "1.5.0",
            "_view_name": "HTMLView",
            "description": "",
            "description_tooltip": null,
            "layout": "IPY_MODEL_47a5012db84748ce99b61209cd7c2f4a",
            "placeholder": "​",
            "style": "IPY_MODEL_39ea70f41799405d8bcb4d526cbcc816",
            "value": " 480/480 [00:00&lt;00:00, 12618.24 examples/s]"
          }
        },
        "63e0b506049845db8bef83a5d804902d": {
          "model_module": "@jupyter-widgets/base",
          "model_name": "LayoutModel",
          "model_module_version": "1.2.0",
          "state": {
            "_model_module": "@jupyter-widgets/base",
            "_model_module_version": "1.2.0",
            "_model_name": "LayoutModel",
            "_view_count": null,
            "_view_module": "@jupyter-widgets/base",
            "_view_module_version": "1.2.0",
            "_view_name": "LayoutView",
            "align_content": null,
            "align_items": null,
            "align_self": null,
            "border": null,
            "bottom": null,
            "display": null,
            "flex": null,
            "flex_flow": null,
            "grid_area": null,
            "grid_auto_columns": null,
            "grid_auto_flow": null,
            "grid_auto_rows": null,
            "grid_column": null,
            "grid_gap": null,
            "grid_row": null,
            "grid_template_areas": null,
            "grid_template_columns": null,
            "grid_template_rows": null,
            "height": null,
            "justify_content": null,
            "justify_items": null,
            "left": null,
            "margin": null,
            "max_height": null,
            "max_width": null,
            "min_height": null,
            "min_width": null,
            "object_fit": null,
            "object_position": null,
            "order": null,
            "overflow": null,
            "overflow_x": null,
            "overflow_y": null,
            "padding": null,
            "right": null,
            "top": null,
            "visibility": null,
            "width": null
          }
        },
        "90196df2977f4078a4801d2db8f3bbb6": {
          "model_module": "@jupyter-widgets/base",
          "model_name": "LayoutModel",
          "model_module_version": "1.2.0",
          "state": {
            "_model_module": "@jupyter-widgets/base",
            "_model_module_version": "1.2.0",
            "_model_name": "LayoutModel",
            "_view_count": null,
            "_view_module": "@jupyter-widgets/base",
            "_view_module_version": "1.2.0",
            "_view_name": "LayoutView",
            "align_content": null,
            "align_items": null,
            "align_self": null,
            "border": null,
            "bottom": null,
            "display": null,
            "flex": null,
            "flex_flow": null,
            "grid_area": null,
            "grid_auto_columns": null,
            "grid_auto_flow": null,
            "grid_auto_rows": null,
            "grid_column": null,
            "grid_gap": null,
            "grid_row": null,
            "grid_template_areas": null,
            "grid_template_columns": null,
            "grid_template_rows": null,
            "height": null,
            "justify_content": null,
            "justify_items": null,
            "left": null,
            "margin": null,
            "max_height": null,
            "max_width": null,
            "min_height": null,
            "min_width": null,
            "object_fit": null,
            "object_position": null,
            "order": null,
            "overflow": null,
            "overflow_x": null,
            "overflow_y": null,
            "padding": null,
            "right": null,
            "top": null,
            "visibility": null,
            "width": null
          }
        },
        "cf6e13d84ad845058c1ebb52e3757726": {
          "model_module": "@jupyter-widgets/controls",
          "model_name": "DescriptionStyleModel",
          "model_module_version": "1.5.0",
          "state": {
            "_model_module": "@jupyter-widgets/controls",
            "_model_module_version": "1.5.0",
            "_model_name": "DescriptionStyleModel",
            "_view_count": null,
            "_view_module": "@jupyter-widgets/base",
            "_view_module_version": "1.2.0",
            "_view_name": "StyleView",
            "description_width": ""
          }
        },
        "53e4298df8c44e5cb1a4a26a2c01f73c": {
          "model_module": "@jupyter-widgets/base",
          "model_name": "LayoutModel",
          "model_module_version": "1.2.0",
          "state": {
            "_model_module": "@jupyter-widgets/base",
            "_model_module_version": "1.2.0",
            "_model_name": "LayoutModel",
            "_view_count": null,
            "_view_module": "@jupyter-widgets/base",
            "_view_module_version": "1.2.0",
            "_view_name": "LayoutView",
            "align_content": null,
            "align_items": null,
            "align_self": null,
            "border": null,
            "bottom": null,
            "display": null,
            "flex": null,
            "flex_flow": null,
            "grid_area": null,
            "grid_auto_columns": null,
            "grid_auto_flow": null,
            "grid_auto_rows": null,
            "grid_column": null,
            "grid_gap": null,
            "grid_row": null,
            "grid_template_areas": null,
            "grid_template_columns": null,
            "grid_template_rows": null,
            "height": null,
            "justify_content": null,
            "justify_items": null,
            "left": null,
            "margin": null,
            "max_height": null,
            "max_width": null,
            "min_height": null,
            "min_width": null,
            "object_fit": null,
            "object_position": null,
            "order": null,
            "overflow": null,
            "overflow_x": null,
            "overflow_y": null,
            "padding": null,
            "right": null,
            "top": null,
            "visibility": null,
            "width": null
          }
        },
        "ee0d88dd42a54d1d9196b7ff3dbe16f8": {
          "model_module": "@jupyter-widgets/controls",
          "model_name": "ProgressStyleModel",
          "model_module_version": "1.5.0",
          "state": {
            "_model_module": "@jupyter-widgets/controls",
            "_model_module_version": "1.5.0",
            "_model_name": "ProgressStyleModel",
            "_view_count": null,
            "_view_module": "@jupyter-widgets/base",
            "_view_module_version": "1.2.0",
            "_view_name": "StyleView",
            "bar_color": null,
            "description_width": ""
          }
        },
        "47a5012db84748ce99b61209cd7c2f4a": {
          "model_module": "@jupyter-widgets/base",
          "model_name": "LayoutModel",
          "model_module_version": "1.2.0",
          "state": {
            "_model_module": "@jupyter-widgets/base",
            "_model_module_version": "1.2.0",
            "_model_name": "LayoutModel",
            "_view_count": null,
            "_view_module": "@jupyter-widgets/base",
            "_view_module_version": "1.2.0",
            "_view_name": "LayoutView",
            "align_content": null,
            "align_items": null,
            "align_self": null,
            "border": null,
            "bottom": null,
            "display": null,
            "flex": null,
            "flex_flow": null,
            "grid_area": null,
            "grid_auto_columns": null,
            "grid_auto_flow": null,
            "grid_auto_rows": null,
            "grid_column": null,
            "grid_gap": null,
            "grid_row": null,
            "grid_template_areas": null,
            "grid_template_columns": null,
            "grid_template_rows": null,
            "height": null,
            "justify_content": null,
            "justify_items": null,
            "left": null,
            "margin": null,
            "max_height": null,
            "max_width": null,
            "min_height": null,
            "min_width": null,
            "object_fit": null,
            "object_position": null,
            "order": null,
            "overflow": null,
            "overflow_x": null,
            "overflow_y": null,
            "padding": null,
            "right": null,
            "top": null,
            "visibility": null,
            "width": null
          }
        },
        "39ea70f41799405d8bcb4d526cbcc816": {
          "model_module": "@jupyter-widgets/controls",
          "model_name": "DescriptionStyleModel",
          "model_module_version": "1.5.0",
          "state": {
            "_model_module": "@jupyter-widgets/controls",
            "_model_module_version": "1.5.0",
            "_model_name": "DescriptionStyleModel",
            "_view_count": null,
            "_view_module": "@jupyter-widgets/base",
            "_view_module_version": "1.2.0",
            "_view_name": "StyleView",
            "description_width": ""
          }
        },
        "f49fcb8cc93e4e3dbcb8c0c433e826f7": {
          "model_module": "@jupyter-widgets/controls",
          "model_name": "HBoxModel",
          "model_module_version": "1.5.0",
          "state": {
            "_dom_classes": [],
            "_model_module": "@jupyter-widgets/controls",
            "_model_module_version": "1.5.0",
            "_model_name": "HBoxModel",
            "_view_count": null,
            "_view_module": "@jupyter-widgets/controls",
            "_view_module_version": "1.5.0",
            "_view_name": "HBoxView",
            "box_style": "",
            "children": [
              "IPY_MODEL_83be297259a64486b9aec8f087d6c984",
              "IPY_MODEL_07f5114441034a92a31232dee20e6e96",
              "IPY_MODEL_a3151f8c8b6f4f6db929b8bd1de04699"
            ],
            "layout": "IPY_MODEL_f7c93c42c9a14f4fbdda8c76ba33f84b"
          }
        },
        "83be297259a64486b9aec8f087d6c984": {
          "model_module": "@jupyter-widgets/controls",
          "model_name": "HTMLModel",
          "model_module_version": "1.5.0",
          "state": {
            "_dom_classes": [],
            "_model_module": "@jupyter-widgets/controls",
            "_model_module_version": "1.5.0",
            "_model_name": "HTMLModel",
            "_view_count": null,
            "_view_module": "@jupyter-widgets/controls",
            "_view_module_version": "1.5.0",
            "_view_name": "HTMLView",
            "description": "",
            "description_tooltip": null,
            "layout": "IPY_MODEL_243e6ce7664f41be91df786a576ffc3d",
            "placeholder": "​",
            "style": "IPY_MODEL_e5094598f8b74c4ba8334f31b0270482",
            "value": "Map: 100%"
          }
        },
        "07f5114441034a92a31232dee20e6e96": {
          "model_module": "@jupyter-widgets/controls",
          "model_name": "FloatProgressModel",
          "model_module_version": "1.5.0",
          "state": {
            "_dom_classes": [],
            "_model_module": "@jupyter-widgets/controls",
            "_model_module_version": "1.5.0",
            "_model_name": "FloatProgressModel",
            "_view_count": null,
            "_view_module": "@jupyter-widgets/controls",
            "_view_module_version": "1.5.0",
            "_view_name": "ProgressView",
            "bar_style": "success",
            "description": "",
            "description_tooltip": null,
            "layout": "IPY_MODEL_c92028fe58c9439bb2d43d299651fbe8",
            "max": 120,
            "min": 0,
            "orientation": "horizontal",
            "style": "IPY_MODEL_8b78179c753547fdb6121747227d7587",
            "value": 120
          }
        },
        "a3151f8c8b6f4f6db929b8bd1de04699": {
          "model_module": "@jupyter-widgets/controls",
          "model_name": "HTMLModel",
          "model_module_version": "1.5.0",
          "state": {
            "_dom_classes": [],
            "_model_module": "@jupyter-widgets/controls",
            "_model_module_version": "1.5.0",
            "_model_name": "HTMLModel",
            "_view_count": null,
            "_view_module": "@jupyter-widgets/controls",
            "_view_module_version": "1.5.0",
            "_view_name": "HTMLView",
            "description": "",
            "description_tooltip": null,
            "layout": "IPY_MODEL_0662209a58e6437081c3fc2ef5b2ff23",
            "placeholder": "​",
            "style": "IPY_MODEL_32dbb334a6824cb8bb9d807bf56b49ef",
            "value": " 120/120 [00:00&lt;00:00, 5036.34 examples/s]"
          }
        },
        "f7c93c42c9a14f4fbdda8c76ba33f84b": {
          "model_module": "@jupyter-widgets/base",
          "model_name": "LayoutModel",
          "model_module_version": "1.2.0",
          "state": {
            "_model_module": "@jupyter-widgets/base",
            "_model_module_version": "1.2.0",
            "_model_name": "LayoutModel",
            "_view_count": null,
            "_view_module": "@jupyter-widgets/base",
            "_view_module_version": "1.2.0",
            "_view_name": "LayoutView",
            "align_content": null,
            "align_items": null,
            "align_self": null,
            "border": null,
            "bottom": null,
            "display": null,
            "flex": null,
            "flex_flow": null,
            "grid_area": null,
            "grid_auto_columns": null,
            "grid_auto_flow": null,
            "grid_auto_rows": null,
            "grid_column": null,
            "grid_gap": null,
            "grid_row": null,
            "grid_template_areas": null,
            "grid_template_columns": null,
            "grid_template_rows": null,
            "height": null,
            "justify_content": null,
            "justify_items": null,
            "left": null,
            "margin": null,
            "max_height": null,
            "max_width": null,
            "min_height": null,
            "min_width": null,
            "object_fit": null,
            "object_position": null,
            "order": null,
            "overflow": null,
            "overflow_x": null,
            "overflow_y": null,
            "padding": null,
            "right": null,
            "top": null,
            "visibility": null,
            "width": null
          }
        },
        "243e6ce7664f41be91df786a576ffc3d": {
          "model_module": "@jupyter-widgets/base",
          "model_name": "LayoutModel",
          "model_module_version": "1.2.0",
          "state": {
            "_model_module": "@jupyter-widgets/base",
            "_model_module_version": "1.2.0",
            "_model_name": "LayoutModel",
            "_view_count": null,
            "_view_module": "@jupyter-widgets/base",
            "_view_module_version": "1.2.0",
            "_view_name": "LayoutView",
            "align_content": null,
            "align_items": null,
            "align_self": null,
            "border": null,
            "bottom": null,
            "display": null,
            "flex": null,
            "flex_flow": null,
            "grid_area": null,
            "grid_auto_columns": null,
            "grid_auto_flow": null,
            "grid_auto_rows": null,
            "grid_column": null,
            "grid_gap": null,
            "grid_row": null,
            "grid_template_areas": null,
            "grid_template_columns": null,
            "grid_template_rows": null,
            "height": null,
            "justify_content": null,
            "justify_items": null,
            "left": null,
            "margin": null,
            "max_height": null,
            "max_width": null,
            "min_height": null,
            "min_width": null,
            "object_fit": null,
            "object_position": null,
            "order": null,
            "overflow": null,
            "overflow_x": null,
            "overflow_y": null,
            "padding": null,
            "right": null,
            "top": null,
            "visibility": null,
            "width": null
          }
        },
        "e5094598f8b74c4ba8334f31b0270482": {
          "model_module": "@jupyter-widgets/controls",
          "model_name": "DescriptionStyleModel",
          "model_module_version": "1.5.0",
          "state": {
            "_model_module": "@jupyter-widgets/controls",
            "_model_module_version": "1.5.0",
            "_model_name": "DescriptionStyleModel",
            "_view_count": null,
            "_view_module": "@jupyter-widgets/base",
            "_view_module_version": "1.2.0",
            "_view_name": "StyleView",
            "description_width": ""
          }
        },
        "c92028fe58c9439bb2d43d299651fbe8": {
          "model_module": "@jupyter-widgets/base",
          "model_name": "LayoutModel",
          "model_module_version": "1.2.0",
          "state": {
            "_model_module": "@jupyter-widgets/base",
            "_model_module_version": "1.2.0",
            "_model_name": "LayoutModel",
            "_view_count": null,
            "_view_module": "@jupyter-widgets/base",
            "_view_module_version": "1.2.0",
            "_view_name": "LayoutView",
            "align_content": null,
            "align_items": null,
            "align_self": null,
            "border": null,
            "bottom": null,
            "display": null,
            "flex": null,
            "flex_flow": null,
            "grid_area": null,
            "grid_auto_columns": null,
            "grid_auto_flow": null,
            "grid_auto_rows": null,
            "grid_column": null,
            "grid_gap": null,
            "grid_row": null,
            "grid_template_areas": null,
            "grid_template_columns": null,
            "grid_template_rows": null,
            "height": null,
            "justify_content": null,
            "justify_items": null,
            "left": null,
            "margin": null,
            "max_height": null,
            "max_width": null,
            "min_height": null,
            "min_width": null,
            "object_fit": null,
            "object_position": null,
            "order": null,
            "overflow": null,
            "overflow_x": null,
            "overflow_y": null,
            "padding": null,
            "right": null,
            "top": null,
            "visibility": null,
            "width": null
          }
        },
        "8b78179c753547fdb6121747227d7587": {
          "model_module": "@jupyter-widgets/controls",
          "model_name": "ProgressStyleModel",
          "model_module_version": "1.5.0",
          "state": {
            "_model_module": "@jupyter-widgets/controls",
            "_model_module_version": "1.5.0",
            "_model_name": "ProgressStyleModel",
            "_view_count": null,
            "_view_module": "@jupyter-widgets/base",
            "_view_module_version": "1.2.0",
            "_view_name": "StyleView",
            "bar_color": null,
            "description_width": ""
          }
        },
        "0662209a58e6437081c3fc2ef5b2ff23": {
          "model_module": "@jupyter-widgets/base",
          "model_name": "LayoutModel",
          "model_module_version": "1.2.0",
          "state": {
            "_model_module": "@jupyter-widgets/base",
            "_model_module_version": "1.2.0",
            "_model_name": "LayoutModel",
            "_view_count": null,
            "_view_module": "@jupyter-widgets/base",
            "_view_module_version": "1.2.0",
            "_view_name": "LayoutView",
            "align_content": null,
            "align_items": null,
            "align_self": null,
            "border": null,
            "bottom": null,
            "display": null,
            "flex": null,
            "flex_flow": null,
            "grid_area": null,
            "grid_auto_columns": null,
            "grid_auto_flow": null,
            "grid_auto_rows": null,
            "grid_column": null,
            "grid_gap": null,
            "grid_row": null,
            "grid_template_areas": null,
            "grid_template_columns": null,
            "grid_template_rows": null,
            "height": null,
            "justify_content": null,
            "justify_items": null,
            "left": null,
            "margin": null,
            "max_height": null,
            "max_width": null,
            "min_height": null,
            "min_width": null,
            "object_fit": null,
            "object_position": null,
            "order": null,
            "overflow": null,
            "overflow_x": null,
            "overflow_y": null,
            "padding": null,
            "right": null,
            "top": null,
            "visibility": null,
            "width": null
          }
        },
        "32dbb334a6824cb8bb9d807bf56b49ef": {
          "model_module": "@jupyter-widgets/controls",
          "model_name": "DescriptionStyleModel",
          "model_module_version": "1.5.0",
          "state": {
            "_model_module": "@jupyter-widgets/controls",
            "_model_module_version": "1.5.0",
            "_model_name": "DescriptionStyleModel",
            "_view_count": null,
            "_view_module": "@jupyter-widgets/base",
            "_view_module_version": "1.2.0",
            "_view_name": "StyleView",
            "description_width": ""
          }
        },
        "9ab396c6e1604c8cb092c2fe14499dc4": {
          "model_module": "@jupyter-widgets/controls",
          "model_name": "HBoxModel",
          "model_module_version": "1.5.0",
          "state": {
            "_dom_classes": [],
            "_model_module": "@jupyter-widgets/controls",
            "_model_module_version": "1.5.0",
            "_model_name": "HBoxModel",
            "_view_count": null,
            "_view_module": "@jupyter-widgets/controls",
            "_view_module_version": "1.5.0",
            "_view_name": "HBoxView",
            "box_style": "",
            "children": [
              "IPY_MODEL_894bade6b0da47c392775f8c077993f7",
              "IPY_MODEL_fee6a354cf444566857fb162ccc119b4",
              "IPY_MODEL_3ed6d76356324f19a1dd830f1f7d7a5d"
            ],
            "layout": "IPY_MODEL_249b59b8965949e78c9d7a13b1eab7c2"
          }
        },
        "894bade6b0da47c392775f8c077993f7": {
          "model_module": "@jupyter-widgets/controls",
          "model_name": "HTMLModel",
          "model_module_version": "1.5.0",
          "state": {
            "_dom_classes": [],
            "_model_module": "@jupyter-widgets/controls",
            "_model_module_version": "1.5.0",
            "_model_name": "HTMLModel",
            "_view_count": null,
            "_view_module": "@jupyter-widgets/controls",
            "_view_module_version": "1.5.0",
            "_view_name": "HTMLView",
            "description": "",
            "description_tooltip": null,
            "layout": "IPY_MODEL_8eb4883134da4c6c9e578c144a5df65e",
            "placeholder": "​",
            "style": "IPY_MODEL_e36decf043cf45f58d8a8f609dad2dc7",
            "value": "config.json: 100%"
          }
        },
        "fee6a354cf444566857fb162ccc119b4": {
          "model_module": "@jupyter-widgets/controls",
          "model_name": "FloatProgressModel",
          "model_module_version": "1.5.0",
          "state": {
            "_dom_classes": [],
            "_model_module": "@jupyter-widgets/controls",
            "_model_module_version": "1.5.0",
            "_model_name": "FloatProgressModel",
            "_view_count": null,
            "_view_module": "@jupyter-widgets/controls",
            "_view_module_version": "1.5.0",
            "_view_name": "ProgressView",
            "bar_style": "success",
            "description": "",
            "description_tooltip": null,
            "layout": "IPY_MODEL_f749d93453c14c45b79784b897a60d5a",
            "max": 569,
            "min": 0,
            "orientation": "horizontal",
            "style": "IPY_MODEL_20709c38993e4ac6a8862b85cf811601",
            "value": 569
          }
        },
        "3ed6d76356324f19a1dd830f1f7d7a5d": {
          "model_module": "@jupyter-widgets/controls",
          "model_name": "HTMLModel",
          "model_module_version": "1.5.0",
          "state": {
            "_dom_classes": [],
            "_model_module": "@jupyter-widgets/controls",
            "_model_module_version": "1.5.0",
            "_model_name": "HTMLModel",
            "_view_count": null,
            "_view_module": "@jupyter-widgets/controls",
            "_view_module_version": "1.5.0",
            "_view_name": "HTMLView",
            "description": "",
            "description_tooltip": null,
            "layout": "IPY_MODEL_e8bfccc3ab9e4a659273511685358e60",
            "placeholder": "​",
            "style": "IPY_MODEL_ab166b01194448e2ab1a025d3710f2c9",
            "value": " 569/569 [00:00&lt;00:00, 43.8kB/s]"
          }
        },
        "249b59b8965949e78c9d7a13b1eab7c2": {
          "model_module": "@jupyter-widgets/base",
          "model_name": "LayoutModel",
          "model_module_version": "1.2.0",
          "state": {
            "_model_module": "@jupyter-widgets/base",
            "_model_module_version": "1.2.0",
            "_model_name": "LayoutModel",
            "_view_count": null,
            "_view_module": "@jupyter-widgets/base",
            "_view_module_version": "1.2.0",
            "_view_name": "LayoutView",
            "align_content": null,
            "align_items": null,
            "align_self": null,
            "border": null,
            "bottom": null,
            "display": null,
            "flex": null,
            "flex_flow": null,
            "grid_area": null,
            "grid_auto_columns": null,
            "grid_auto_flow": null,
            "grid_auto_rows": null,
            "grid_column": null,
            "grid_gap": null,
            "grid_row": null,
            "grid_template_areas": null,
            "grid_template_columns": null,
            "grid_template_rows": null,
            "height": null,
            "justify_content": null,
            "justify_items": null,
            "left": null,
            "margin": null,
            "max_height": null,
            "max_width": null,
            "min_height": null,
            "min_width": null,
            "object_fit": null,
            "object_position": null,
            "order": null,
            "overflow": null,
            "overflow_x": null,
            "overflow_y": null,
            "padding": null,
            "right": null,
            "top": null,
            "visibility": null,
            "width": null
          }
        },
        "8eb4883134da4c6c9e578c144a5df65e": {
          "model_module": "@jupyter-widgets/base",
          "model_name": "LayoutModel",
          "model_module_version": "1.2.0",
          "state": {
            "_model_module": "@jupyter-widgets/base",
            "_model_module_version": "1.2.0",
            "_model_name": "LayoutModel",
            "_view_count": null,
            "_view_module": "@jupyter-widgets/base",
            "_view_module_version": "1.2.0",
            "_view_name": "LayoutView",
            "align_content": null,
            "align_items": null,
            "align_self": null,
            "border": null,
            "bottom": null,
            "display": null,
            "flex": null,
            "flex_flow": null,
            "grid_area": null,
            "grid_auto_columns": null,
            "grid_auto_flow": null,
            "grid_auto_rows": null,
            "grid_column": null,
            "grid_gap": null,
            "grid_row": null,
            "grid_template_areas": null,
            "grid_template_columns": null,
            "grid_template_rows": null,
            "height": null,
            "justify_content": null,
            "justify_items": null,
            "left": null,
            "margin": null,
            "max_height": null,
            "max_width": null,
            "min_height": null,
            "min_width": null,
            "object_fit": null,
            "object_position": null,
            "order": null,
            "overflow": null,
            "overflow_x": null,
            "overflow_y": null,
            "padding": null,
            "right": null,
            "top": null,
            "visibility": null,
            "width": null
          }
        },
        "e36decf043cf45f58d8a8f609dad2dc7": {
          "model_module": "@jupyter-widgets/controls",
          "model_name": "DescriptionStyleModel",
          "model_module_version": "1.5.0",
          "state": {
            "_model_module": "@jupyter-widgets/controls",
            "_model_module_version": "1.5.0",
            "_model_name": "DescriptionStyleModel",
            "_view_count": null,
            "_view_module": "@jupyter-widgets/base",
            "_view_module_version": "1.2.0",
            "_view_name": "StyleView",
            "description_width": ""
          }
        },
        "f749d93453c14c45b79784b897a60d5a": {
          "model_module": "@jupyter-widgets/base",
          "model_name": "LayoutModel",
          "model_module_version": "1.2.0",
          "state": {
            "_model_module": "@jupyter-widgets/base",
            "_model_module_version": "1.2.0",
            "_model_name": "LayoutModel",
            "_view_count": null,
            "_view_module": "@jupyter-widgets/base",
            "_view_module_version": "1.2.0",
            "_view_name": "LayoutView",
            "align_content": null,
            "align_items": null,
            "align_self": null,
            "border": null,
            "bottom": null,
            "display": null,
            "flex": null,
            "flex_flow": null,
            "grid_area": null,
            "grid_auto_columns": null,
            "grid_auto_flow": null,
            "grid_auto_rows": null,
            "grid_column": null,
            "grid_gap": null,
            "grid_row": null,
            "grid_template_areas": null,
            "grid_template_columns": null,
            "grid_template_rows": null,
            "height": null,
            "justify_content": null,
            "justify_items": null,
            "left": null,
            "margin": null,
            "max_height": null,
            "max_width": null,
            "min_height": null,
            "min_width": null,
            "object_fit": null,
            "object_position": null,
            "order": null,
            "overflow": null,
            "overflow_x": null,
            "overflow_y": null,
            "padding": null,
            "right": null,
            "top": null,
            "visibility": null,
            "width": null
          }
        },
        "20709c38993e4ac6a8862b85cf811601": {
          "model_module": "@jupyter-widgets/controls",
          "model_name": "ProgressStyleModel",
          "model_module_version": "1.5.0",
          "state": {
            "_model_module": "@jupyter-widgets/controls",
            "_model_module_version": "1.5.0",
            "_model_name": "ProgressStyleModel",
            "_view_count": null,
            "_view_module": "@jupyter-widgets/base",
            "_view_module_version": "1.2.0",
            "_view_name": "StyleView",
            "bar_color": null,
            "description_width": ""
          }
        },
        "e8bfccc3ab9e4a659273511685358e60": {
          "model_module": "@jupyter-widgets/base",
          "model_name": "LayoutModel",
          "model_module_version": "1.2.0",
          "state": {
            "_model_module": "@jupyter-widgets/base",
            "_model_module_version": "1.2.0",
            "_model_name": "LayoutModel",
            "_view_count": null,
            "_view_module": "@jupyter-widgets/base",
            "_view_module_version": "1.2.0",
            "_view_name": "LayoutView",
            "align_content": null,
            "align_items": null,
            "align_self": null,
            "border": null,
            "bottom": null,
            "display": null,
            "flex": null,
            "flex_flow": null,
            "grid_area": null,
            "grid_auto_columns": null,
            "grid_auto_flow": null,
            "grid_auto_rows": null,
            "grid_column": null,
            "grid_gap": null,
            "grid_row": null,
            "grid_template_areas": null,
            "grid_template_columns": null,
            "grid_template_rows": null,
            "height": null,
            "justify_content": null,
            "justify_items": null,
            "left": null,
            "margin": null,
            "max_height": null,
            "max_width": null,
            "min_height": null,
            "min_width": null,
            "object_fit": null,
            "object_position": null,
            "order": null,
            "overflow": null,
            "overflow_x": null,
            "overflow_y": null,
            "padding": null,
            "right": null,
            "top": null,
            "visibility": null,
            "width": null
          }
        },
        "ab166b01194448e2ab1a025d3710f2c9": {
          "model_module": "@jupyter-widgets/controls",
          "model_name": "DescriptionStyleModel",
          "model_module_version": "1.5.0",
          "state": {
            "_model_module": "@jupyter-widgets/controls",
            "_model_module_version": "1.5.0",
            "_model_name": "DescriptionStyleModel",
            "_view_count": null,
            "_view_module": "@jupyter-widgets/base",
            "_view_module_version": "1.2.0",
            "_view_name": "StyleView",
            "description_width": ""
          }
        },
        "b691e49e5c444805889815d8b51ff2d9": {
          "model_module": "@jupyter-widgets/controls",
          "model_name": "HBoxModel",
          "model_module_version": "1.5.0",
          "state": {
            "_dom_classes": [],
            "_model_module": "@jupyter-widgets/controls",
            "_model_module_version": "1.5.0",
            "_model_name": "HBoxModel",
            "_view_count": null,
            "_view_module": "@jupyter-widgets/controls",
            "_view_module_version": "1.5.0",
            "_view_name": "HBoxView",
            "box_style": "",
            "children": [
              "IPY_MODEL_8cba553d4949441dabffa7981e9604df",
              "IPY_MODEL_468d357be21847c3939dcb9759e80086",
              "IPY_MODEL_de49bf4945a945489474e8fd6d964c6f"
            ],
            "layout": "IPY_MODEL_5d8f5f383e144d8580e9ac760a1e5a3a"
          }
        },
        "8cba553d4949441dabffa7981e9604df": {
          "model_module": "@jupyter-widgets/controls",
          "model_name": "HTMLModel",
          "model_module_version": "1.5.0",
          "state": {
            "_dom_classes": [],
            "_model_module": "@jupyter-widgets/controls",
            "_model_module_version": "1.5.0",
            "_model_name": "HTMLModel",
            "_view_count": null,
            "_view_module": "@jupyter-widgets/controls",
            "_view_module_version": "1.5.0",
            "_view_name": "HTMLView",
            "description": "",
            "description_tooltip": null,
            "layout": "IPY_MODEL_1bb64fc93672471b88971166af306e63",
            "placeholder": "​",
            "style": "IPY_MODEL_b379d7dff5d2477ea9652822208fc1f5",
            "value": "model.safetensors: 100%"
          }
        },
        "468d357be21847c3939dcb9759e80086": {
          "model_module": "@jupyter-widgets/controls",
          "model_name": "FloatProgressModel",
          "model_module_version": "1.5.0",
          "state": {
            "_dom_classes": [],
            "_model_module": "@jupyter-widgets/controls",
            "_model_module_version": "1.5.0",
            "_model_name": "FloatProgressModel",
            "_view_count": null,
            "_view_module": "@jupyter-widgets/controls",
            "_view_module_version": "1.5.0",
            "_view_name": "ProgressView",
            "bar_style": "success",
            "description": "",
            "description_tooltip": null,
            "layout": "IPY_MODEL_d2c6930365f84778906269c72285a045",
            "max": 374998696,
            "min": 0,
            "orientation": "horizontal",
            "style": "IPY_MODEL_3388ffae642945f880f534d534031756",
            "value": 374998696
          }
        },
        "de49bf4945a945489474e8fd6d964c6f": {
          "model_module": "@jupyter-widgets/controls",
          "model_name": "HTMLModel",
          "model_module_version": "1.5.0",
          "state": {
            "_dom_classes": [],
            "_model_module": "@jupyter-widgets/controls",
            "_model_module_version": "1.5.0",
            "_model_name": "HTMLModel",
            "_view_count": null,
            "_view_module": "@jupyter-widgets/controls",
            "_view_module_version": "1.5.0",
            "_view_name": "HTMLView",
            "description": "",
            "description_tooltip": null,
            "layout": "IPY_MODEL_b297d2dfdf5f4593ab1ec797cedde415",
            "placeholder": "​",
            "style": "IPY_MODEL_d7f64447b0914670a2622b103aafa0f2",
            "value": " 375M/375M [00:01&lt;00:00, 378MB/s]"
          }
        },
        "5d8f5f383e144d8580e9ac760a1e5a3a": {
          "model_module": "@jupyter-widgets/base",
          "model_name": "LayoutModel",
          "model_module_version": "1.2.0",
          "state": {
            "_model_module": "@jupyter-widgets/base",
            "_model_module_version": "1.2.0",
            "_model_name": "LayoutModel",
            "_view_count": null,
            "_view_module": "@jupyter-widgets/base",
            "_view_module_version": "1.2.0",
            "_view_name": "LayoutView",
            "align_content": null,
            "align_items": null,
            "align_self": null,
            "border": null,
            "bottom": null,
            "display": null,
            "flex": null,
            "flex_flow": null,
            "grid_area": null,
            "grid_auto_columns": null,
            "grid_auto_flow": null,
            "grid_auto_rows": null,
            "grid_column": null,
            "grid_gap": null,
            "grid_row": null,
            "grid_template_areas": null,
            "grid_template_columns": null,
            "grid_template_rows": null,
            "height": null,
            "justify_content": null,
            "justify_items": null,
            "left": null,
            "margin": null,
            "max_height": null,
            "max_width": null,
            "min_height": null,
            "min_width": null,
            "object_fit": null,
            "object_position": null,
            "order": null,
            "overflow": null,
            "overflow_x": null,
            "overflow_y": null,
            "padding": null,
            "right": null,
            "top": null,
            "visibility": null,
            "width": null
          }
        },
        "1bb64fc93672471b88971166af306e63": {
          "model_module": "@jupyter-widgets/base",
          "model_name": "LayoutModel",
          "model_module_version": "1.2.0",
          "state": {
            "_model_module": "@jupyter-widgets/base",
            "_model_module_version": "1.2.0",
            "_model_name": "LayoutModel",
            "_view_count": null,
            "_view_module": "@jupyter-widgets/base",
            "_view_module_version": "1.2.0",
            "_view_name": "LayoutView",
            "align_content": null,
            "align_items": null,
            "align_self": null,
            "border": null,
            "bottom": null,
            "display": null,
            "flex": null,
            "flex_flow": null,
            "grid_area": null,
            "grid_auto_columns": null,
            "grid_auto_flow": null,
            "grid_auto_rows": null,
            "grid_column": null,
            "grid_gap": null,
            "grid_row": null,
            "grid_template_areas": null,
            "grid_template_columns": null,
            "grid_template_rows": null,
            "height": null,
            "justify_content": null,
            "justify_items": null,
            "left": null,
            "margin": null,
            "max_height": null,
            "max_width": null,
            "min_height": null,
            "min_width": null,
            "object_fit": null,
            "object_position": null,
            "order": null,
            "overflow": null,
            "overflow_x": null,
            "overflow_y": null,
            "padding": null,
            "right": null,
            "top": null,
            "visibility": null,
            "width": null
          }
        },
        "b379d7dff5d2477ea9652822208fc1f5": {
          "model_module": "@jupyter-widgets/controls",
          "model_name": "DescriptionStyleModel",
          "model_module_version": "1.5.0",
          "state": {
            "_model_module": "@jupyter-widgets/controls",
            "_model_module_version": "1.5.0",
            "_model_name": "DescriptionStyleModel",
            "_view_count": null,
            "_view_module": "@jupyter-widgets/base",
            "_view_module_version": "1.2.0",
            "_view_name": "StyleView",
            "description_width": ""
          }
        },
        "d2c6930365f84778906269c72285a045": {
          "model_module": "@jupyter-widgets/base",
          "model_name": "LayoutModel",
          "model_module_version": "1.2.0",
          "state": {
            "_model_module": "@jupyter-widgets/base",
            "_model_module_version": "1.2.0",
            "_model_name": "LayoutModel",
            "_view_count": null,
            "_view_module": "@jupyter-widgets/base",
            "_view_module_version": "1.2.0",
            "_view_name": "LayoutView",
            "align_content": null,
            "align_items": null,
            "align_self": null,
            "border": null,
            "bottom": null,
            "display": null,
            "flex": null,
            "flex_flow": null,
            "grid_area": null,
            "grid_auto_columns": null,
            "grid_auto_flow": null,
            "grid_auto_rows": null,
            "grid_column": null,
            "grid_gap": null,
            "grid_row": null,
            "grid_template_areas": null,
            "grid_template_columns": null,
            "grid_template_rows": null,
            "height": null,
            "justify_content": null,
            "justify_items": null,
            "left": null,
            "margin": null,
            "max_height": null,
            "max_width": null,
            "min_height": null,
            "min_width": null,
            "object_fit": null,
            "object_position": null,
            "order": null,
            "overflow": null,
            "overflow_x": null,
            "overflow_y": null,
            "padding": null,
            "right": null,
            "top": null,
            "visibility": null,
            "width": null
          }
        },
        "3388ffae642945f880f534d534031756": {
          "model_module": "@jupyter-widgets/controls",
          "model_name": "ProgressStyleModel",
          "model_module_version": "1.5.0",
          "state": {
            "_model_module": "@jupyter-widgets/controls",
            "_model_module_version": "1.5.0",
            "_model_name": "ProgressStyleModel",
            "_view_count": null,
            "_view_module": "@jupyter-widgets/base",
            "_view_module_version": "1.2.0",
            "_view_name": "StyleView",
            "bar_color": null,
            "description_width": ""
          }
        },
        "b297d2dfdf5f4593ab1ec797cedde415": {
          "model_module": "@jupyter-widgets/base",
          "model_name": "LayoutModel",
          "model_module_version": "1.2.0",
          "state": {
            "_model_module": "@jupyter-widgets/base",
            "_model_module_version": "1.2.0",
            "_model_name": "LayoutModel",
            "_view_count": null,
            "_view_module": "@jupyter-widgets/base",
            "_view_module_version": "1.2.0",
            "_view_name": "LayoutView",
            "align_content": null,
            "align_items": null,
            "align_self": null,
            "border": null,
            "bottom": null,
            "display": null,
            "flex": null,
            "flex_flow": null,
            "grid_area": null,
            "grid_auto_columns": null,
            "grid_auto_flow": null,
            "grid_auto_rows": null,
            "grid_column": null,
            "grid_gap": null,
            "grid_row": null,
            "grid_template_areas": null,
            "grid_template_columns": null,
            "grid_template_rows": null,
            "height": null,
            "justify_content": null,
            "justify_items": null,
            "left": null,
            "margin": null,
            "max_height": null,
            "max_width": null,
            "min_height": null,
            "min_width": null,
            "object_fit": null,
            "object_position": null,
            "order": null,
            "overflow": null,
            "overflow_x": null,
            "overflow_y": null,
            "padding": null,
            "right": null,
            "top": null,
            "visibility": null,
            "width": null
          }
        },
        "d7f64447b0914670a2622b103aafa0f2": {
          "model_module": "@jupyter-widgets/controls",
          "model_name": "DescriptionStyleModel",
          "model_module_version": "1.5.0",
          "state": {
            "_model_module": "@jupyter-widgets/controls",
            "_model_module_version": "1.5.0",
            "_model_name": "DescriptionStyleModel",
            "_view_count": null,
            "_view_module": "@jupyter-widgets/base",
            "_view_module_version": "1.2.0",
            "_view_name": "StyleView",
            "description_width": ""
          }
        }
      }
    }
  },
  "cells": [
    {
      "cell_type": "markdown",
      "metadata": {
        "id": "view-in-github",
        "colab_type": "text"
      },
      "source": [
        "<a href=\"https://colab.research.google.com/github/simplifine-llm/Simplifine/blob/main/examples/sft_quick_start.ipynb\" target=\"_parent\"><img src=\"https://colab.research.google.com/assets/colab-badge.svg\" alt=\"Open In Colab\"/></a>"
      ]
    },
    {
      "cell_type": "markdown",
      "source": [
        "#Simplifine-tuning your LLMs! 💫\n",
        "\n",
        "This is a quick guide on getting started with Simplifine!\n",
        "\n",
        "Below is an example of sending a supervised fine-tuning job to Simplifine's hosted servers.\n",
        "\n",
        "First, we start by downloading Simplifine's latest version from github."
      ],
      "metadata": {
        "id": "oMgqpE9SFQRe"
      }
    },
    {
      "cell_type": "code",
      "execution_count": 1,
      "metadata": {
        "id": "ukyfrnRKXj6E",
        "colab": {
          "base_uri": "https://localhost:8080/"
        },
        "outputId": "ca891c38-22b0-48e6-9e0b-742a3e06da50"
      },
      "outputs": [
        {
          "output_type": "stream",
          "name": "stdout",
          "text": [
            "  Installing build dependencies ... \u001b[?25l\u001b[?25hdone\n",
            "  Getting requirements to build wheel ... \u001b[?25l\u001b[?25hdone\n",
            "  Preparing metadata (pyproject.toml) ... \u001b[?25l\u001b[?25hdone\n",
            "\u001b[2K     \u001b[90m━━━━━━━━━━━━━━━━━━━━━━━━━━━━━━━━━━━━━━━━\u001b[0m \u001b[32m1.3/1.3 MB\u001b[0m \u001b[31m42.6 MB/s\u001b[0m eta \u001b[36m0:00:00\u001b[0m\n",
            "\u001b[?25h  Preparing metadata (setup.py) ... \u001b[?25l\u001b[?25hdone\n",
            "\u001b[2K   \u001b[90m━━━━━━━━━━━━━━━━━━━━━━━━━━━━━━━━━━━━━━━━\u001b[0m \u001b[32m547.8/547.8 kB\u001b[0m \u001b[31m332.4 kB/s\u001b[0m eta \u001b[36m0:00:00\u001b[0m\n",
            "\u001b[2K   \u001b[90m━━━━━━━━━━━━━━━━━━━━━━━━━━━━━━━━━━━━━━━━\u001b[0m \u001b[32m64.9/64.9 kB\u001b[0m \u001b[31m6.8 MB/s\u001b[0m eta \u001b[36m0:00:00\u001b[0m\n",
            "\u001b[2K   \u001b[90m━━━━━━━━━━━━━━━━━━━━━━━━━━━━━━━━━━━━━━━━\u001b[0m \u001b[32m337.0/337.0 kB\u001b[0m \u001b[31m29.7 MB/s\u001b[0m eta \u001b[36m0:00:00\u001b[0m\n",
            "\u001b[2K   \u001b[90m━━━━━━━━━━━━━━━━━━━━━━━━━━━━━━━━━━━━━━━━\u001b[0m \u001b[32m296.4/296.4 kB\u001b[0m \u001b[31m28.9 MB/s\u001b[0m eta \u001b[36m0:00:00\u001b[0m\n",
            "\u001b[2K   \u001b[90m━━━━━━━━━━━━━━━━━━━━━━━━━━━━━━━━━━━━━━━━\u001b[0m \u001b[32m232.6/232.6 kB\u001b[0m \u001b[31m24.5 MB/s\u001b[0m eta \u001b[36m0:00:00\u001b[0m\n",
            "\u001b[2K   \u001b[90m━━━━━━━━━━━━━━━━━━━━━━━━━━━━━━━━━━━━━━━━\u001b[0m \u001b[32m227.1/227.1 kB\u001b[0m \u001b[31m19.9 MB/s\u001b[0m eta \u001b[36m0:00:00\u001b[0m\n",
            "\u001b[2K   \u001b[90m━━━━━━━━━━━━━━━━━━━━━━━━━━━━━━━━━━━━━━━━\u001b[0m \u001b[32m245.8/245.8 kB\u001b[0m \u001b[31m24.6 MB/s\u001b[0m eta \u001b[36m0:00:00\u001b[0m\n",
            "\u001b[2K   \u001b[90m━━━━━━━━━━━━━━━━━━━━━━━━━━━━━━━━━━━━━━━━\u001b[0m \u001b[32m6.8/6.8 MB\u001b[0m \u001b[31m115.9 MB/s\u001b[0m eta \u001b[36m0:00:00\u001b[0m\n",
            "\u001b[2K   \u001b[90m━━━━━━━━━━━━━━━━━━━━━━━━━━━━━━━━━━━━━━━━\u001b[0m \u001b[32m116.3/116.3 kB\u001b[0m \u001b[31m11.9 MB/s\u001b[0m eta \u001b[36m0:00:00\u001b[0m\n",
            "\u001b[2K   \u001b[90m━━━━━━━━━━━━━━━━━━━━━━━━━━━━━━━━━━━━━━━━\u001b[0m \u001b[32m316.1/316.1 kB\u001b[0m \u001b[31m28.9 MB/s\u001b[0m eta \u001b[36m0:00:00\u001b[0m\n",
            "\u001b[2K   \u001b[90m━━━━━━━━━━━━━━━━━━━━━━━━━━━━━━━━━━━━━━━━\u001b[0m \u001b[32m207.3/207.3 kB\u001b[0m \u001b[31m21.5 MB/s\u001b[0m eta \u001b[36m0:00:00\u001b[0m\n",
            "\u001b[2K   \u001b[90m━━━━━━━━━━━━━━━━━━━━━━━━━━━━━━━━━━━━━━━━\u001b[0m \u001b[32m75.6/75.6 kB\u001b[0m \u001b[31m7.7 MB/s\u001b[0m eta \u001b[36m0:00:00\u001b[0m\n",
            "\u001b[2K   \u001b[90m━━━━━━━━━━━━━━━━━━━━━━━━━━━━━━━━━━━━━━━━\u001b[0m \u001b[32m77.9/77.9 kB\u001b[0m \u001b[31m8.0 MB/s\u001b[0m eta \u001b[36m0:00:00\u001b[0m\n",
            "\u001b[2K   \u001b[90m━━━━━━━━━━━━━━━━━━━━━━━━━━━━━━━━━━━━━━━━\u001b[0m \u001b[32m39.9/39.9 MB\u001b[0m \u001b[31m55.5 MB/s\u001b[0m eta \u001b[36m0:00:00\u001b[0m\n",
            "\u001b[2K   \u001b[90m━━━━━━━━━━━━━━━━━━━━━━━━━━━━━━━━━━━━━━━━\u001b[0m \u001b[32m303.6/303.6 kB\u001b[0m \u001b[31m27.3 MB/s\u001b[0m eta \u001b[36m0:00:00\u001b[0m\n",
            "\u001b[2K   \u001b[90m━━━━━━━━━━━━━━━━━━━━━━━━━━━━━━━━━━━━━━━━\u001b[0m \u001b[32m103.4/103.4 kB\u001b[0m \u001b[31m10.8 MB/s\u001b[0m eta \u001b[36m0:00:00\u001b[0m\n",
            "\u001b[2K   \u001b[90m━━━━━━━━━━━━━━━━━━━━━━━━━━━━━━━━━━━━━━━━\u001b[0m \u001b[32m54.0/54.0 kB\u001b[0m \u001b[31m5.5 MB/s\u001b[0m eta \u001b[36m0:00:00\u001b[0m\n",
            "\u001b[2K   \u001b[90m━━━━━━━━━━━━━━━━━━━━━━━━━━━━━━━━━━━━━━━━\u001b[0m \u001b[32m134.8/134.8 kB\u001b[0m \u001b[31m15.1 MB/s\u001b[0m eta \u001b[36m0:00:00\u001b[0m\n",
            "\u001b[2K   \u001b[90m━━━━━━━━━━━━━━━━━━━━━━━━━━━━━━━━━━━━━━━━\u001b[0m \u001b[32m307.2/307.2 kB\u001b[0m \u001b[31m30.2 MB/s\u001b[0m eta \u001b[36m0:00:00\u001b[0m\n",
            "\u001b[2K   \u001b[90m━━━━━━━━━━━━━━━━━━━━━━━━━━━━━━━━━━━━━━━━\u001b[0m \u001b[32m194.1/194.1 kB\u001b[0m \u001b[31m20.8 MB/s\u001b[0m eta \u001b[36m0:00:00\u001b[0m\n",
            "\u001b[2K   \u001b[90m━━━━━━━━━━━━━━━━━━━━━━━━━━━━━━━━━━━━━━━━\u001b[0m \u001b[32m62.7/62.7 kB\u001b[0m \u001b[31m6.5 MB/s\u001b[0m eta \u001b[36m0:00:00\u001b[0m\n",
            "\u001b[2K   \u001b[90m━━━━━━━━━━━━━━━━━━━━━━━━━━━━━━━━━━━━━━━━\u001b[0m \u001b[32m21.3/21.3 MB\u001b[0m \u001b[31m93.3 MB/s\u001b[0m eta \u001b[36m0:00:00\u001b[0m\n",
            "\u001b[2K   \u001b[90m━━━━━━━━━━━━━━━━━━━━━━━━━━━━━━━━━━━━━━━━\u001b[0m \u001b[32m58.3/58.3 kB\u001b[0m \u001b[31m5.7 MB/s\u001b[0m eta \u001b[36m0:00:00\u001b[0m\n",
            "\u001b[?25h  Building wheel for simplifine-alpha (pyproject.toml) ... \u001b[?25l\u001b[?25hdone\n",
            "  Building wheel for deepspeed (setup.py) ... \u001b[?25l\u001b[?25hdone\n",
            "\u001b[31mERROR: pip's dependency resolver does not currently take into account all the packages that are installed. This behaviour is the source of the following dependency conflicts.\n",
            "cudf-cu12 24.4.1 requires pyarrow<15.0.0a0,>=14.0.1, but you have pyarrow 17.0.0 which is incompatible.\n",
            "gcsfs 2024.6.1 requires fsspec==2024.6.1, but you have fsspec 2024.5.0 which is incompatible.\n",
            "google-colab 1.0.0 requires requests==2.31.0, but you have requests 2.32.3 which is incompatible.\n",
            "ibis-framework 8.0.0 requires pyarrow<16,>=2, but you have pyarrow 17.0.0 which is incompatible.\u001b[0m\u001b[31m\n",
            "\u001b[0m"
          ]
        }
      ],
      "source": [
        "!pip install git+https://github.com/simplifine-llm/Simplifine.git -q"
      ]
    },
    {
      "cell_type": "markdown",
      "source": [
        "Supervised fine tuning is a useful method to fine-tune a model for generating formatted answers, based on the provided input.\n",
        "\n",
        "An example would be to generate an answer based on provided context.\n",
        "\n",
        "An example would be:\n",
        "\n",
        "QUESTION: What is the capital France?\n",
        "\n",
        "CONTEXT: France has had its capital as Paris for some time now!\n",
        "\n",
        "ANSWER: Paris is the capital of France.\n",
        "\n",
        "In this example, you would want the model to fill in for the answer, having provided it with the question and context.\n",
        "\n",
        "In this example, an arbitrary dataset will be used. We will use the following prompt template:\n",
        "\n",
        "```\n",
        "'''### TITLE: {title}\\n ### ABSTRACT: {abstract}\\n ###EXPLANATION: {explanation}'''\n",
        "```\n",
        "\n",
        "Then as mentioned, we want the model to fill in the text for answer, so we asign this to a response template:\n",
        "\n",
        "\n",
        "\n",
        "```\n",
        "response_template='\\n ###EXPLANATION:'\n",
        "```\n",
        "\n",
        "In the example below, we use our own dataset. This dataset should be a python dictionary, which should include the keys that are required to populate the template you provided. You can also use any dataset hosted on huggingface (some require authentication/tokens)"
      ],
      "metadata": {
        "id": "pbusanjVFOHS"
      }
    },
    {
      "cell_type": "markdown",
      "source": [
        "Next, we try and fine-tune a GPT-2 model, here on colab using a GPU."
      ],
      "metadata": {
        "id": "a7-oM6q3JqGc"
      }
    },
    {
      "cell_type": "code",
      "source": [
        "from simplifine_alpha import train_engine\n",
        "import wandb\n",
        "import os\n",
        "\n",
        "# disabling WandB logging, change if you'd like to have one.\n",
        "# Note that you will need a wandb token.\n",
        "wandb.init(mode='disabled')\n",
        "\n",
        "# You can provided a HF dataset name.\n",
        "# be sure to change the keys, response template and tempalte accordingly.\n",
        "template = '''### TITLE: {title}\\n ### ABSTRACT: {abstract}\\n ###EXPLANATION: {explanation}'''\n",
        "response_template='\\n ###EXPLANATION:'\n",
        "keys = ['title', 'abstract', 'explanation']\n",
        "dataset_name=''\n",
        "\n",
        "# you can change the model. bigger models might throw OOM errors.\n",
        "model_name = 'EleutherAI/pythia-160m'\n",
        "\n",
        "from_hf = True\n",
        "if True:  # change this if you want to try this on a dataset on huggingface!\n",
        "  from_hf = False\n",
        "  data = {\n",
        "      'title':['title 1', 'title 2', 'title 3']*200,\n",
        "      'abstract':['abstract 1', 'abstract 2', 'abstract 3']*200,\n",
        "      'explanation':['explanation 1', 'explanation 2', 'explanation 3']*200\n",
        "  }\n",
        "\n",
        "train_engine.hf_sft(model_name, from_hf=from_hf, dataset_name=dataset_name,\n",
        "        keys = keys, data = data,\n",
        "        template = template,\n",
        "        response_template=response_template, zero=False, ddp=False, gradient_accumulation_steps=4, fp16=True, max_seq_length=2048)"
      ],
      "metadata": {
        "colab": {
          "base_uri": "https://localhost:8080/",
          "height": 614,
          "referenced_widgets": [
            "5d6108f4c40f4d3fad47af55ca452696",
            "a78a4868b5174b27bd7cd6491fbfa6b5",
            "14a270febe5b47d781023100122d967c",
            "705f1ab7cbfe41e5ade1fc2b3afdc362",
            "6364f0cfb95248e3b2b78d077d305bf4",
            "f9536034b60a40b1a72ee1b822bdba99",
            "ca853d94a7e44603bbe8f4239b3395e4",
            "3a8829c671554ce3bc36f24140b1424e",
            "2ee3a8902a2a4ac78609ac30c53ac70d",
            "d84556e53dfe4d1381171ad301e2619c",
            "f7eecb12abe243d1836c82f26accba92",
            "05d591757074489b948e7b0c73555690",
            "e5cc86e90aac42baba18a08ca36be738",
            "fdd0db4c57304f949c1401fa0e8c000d",
            "c6c9ded461684c7aa50a5ae71fb575a5",
            "a037820eb14b4a85b6bc575325a0cd8f",
            "5ddcb4768e664b62a898621d414f0408",
            "54a6aee891804ae8ac503af85a1c5f90",
            "a8bfed5455fc4a0886bd966cb5fcbe55",
            "d23e5bfedf7c40d4bf1409484c4790eb",
            "bec2d8c54d0f47c6b0b3b80e1e11cb46",
            "74bce8c61453437bbb9d9198cae0a503",
            "7e62ffdd152446f5833b65f38f87a895",
            "b60ef2c5343a48218a792cafe5099137",
            "e0a4eca4e34349deb30b628dcb4f0c01",
            "274601d1db094b61b11df6372a925e39",
            "ee5b47ead04d48a3a9520e1a50d9c017",
            "c67398b8d26d42ae852fda95bac98bf5",
            "3f2a5d8fba6c441383826d3a7ea9b8cd",
            "c2eb3dcde44d4d42a65640065c7c7ca8",
            "763bb0d46f844671b2ee4f676d3660fc",
            "362b954014474a1b8b1c5c77fd6dcc45",
            "1d7c8cef05d1457ea173dcf579970f2b",
            "b49e8a2752ec4756a3eda09b13d0fa18",
            "254a7cb13ae141b791a189dacfa1e26b",
            "452b0dd7c5a14b2190a1d958f312f998",
            "e01c81f3912d4a3e830ad35a27c63724",
            "63e0b506049845db8bef83a5d804902d",
            "90196df2977f4078a4801d2db8f3bbb6",
            "cf6e13d84ad845058c1ebb52e3757726",
            "53e4298df8c44e5cb1a4a26a2c01f73c",
            "ee0d88dd42a54d1d9196b7ff3dbe16f8",
            "47a5012db84748ce99b61209cd7c2f4a",
            "39ea70f41799405d8bcb4d526cbcc816",
            "f49fcb8cc93e4e3dbcb8c0c433e826f7",
            "83be297259a64486b9aec8f087d6c984",
            "07f5114441034a92a31232dee20e6e96",
            "a3151f8c8b6f4f6db929b8bd1de04699",
            "f7c93c42c9a14f4fbdda8c76ba33f84b",
            "243e6ce7664f41be91df786a576ffc3d",
            "e5094598f8b74c4ba8334f31b0270482",
            "c92028fe58c9439bb2d43d299651fbe8",
            "8b78179c753547fdb6121747227d7587",
            "0662209a58e6437081c3fc2ef5b2ff23",
            "32dbb334a6824cb8bb9d807bf56b49ef",
            "9ab396c6e1604c8cb092c2fe14499dc4",
            "894bade6b0da47c392775f8c077993f7",
            "fee6a354cf444566857fb162ccc119b4",
            "3ed6d76356324f19a1dd830f1f7d7a5d",
            "249b59b8965949e78c9d7a13b1eab7c2",
            "8eb4883134da4c6c9e578c144a5df65e",
            "e36decf043cf45f58d8a8f609dad2dc7",
            "f749d93453c14c45b79784b897a60d5a",
            "20709c38993e4ac6a8862b85cf811601",
            "e8bfccc3ab9e4a659273511685358e60",
            "ab166b01194448e2ab1a025d3710f2c9",
            "b691e49e5c444805889815d8b51ff2d9",
            "8cba553d4949441dabffa7981e9604df",
            "468d357be21847c3939dcb9759e80086",
            "de49bf4945a945489474e8fd6d964c6f",
            "5d8f5f383e144d8580e9ac760a1e5a3a",
            "1bb64fc93672471b88971166af306e63",
            "b379d7dff5d2477ea9652822208fc1f5",
            "d2c6930365f84778906269c72285a045",
            "3388ffae642945f880f534d534031756",
            "b297d2dfdf5f4593ab1ec797cedde415",
            "d7f64447b0914670a2622b103aafa0f2"
          ]
        },
        "id": "Rn0Rw8rgJxwx",
        "outputId": "759c3970-fa37-4948-f727-1360806b9b88"
      },
      "execution_count": 2,
      "outputs": [
        {
          "output_type": "stream",
          "name": "stdout",
          "text": [
            "[2024-07-26 20:09:21,393] [INFO] [real_accelerator.py:203:get_accelerator] Setting ds_accelerator to cuda (auto detect)\n",
            "\u001b[93m [WARNING] \u001b[0m async_io requires the dev libaio .so object and headers but these were not found.\n",
            "\u001b[93m [WARNING] \u001b[0m async_io: please install the libaio-dev package with apt\n",
            "\u001b[93m [WARNING] \u001b[0m If libaio is already installed (perhaps from source), try setting the CFLAGS and LDFLAGS environment variables to where it can be found.\n",
            "\u001b[93m [WARNING] \u001b[0m Please specify the CUTLASS repo directory as environment variable $CUTLASS_PATH\n",
            "\u001b[93m [WARNING] \u001b[0m sparse_attn requires a torch version >= 1.5 and < 2.0 but detected 2.3\n",
            "\u001b[93m [WARNING] \u001b[0m using untested triton version (2.3.1), only 1.0.0 is known to be compatible\n"
          ]
        },
        {
          "output_type": "stream",
          "name": "stderr",
          "text": [
            "/usr/local/lib/python3.10/dist-packages/huggingface_hub/utils/_token.py:89: UserWarning: \n",
            "The secret `HF_TOKEN` does not exist in your Colab secrets.\n",
            "To authenticate with the Hugging Face Hub, create a token in your settings tab (https://huggingface.co/settings/tokens), set it as secret in your Google Colab and restart your session.\n",
            "You will be able to reuse this secret in all of your notebooks.\n",
            "Please note that authentication is recommended but still optional to access public models or datasets.\n",
            "  warnings.warn(\n"
          ]
        },
        {
          "output_type": "display_data",
          "data": {
            "text/plain": [
              "tokenizer_config.json:   0%|          | 0.00/396 [00:00<?, ?B/s]"
            ],
            "application/vnd.jupyter.widget-view+json": {
              "version_major": 2,
              "version_minor": 0,
              "model_id": "5d6108f4c40f4d3fad47af55ca452696"
            }
          },
          "metadata": {}
        },
        {
          "output_type": "display_data",
          "data": {
            "text/plain": [
              "tokenizer.json:   0%|          | 0.00/2.11M [00:00<?, ?B/s]"
            ],
            "application/vnd.jupyter.widget-view+json": {
              "version_major": 2,
              "version_minor": 0,
              "model_id": "05d591757074489b948e7b0c73555690"
            }
          },
          "metadata": {}
        },
        {
          "output_type": "display_data",
          "data": {
            "text/plain": [
              "special_tokens_map.json:   0%|          | 0.00/99.0 [00:00<?, ?B/s]"
            ],
            "application/vnd.jupyter.widget-view+json": {
              "version_major": 2,
              "version_minor": 0,
              "model_id": "7e62ffdd152446f5833b65f38f87a895"
            }
          },
          "metadata": {}
        },
        {
          "output_type": "stream",
          "name": "stderr",
          "text": [
            "Special tokens have been added in the vocabulary, make sure the associated word embeddings are fine-tuned or trained.\n"
          ]
        },
        {
          "output_type": "display_data",
          "data": {
            "text/plain": [
              "Map:   0%|          | 0/480 [00:00<?, ? examples/s]"
            ],
            "application/vnd.jupyter.widget-view+json": {
              "version_major": 2,
              "version_minor": 0,
              "model_id": "b49e8a2752ec4756a3eda09b13d0fa18"
            }
          },
          "metadata": {}
        },
        {
          "output_type": "display_data",
          "data": {
            "text/plain": [
              "Map:   0%|          | 0/120 [00:00<?, ? examples/s]"
            ],
            "application/vnd.jupyter.widget-view+json": {
              "version_major": 2,
              "version_minor": 0,
              "model_id": "f49fcb8cc93e4e3dbcb8c0c433e826f7"
            }
          },
          "metadata": {}
        },
        {
          "output_type": "display_data",
          "data": {
            "text/plain": [
              "config.json:   0%|          | 0.00/569 [00:00<?, ?B/s]"
            ],
            "application/vnd.jupyter.widget-view+json": {
              "version_major": 2,
              "version_minor": 0,
              "model_id": "9ab396c6e1604c8cb092c2fe14499dc4"
            }
          },
          "metadata": {}
        },
        {
          "output_type": "display_data",
          "data": {
            "text/plain": [
              "model.safetensors:   0%|          | 0.00/375M [00:00<?, ?B/s]"
            ],
            "application/vnd.jupyter.widget-view+json": {
              "version_major": 2,
              "version_minor": 0,
              "model_id": "b691e49e5c444805889815d8b51ff2d9"
            }
          },
          "metadata": {}
        },
        {
          "output_type": "stream",
          "name": "stdout",
          "text": [
            "Using CUDA\n"
          ]
        },
        {
          "output_type": "stream",
          "name": "stderr",
          "text": [
            "/usr/local/lib/python3.10/dist-packages/trl/trainer/sft_trainer.py:505: UserWarning: You passed a dataset that is already processed (contains an `input_ids` field) together with a valid formatting function. Therefore `formatting_func` will be ignored.\n",
            "  warnings.warn(\n"
          ]
        },
        {
          "output_type": "display_data",
          "data": {
            "text/plain": [
              "<IPython.core.display.HTML object>"
            ],
            "text/html": [
              "\n",
              "    <div>\n",
              "      \n",
              "      <progress value='360' max='360' style='width:300px; height:20px; vertical-align: middle;'></progress>\n",
              "      [360/360 01:14, Epoch 3/3]\n",
              "    </div>\n",
              "    <table border=\"1\" class=\"dataframe\">\n",
              "  <thead>\n",
              " <tr style=\"text-align: left;\">\n",
              "      <th>Step</th>\n",
              "      <th>Training Loss</th>\n",
              "    </tr>\n",
              "  </thead>\n",
              "  <tbody>\n",
              "  </tbody>\n",
              "</table><p>"
            ]
          },
          "metadata": {}
        }
      ]
    },
    {
      "cell_type": "markdown",
      "source": [
        "Testing the model's generation after training.\n",
        "The simplifine trainer saves the final model in a folder in output_dir called \"final_model\"."
      ],
      "metadata": {
        "id": "yFbfmCXBoxw3"
      }
    },
    {
      "cell_type": "code",
      "source": [
        "from transformers import AutoModelForCausalLM, AutoTokenizer\n",
        "\n",
        "# This the path that the model and other relevant files are saved to.\n",
        "# this is the default folder name in the trainer.\n",
        "# The final checkpoint is saved under final_model.\n",
        "path = '/content/sft_output/final_model'\n",
        "sf_model = AutoModelForCausalLM.from_pretrained(path)\n",
        "sf_tokenizer = AutoTokenizer.from_pretrained(path)\n",
        "\n",
        "# an example following the arbitrary training data\n",
        "input_example = '''### TITLE: title 1\\n ### ABSTRACT: abstract 1\\n ###EXPLANATION: '''\n",
        "\n",
        "input_example = sf_tokenizer(input_example, return_tensors='pt')\n",
        "\n",
        "output = sf_model.generate(input_example['input_ids'],\n",
        "                           attention_mask=input_example['attention_mask'],\n",
        "                           max_length=30,eos_token_id=sf_tokenizer.eos_token_id,\n",
        "                           early_stopping=True,\n",
        "                           pad_token_id=sf_tokenizer.eos_token_id\n",
        ")\n",
        "\n",
        "print(sf_tokenizer.decode(output[0]))"
      ],
      "metadata": {
        "colab": {
          "base_uri": "https://localhost:8080/"
        },
        "id": "O71NVnSuo0cQ",
        "outputId": "54c4415f-2d7b-4523-add6-7c2d0a5292b6"
      },
      "execution_count": 6,
      "outputs": [
        {
          "output_type": "stream",
          "name": "stderr",
          "text": [
            "Special tokens have been added in the vocabulary, make sure the associated word embeddings are fine-tuned or trained.\n"
          ]
        },
        {
          "output_type": "stream",
          "name": "stdout",
          "text": [
            "### TITLE: title 1\n",
            " ### ABSTRACT: abstract 1\n",
            " ###EXPLANATION:  1 explanation 1 explanation 1 explanation\n"
          ]
        }
      ]
    },
    {
      "cell_type": "markdown",
      "source": [
        "## Using Simplifine's GPU clusters\n",
        "\n",
        "In the example above, a small Pythia model (160m parameters) on a L4 GPU. Note that we do not use any adapters e.g. LoRA.\n",
        "In the next step, we show how simplifine allows to carry out the same thing, but on GPU clusters. This will use functions of train_utils.\n",
        "\n",
        "By using this command, you can manually pass the parallelization method.\n",
        "\n",
        "If you have a model that is small enough, try using DDP. In this method, each processor (fansy word for GPU!) has a replica of the model and attends to a different sample.\n",
        "\n",
        "You can also utilize ZeRO from DeepSpeed. With this, you can shard the model parameters, activation states and gradients across the GPUs. You also have the option to offload some to CPUs, at the expense of lower throughput."
      ],
      "metadata": {
        "id": "rUjLGVF4Plfs"
      }
    },
    {
      "cell_type": "markdown",
      "source": [
        "# Using DDP to train\n",
        "The example below uses DDP to distribute the training process.\n",
        "\n",
        "\n",
        "you would need a simplifine API key. contact us for one for free! :)\n",
        "\n",
        "see contact details at our github repo at https://github.com/simplifine-llm/Simplifine/tree/main"
      ],
      "metadata": {
        "id": "IoOgZ3bnh-Nj"
      }
    },
    {
      "cell_type": "code",
      "source": [
        "from simplifine_alpha.train_utils import sft_train_cloud\n",
        "\n",
        "# enter your simplifine api key below\n",
        "api_key = ''\n",
        "\n",
        "# simply pass all the arguements you used above, and change ddp ot zero if you want parallelization.\n",
        "sft_train_cloud(model_name = model_name, from_hf=from_hf, dataset_name=dataset_name,\n",
        "        keys = keys, data = data,\n",
        "        template = template, job_name='testing_ddp', api_key=api_key,\n",
        "        response_template=response_template, use_zero=False, use_ddp=True)"
      ],
      "metadata": {
        "id": "8kQ42WwTQFes"
      },
      "execution_count": 7,
      "outputs": []
    },
    {
      "cell_type": "markdown",
      "source": [
        "After sending the query, you can check the status of your jobs. Note that the status is one of the three options:\n",
        "```text\n",
        "status = complete|in progress|pending\n",
        "```"
      ],
      "metadata": {
        "id": "_ubN6KCtjOEn"
      }
    },
    {
      "cell_type": "code",
      "source": [
        "from simplifine_alpha.train_utils import get_job_status\n",
        "\n",
        "status = get_job_status(api_key)\n",
        "\n",
        "for num,i in enumerate(status):\n",
        "  print(f'Number {num} status: {i}\\n')"
      ],
      "metadata": {
        "colab": {
          "base_uri": "https://localhost:8080/"
        },
        "id": "fovf6Yt_jMfL",
        "outputId": "a53a060e-cbf4-4078-a4d4-c8ec744043f8"
      },
      "execution_count": 8,
      "outputs": [
        {
          "output_type": "stream",
          "name": "stdout",
          "text": [
            "Number 0 status: {'job_id': '52c7c957-e712-46a3-a5b9-f479f9065d2d', 'job_name': 'sft_cloud_example', 'status': 'completed'}\n",
            "\n",
            "Number 1 status: {'job_id': '85bff99b-f469-4041-a955-9bd6eb6a5ec5', 'job_name': 'sft_cloud_example', 'status': 'completed'}\n",
            "\n",
            "Number 2 status: {'job_id': '2fe4a5a4-a2ad-41c2-b2e9-ce9f15d3ccf1', 'job_name': 'sft_cloud_example', 'status': 'completed'}\n",
            "\n",
            "Number 3 status: {'job_id': '85ce697f-e8ce-45c0-8c92-8decfee2f9bd', 'job_name': 'sft_cloud_example', 'status': 'completed'}\n",
            "\n",
            "Number 4 status: {'job_id': '93cac1ce-6cba-4819-b70d-4cf94e99c67a', 'job_name': 'sft_cloud_example', 'status': 'completed'}\n",
            "\n",
            "Number 5 status: {'job_id': '5f05254a-5d2f-46c9-9843-da1b215e91b4', 'job_name': 'test', 'status': 'completed'}\n",
            "\n",
            "Number 6 status: {'job_id': 'd46aecbb-84a0-40fc-9913-43065b3cb4f2', 'job_name': 'test', 'status': 'completed'}\n",
            "\n",
            "Number 7 status: {'job_id': '46a0bde6-e526-49cf-a004-330ddd7ed830', 'job_name': 'zero_example', 'status': 'completed'}\n",
            "\n",
            "Number 8 status: {'job_id': 'f1fdab0a-2d85-4f2f-8655-97e5f2490614', 'job_name': 'sft_cloud_example', 'status': 'completed'}\n",
            "\n",
            "Number 9 status: {'job_id': '6b2b73e5-63e1-4249-b7e2-49d3c48309e7', 'job_name': 'test', 'status': 'completed'}\n",
            "\n",
            "Number 10 status: {'job_id': 'de19e139-253e-4cc6-ae5a-3c1b23b8e4af', 'job_name': 'test', 'status': 'completed'}\n",
            "\n",
            "Number 11 status: {'job_id': '133b6ce4-0d4c-43bb-84db-6bfb1660d2ed', 'job_name': 'zero_example', 'status': 'completed'}\n",
            "\n",
            "Number 12 status: {'job_id': '87424419-edf5-4a5f-8048-eb064f82e8a7', 'job_name': 'zero_example_cloud', 'status': 'completed'}\n",
            "\n",
            "Number 13 status: {'job_id': 'fdc29e2f-122e-420d-94ee-b57b64a03e60', 'job_name': 'test', 'status': 'completed'}\n",
            "\n",
            "Number 14 status: {'job_id': '754a2d8d-e2ec-42e1-9b08-c5da3f2742cf', 'job_name': 'test', 'status': 'completed'}\n",
            "\n",
            "Number 15 status: {'job_id': 'ef765ffc-c3f6-4e59-a04d-5922a336e47d', 'job_name': 'test', 'status': 'completed'}\n",
            "\n",
            "Number 16 status: {'job_id': 'e9fcb313-2e4f-46d6-bfd9-73381f612caa', 'job_name': 'test', 'status': 'completed'}\n",
            "\n",
            "Number 17 status: {'job_id': 'e24699b1-9c7a-4e94-8cd7-ddd8c54c6e1a', 'job_name': 'test', 'status': 'completed'}\n",
            "\n",
            "Number 18 status: {'job_id': '74a3bdf0-8783-483f-949c-5710b89fc2a9', 'job_name': 'test', 'status': 'completed'}\n",
            "\n",
            "Number 19 status: {'job_id': '0eaf50fc-5ad4-4bbe-83e2-1e4652a6a845', 'job_name': 'test', 'status': 'completed'}\n",
            "\n",
            "Number 20 status: {'job_id': '11003723-5239-42fd-ad63-642efe17f4f4', 'job_name': 'test', 'status': 'in progress'}\n",
            "\n",
            "Number 21 status: {'job_id': '186122da-938e-4c66-883d-03995958e640', 'job_name': 'testing_ddp', 'status': 'pending'}\n",
            "\n"
          ]
        }
      ]
    },
    {
      "cell_type": "markdown",
      "source": [
        "###Logs\n",
        "Getting the logs of a certain job requires the job_id. copy the relevant job_id and use it to retireve the logs. This will be usefull for seeing if there were any errors."
      ],
      "metadata": {
        "id": "gWKG5lMSjzJp"
      }
    },
    {
      "cell_type": "code",
      "source": [
        "from simplifine_alpha.train_utils import get_train_logs\n",
        "\n",
        "# getting the job_id of the last job\n",
        "job_id = status[-1]['job_id']\n",
        "\n",
        "logs = get_train_logs(api_key, job_id)\n",
        "print(logs)"
      ],
      "metadata": {
        "colab": {
          "base_uri": "https://localhost:8080/"
        },
        "id": "iN1u-XXhj-kN",
        "outputId": "9b97b35d-5217-462e-c6f8-ee6e119c6836"
      },
      "execution_count": 9,
      "outputs": [
        {
          "output_type": "stream",
          "name": "stdout",
          "text": [
            "{'response': \"W0726 20:11:56.119000 128785760092288 torch/distributed/run.py:757] \\nW0726 20:11:56.119000 128785760092288 torch/distributed/run.py:757] *****************************************\\nW0726 20:11:56.119000 128785760092288 torch/distributed/run.py:757] Setting OMP_NUM_THREADS environment variable for each process to be 1 in default, to avoid your system being overloaded, please further tune the variable for optimal performance in your application as needed. \\nW0726 20:11:56.119000 128785760092288 torch/distributed/run.py:757] *****************************************\\n[2024-07-26 20:12:00,038] [INFO] [real_accelerator.py:203:get_accelerator] Setting ds_accelerator to cuda (auto detect)\\n[2024-07-26 20:12:00,043] [INFO] [real_accelerator.py:203:get_accelerator] Setting ds_accelerator to cuda (auto detect)\\n[2024-07-26 20:12:00,065] [INFO] [real_accelerator.py:203:get_accelerator] Setting ds_accelerator to cuda (auto detect)\\n[2024-07-26 20:12:00,092] [INFO] [real_accelerator.py:203:get_accelerator] Setting ds_accelerator to cuda (auto detect)\\n[2024-07-26 20:12:00,164] [INFO] [real_accelerator.py:203:get_accelerator] Setting ds_accelerator to cuda (auto detect)\\n[2024-07-26 20:12:00,207] [INFO] [real_accelerator.py:203:get_accelerator] Setting ds_accelerator to cuda (auto detect)\\n[2024-07-26 20:12:00,218] [INFO] [real_accelerator.py:203:get_accelerator] Setting ds_accelerator to cuda (auto detect)\\n[2024-07-26 20:12:00,225] [INFO] [real_accelerator.py:203:get_accelerator] Setting ds_accelerator to cuda (auto detect)\\n\\x1b[93m [WARNING] \\x1b[0m async_io requires the dev libaio .so object and headers but these were not found.\\n\\x1b[93m [WARNING] \\x1b[0m async_io requires the dev libaio .so object and headers but these were not found.\\n\\x1b[93m [WARNING] \\x1b[0m async_io: please install the libaio-dev package with apt\\n\\x1b[93m [WARNING] \\x1b[0m If libaio is already installed (perhaps from source), try setting the CFLAGS and LDFLAGS environment variables to where it can be found.\\n\\x1b[93m [WARNING] \\x1b[0m Please specify the CUTLASS repo directory as environment variable $CUTLASS_PATH\\n\\x1b[93m [WARNING] \\x1b[0m async_io: please install the libaio-dev package with apt\\n\\x1b[93m [WARNING] \\x1b[0m If libaio is already installed (perhaps from source), try setting the CFLAGS and LDFLAGS environment variables to where it can be found.\\n\\x1b[93m [WARNING] \\x1b[0m Please specify the CUTLASS repo directory as environment variable $CUTLASS_PATH\\n\\x1b[93m [WARNING] \\x1b[0m sparse_attn requires a torch version >= 1.5 and < 2.0 but detected 2.3\\n\\x1b[93m [WARNING] \\x1b[0m using untested triton version (2.3.1), only 1.0.0 is known to be compatible\\n\\x1b[93m [WARNING] \\x1b[0m sparse_attn requires a torch version >= 1.5 and < 2.0 but detected 2.3\\n\\x1b[93m [WARNING] \\x1b[0m using untested triton version (2.3.1), only 1.0.0 is known to be compatible\\n\\x1b[93m [WARNING] \\x1b[0m async_io requires the dev libaio .so object and headers but these were not found.\\n\\x1b[93m [WARNING] \\x1b[0m async_io requires the dev libaio .so object and headers but these were not found.\\n\\x1b[93m [WARNING] \\x1b[0m async_io: please install the libaio-dev package with apt\\n\\x1b[93m [WARNING] \\x1b[0m If libaio is already installed (perhaps from source), try setting the CFLAGS and LDFLAGS environment variables to where it can be found.\\n\\x1b[93m [WARNING] \\x1b[0m Please specify the CUTLASS repo directory as environment variable $CUTLASS_PATH\\n\\x1b[93m [WARNING] \\x1b[0m async_io: please install the libaio-dev package with apt\\n\\x1b[93m [WARNING] \\x1b[0m If libaio is already installed (perhaps from source), try setting the CFLAGS and LDFLAGS environment variables to where it can be found.\\n\\x1b[93m [WARNING] \\x1b[0m Please specify the CUTLASS repo directory as environment variable $CUTLASS_PATH\\n\\x1b[93m [WARNING] \\x1b[0m sparse_attn requires a torch version >= 1.5 and < 2.0 but detected 2.3\\n\\x1b[93m [WARNING] \\x1b[0m using untested triton version (2.3.1), only 1.0.0 is known to be compatible\\n\\x1b[93m [WARNING] \\x1b[0m sparse_attn requires a torch version >= 1.5 and < 2.0 but detected 2.3\\n\\x1b[93m [WARNING] \\x1b[0m using untested triton version (2.3.1), only 1.0.0 is known to be compatible\\n\\x1b[93m [WARNING] \\x1b[0m async_io requires the dev libaio .so object and headers but these were not found.\\n\\x1b[93m [WARNING] \\x1b[0m async_io requires the dev libaio .so object and headers but these were not found.\\n\\x1b[93m [WARNING] \\x1b[0m async_io requires the dev libaio .so object and headers but these were not found.\\n\\x1b[93m [WARNING] \\x1b[0m async_io: please install the libaio-dev package with apt\\n\\x1b[93m [WARNING] \\x1b[0m If libaio is already installed (perhaps from source), try setting the CFLAGS and LDFLAGS environment variables to where it can be found.\\n\\x1b[93m [WARNING] \\x1b[0m Please specify the CUTLASS repo directory as environment variable $CUTLASS_PATH\\n\\x1b[93m [WARNING] \\x1b[0m async_io: please install the libaio-dev package with apt\\n\\x1b[93m [WARNING] \\x1b[0m If libaio is already installed (perhaps from source), try setting the CFLAGS and LDFLAGS environment variables to where it can be found.\\n\\x1b[93m [WARNING] \\x1b[0m Please specify the CUTLASS repo directory as environment variable $CUTLASS_PATH\\n\\x1b[93m [WARNING] \\x1b[0m async_io: please install the libaio-dev package with apt\\n\\x1b[93m [WARNING] \\x1b[0m If libaio is already installed (perhaps from source), try setting the CFLAGS and LDFLAGS environment variables to where it can be found.\\n\\x1b[93m [WARNING] \\x1b[0m Please specify the CUTLASS repo directory as environment variable $CUTLASS_PATH\\n\\x1b[93m [WARNING] \\x1b[0m sparse_attn requires a torch version >= 1.5 and < 2.0 but detected 2.3\\n\\x1b[93m [WARNING] \\x1b[0m using untested triton version (2.3.1), only 1.0.0 is known to be compatible\\n\\x1b[93m [WARNING] \\x1b[0m async_io requires the dev libaio .so object and headers but these were not found.\\n\\x1b[93m [WARNING] \\x1b[0m async_io: please install the libaio-dev package with apt\\n\\x1b[93m [WARNING] \\x1b[0m If libaio is already installed (perhaps from source), try setting the CFLAGS and LDFLAGS environment variables to where it can be found.\\n\\x1b[93m [WARNING] \\x1b[0m Please specify the CUTLASS repo directory as environment variable $CUTLASS_PATH\\n\\x1b[93m [WARNING] \\x1b[0m sparse_attn requires a torch version >= 1.5 and < 2.0 but detected 2.3\\n\\x1b[93m [WARNING] \\x1b[0m using untested triton version (2.3.1), only 1.0.0 is known to be compatible\\n\\x1b[93m [WARNING] \\x1b[0m sparse_attn requires a torch version >= 1.5 and < 2.0 but detected 2.3\\n\\x1b[93m [WARNING] \\x1b[0m using untested triton version (2.3.1), only 1.0.0 is known to be compatible\\n\\x1b[93m [WARNING] \\x1b[0m sparse_attn requires a torch version >= 1.5 and < 2.0 but detected 2.3\\n\\x1b[93m [WARNING] \\x1b[0m using untested triton version (2.3.1), only 1.0.0 is known to be compatible\\n\\n\\n=====================\\n\\n /home/ubuntu/src/tmp/186122da-938e-4c66-883d-03995958e640 \\n\\n=====================\\n\\n\\n\\n\\n=====================\\n\\n /home/ubuntu/src/tmp/186122da-938e-4c66-883d-03995958e640 \\n\\n=====================\\n\\n\\n\\n\\n=====================\\n\\n /home/ubuntu/src/tmp/186122da-938e-4c66-883d-03995958e640 \\n\\n=====================\\n\\n\\n\\n\\n=====================\\n\\n /home/ubuntu/src/tmp/186122da-938e-4c66-883d-03995958e640 \\n\\n=====================\\n\\n\\n\\nMap:   0%|          | 0/480 [00:00<?, ? examples/s]\\nMap: 100%|██████████| 480/480 [00:00<00:00, 21986.81 examples/s]\\n\\nMap:   0%|          | 0/120 [00:00<?, ? examples/s]\\nMap:   0%|          | 0/480 [00:00<?, ? examples/s]\\nMap: 100%|██████████| 120/120 [00:00<00:00, 10216.93 examples/s]\\n\\nMap: 100%|██████████| 480/480 [00:00<00:00, 25937.13 examples/s]\\n\\nMap:   0%|          | 0/120 [00:00<?, ? examples/s]\\n\\n=====================\\n\\n /home/ubuntu/src/tmp/186122da-938e-4c66-883d-03995958e640 \\n\\n=====================\\n\\n\\n\\nMap: 100%|██████████| 120/120 [00:00<00:00, 12014.91 examples/s]\\n\\nMap:   0%|          | 0/480 [00:00<?, ? examples/s]\\nMap:   0%|          | 0/480 [00:00<?, ? examples/s]\\n\\n=====================\\n\\n /home/ubuntu/src/tmp/186122da-938e-4c66-883d-03995958e640 \\n\\n=====================\\n\\n\\n\\n\\n=====================\\n\\n /home/ubuntu/src/tmp/186122da-938e-4c66-883d-03995958e640 \\n\\n=====================\\n\\n\\n\\nMap: 100%|██████████| 480/480 [00:00<00:00, 21500.06 examples/s]\\n\\nMap: 100%|██████████| 480/480 [00:00<00:00, 21697.25 examples/s]\\n\\n\\n=====================\\n\\n /home/ubuntu/src/tmp/186122da-938e-4c66-883d-03995958e640 \\n\\n=====================\\n\\n\\n\\nMap:   0%|          | 0/120 [00:00<?, ? examples/s]\\nMap:   0%|          | 0/120 [00:00<?, ? examples/s]\\nMap: 100%|██████████| 120/120 [00:00<00:00, 11766.33 examples/s]\\n\\nMap: 100%|██████████| 120/120 [00:00<00:00, 11422.66 examples/s]\\n\\nMap:   0%|          | 0/480 [00:00<?, ? examples/s]\\nMap: 100%|██████████| 480/480 [00:00<00:00, 27270.05 examples/s]\\n\\nMap:   0%|          | 0/120 [00:00<?, ? examples/s]\\nMap:   0%|          | 0/480 [00:00<?, ? examples/s]\\nMap:   0%|          | 0/480 [00:00<?, ? examples/s]\\nMap: 100%|██████████| 120/120 [00:00<00:00, 13002.23 examples/s]\\n\\nMap:   0%|          | 0/480 [00:00<?, ? examples/s]\\nMap: 100%|██████████| 480/480 [00:00<00:00, 25735.87 examples/s]\\n\\nMap: 100%|██████████| 480/480 [00:00<00:00, 26494.87 examples/s]\\n\\nMap: 100%|██████████| 480/480 [00:00<00:00, 27768.42 examples/s]\\n\\nMap:   0%|          | 0/120 [00:00<?, ? examples/s]\\nMap:   0%|          | 0/120 [00:00<?, ? examples/s]\\nMap: 100%|██████████| 120/120 [00:00<00:00, 12912.17 examples/s]\\n\\nMap: 100%|██████████| 120/120 [00:00<00:00, 11809.67 examples/s]\\n\\nMap:   0%|          | 0/120 [00:00<?, ? examples/s]\\nMap: 100%|██████████| 120/120 [00:00<00:00, 12881.44 examples/s]\\nUsing CUDA\\nInitializing process group for DDP\\nStart running basic DDP example on rank 0.\\nUsing CUDA\\nInitializing process group for DDP\\nStart running basic DDP example on rank 3.\\nUsing CUDA\\nInitializing process group for DDP\\nStart running basic DDP example on rank 6.\\nUsing CUDA\\nInitializing process group for DDP\\nStart running basic DDP example on rank 7.\\nUsing CUDA\\nInitializing process group for DDP\\nUsing CUDA\\nInitializing process group for DDP\\nStart running basic DDP example on rank 2.\\nUsing CUDA\\nInitializing process group for DDP\\nStart running basic DDP example on rank 4.\\nUsing CUDA\\nInitializing process group for DDP\\nStart running basic DDP example on rank 1.\\nStart running basic DDP example on rank 5.\\n/home/ubuntu/mlenv/lib/python3.12/site-packages/trl/trainer/sft_trainer.py:505: UserWarning: You passed a dataset that is already processed (contains an `input_ids` field) together with a valid formatting function. Therefore `formatting_func` will be ignored.\\n  warnings.warn(\\n/home/ubuntu/mlenv/lib/python3.12/site-packages/trl/trainer/sft_trainer.py:505: UserWarning: You passed a dataset that is already processed (contains an `input_ids` field) together with a valid formatting function. Therefore `formatting_func` will be ignored.\\n  warnings.warn(\\n/home/ubuntu/mlenv/lib/python3.12/site-packages/trl/trainer/sft_trainer.py:505: UserWarning: You passed a dataset that is already processed (contains an `input_ids` field) together with a valid formatting function. Therefore `formatting_func` will be ignored.\\n  warnings.warn(\\n/home/ubuntu/mlenv/lib/python3.12/site-packages/trl/trainer/sft_trainer.py:505: UserWarning: You passed a dataset that is already processed (contains an `input_ids` field) together with a valid formatting function. Therefore `formatting_func` will be ignored.\\n  warnings.warn(\\n/home/ubuntu/mlenv/lib/python3.12/site-packages/trl/trainer/sft_trainer.py:505: UserWarning: You passed a dataset that is already processed (contains an `input_ids` field) together with a valid formatting function. Therefore `formatting_func` will be ignored.\\n  warnings.warn(\\n/home/ubuntu/mlenv/lib/python3.12/site-packages/trl/trainer/sft_trainer.py:505: UserWarning: You passed a dataset that is already processed (contains an `input_ids` field) together with a valid formatting function. Therefore `formatting_func` will be ignored.\\n  warnings.warn(\\n/home/ubuntu/mlenv/lib/python3.12/site-packages/trl/trainer/sft_trainer.py:505: UserWarning: You passed a dataset that is already processed (contains an `input_ids` field) together with a valid formatting function. Therefore `formatting_func` will be ignored.\\n  warnings.warn(\\n/home/ubuntu/mlenv/lib/python3.12/site-packages/trl/trainer/sft_trainer.py:505: UserWarning: You passed a dataset that is already processed (contains an `input_ids` field) together with a valid formatting function. Therefore `formatting_func` will be ignored.\\n  warnings.warn(\\n\\n  0%|          | 0/60 [00:00<?, ?it/s]\\n  2%|▏         | 1/60 [00:01<01:19,  1.35s/it]\\n  3%|▎         | 2/60 [00:02<00:56,  1.02it/s]\\n  5%|▌         | 3/60 [00:02<00:49,  1.14it/s]\\n  7%|▋         | 4/60 [00:03<00:46,  1.22it/s]\\n  8%|▊         | 5/60 [00:04<00:43,  1.26it/s]\\n 10%|█         | 6/60 [00:05<00:42,  1.28it/s]\\n 12%|█▏        | 7/60 [00:05<00:40,  1.30it/s]\\n 13%|█▎        | 8/60 [00:06<00:39,  1.31it/s]\\n 15%|█▌        | 9/60 [00:07<00:38,  1.32it/s]\\n 17%|█▋        | 10/60 [00:08<00:37,  1.33it/s]\\n 18%|█▊        | 11/60 [00:08<00:36,  1.33it/s]\\n 20%|██        | 12/60 [00:09<00:35,  1.33it/s]\\n 22%|██▏       | 13/60 [00:10<00:35,  1.33it/s]\\n 23%|██▎       | 14/60 [00:11<00:34,  1.34it/s]\\n 25%|██▌       | 15/60 [00:11<00:33,  1.34it/s]\\n 27%|██▋       | 16/60 [00:12<00:32,  1.34it/s]\\n 28%|██▊       | 17/60 [00:13<00:32,  1.34it/s]\\n 30%|███       | 18/60 [00:14<00:31,  1.34it/s]\\n 32%|███▏      | 19/60 [00:14<00:30,  1.34it/s]\\n 33%|███▎      | 20/60 [00:15<00:29,  1.34it/s]\\n 35%|███▌      | 21/60 [00:16<00:29,  1.34it/s]\\n 37%|███▋      | 22/60 [00:16<00:28,  1.34it/s]\\n 38%|███▊      | 23/60 [00:17<00:27,  1.34it/s]\\n 40%|████      | 24/60 [00:18<00:26,  1.34it/s]\\n 42%|████▏     | 25/60 [00:19<00:26,  1.35it/s]\\n 43%|████▎     | 26/60 [00:19<00:25,  1.35it/s]\\n 45%|████▌     | 27/60 [00:20<00:24,  1.35it/s]\\n 47%|████▋     | 28/60 [00:21<00:23,  1.35it/s]\\n 48%|████▊     | 29/60 [00:22<00:23,  1.34it/s]\\n 50%|█████     | 30/60 [00:22<00:22,  1.34it/s]\\n 52%|█████▏    | 31/60 [00:23<00:21,  1.34it/s]\\n 53%|█████▎    | 32/60 [00:24<00:20,  1.34it/s]\\n 55%|█████▌    | 33/60 [00:25<00:20,  1.34it/s]\\n 57%|█████▋    | 34/60 [00:25<00:19,  1.34it/s]\\n 58%|█████▊    | 35/60 [00:26<00:18,  1.34it/s]\\n 60%|██████    | 36/60 [00:27<00:17,  1.35it/s]\\n 62%|██████▏   | 37/60 [00:28<00:17,  1.34it/s]\\n 63%|██████▎   | 38/60 [00:28<00:16,  1.34it/s]\\n 65%|██████▌   | 39/60 [00:29<00:15,  1.34it/s]\\n 67%|██████▋   | 40/60 [00:30<00:14,  1.35it/s]\\n 68%|██████▊   | 41/60 [00:31<00:14,  1.34it/s]\\n 70%|███████   | 42/60 [00:31<00:13,  1.34it/s]\\n 72%|███████▏  | 43/60 [00:32<00:12,  1.34it/s]\\n 73%|███████▎  | 44/60 [00:33<00:11,  1.34it/s]\\n 75%|███████▌  | 45/60 [00:34<00:11,  1.34it/s]\\n 77%|███████▋  | 46/60 [00:34<00:10,  1.35it/s]\\n 78%|███████▊  | 47/60 [00:35<00:09,  1.35it/s]\\n 80%|████████  | 48/60 [00:36<00:08,  1.35it/s]\\n 82%|████████▏ | 49/60 [00:37<00:08,  1.34it/s]\\n 83%|████████▎ | 50/60 [00:37<00:07,  1.35it/s]\\n 85%|████████▌ | 51/60 [00:38<00:06,  1.35it/s]\\n 87%|████████▋ | 52/60 [00:39<00:05,  1.35it/s]\\n 88%|████████▊ | 53/60 [00:40<00:05,  1.35it/s]\\n 90%|█████████ | 54/60 [00:40<00:04,  1.35it/s]\\n 92%|█████████▏| 55/60 [00:41<00:03,  1.34it/s]\\n 93%|█████████▎| 56/60 [00:42<00:02,  1.35it/s]\\n 95%|█████████▌| 57/60 [00:43<00:02,  1.35it/s]\\n 97%|█████████▋| 58/60 [00:43<00:01,  1.35it/s]\\n 98%|█████████▊| 59/60 [00:44<00:00,  1.35it/s]\\n100%|██████████| 60/60 [00:45<00:00,  1.34it/s]\\n                                               \\n{'train_runtime': 48.0663, 'train_samples_per_second': 9.986, 'train_steps_per_second': 1.248, 'train_loss': 0.096034042040507, 'epoch': 1.0}\\n\\n100%|██████████| 60/60 [00:47<00:00,  1.34it/s]\\n100%|██████████| 60/60 [00:47<00:00,  1.25it/s]\\n\"}\n"
          ]
        }
      ]
    },
    {
      "cell_type": "markdown",
      "source": [
        "### Downloading\n",
        "The trained model can be downloaded using the \"download_model\" function. it will be a zip file."
      ],
      "metadata": {
        "id": "X0W_vQ4SNUmA"
      }
    },
    {
      "cell_type": "code",
      "source": [
        "from simplifine_alpha.train_utils import download_model\n",
        "import os\n",
        "\n",
        "# creating a folder to store the model\n",
        "os.mkdir('sf_trained_model')\n",
        "\n",
        "# download and save the model to it.\n",
        "# This might take some time, have a sip of that coffee! :)\n",
        "download_model(api_key=api_key, job_id=job_id, extract_to='/content/sf_trained_model')"
      ],
      "metadata": {
        "colab": {
          "base_uri": "https://localhost:8080/"
        },
        "id": "8AX0UO2WN1_8",
        "outputId": "8c701caa-4872-44c2-dd89-5e9478ed1116"
      },
      "execution_count": 10,
      "outputs": [
        {
          "output_type": "stream",
          "name": "stderr",
          "text": [
            "Downloading: 100%|██████████| 539M/539M [00:41<00:00, 13.1MiB/s]\n"
          ]
        },
        {
          "output_type": "stream",
          "name": "stdout",
          "text": [
            "\n",
            "Directory downloaded successfully and saved to /content/sf_trained_model/186122da-938e-4c66-883d-03995958e640.zip\n",
            "Model unzipped successfully to /content/sf_trained_model\n",
            "Deleted the zip file at /content/sf_trained_model/186122da-938e-4c66-883d-03995958e640.zip\n",
            "Model downloaded, unzipped, and zip file deleted successfully!\n"
          ]
        }
      ]
    },
    {
      "cell_type": "markdown",
      "source": [
        "Finally, we test loading the model!"
      ],
      "metadata": {
        "id": "xVnpp2aVjlzw"
      }
    },
    {
      "cell_type": "code",
      "source": [
        "from transformers import AutoModelForCausalLM, AutoTokenizer\n",
        "\n",
        "path = '/content/sf_trained_model'\n",
        "sf_model = AutoModelForCausalLM.from_pretrained(path)\n",
        "sf_tokenizer = AutoTokenizer.from_pretrained(path)\n",
        "\n",
        "input_example = '''### TITLE: title 1\\n ### ABSTRACT: abstract 1\\n ###EXPLANATION: '''\n",
        "\n",
        "input_example = sf_tokenizer(input_example, return_tensors='pt')\n",
        "\n",
        "output = sf_model.generate(input_example['input_ids'],\n",
        "                           attention_mask=input_example['attention_mask'],\n",
        "                           max_length=30,eos_token_id=sf_tokenizer.eos_token_id,\n",
        "                           early_stopping=True,\n",
        "                           pad_token_id=sf_tokenizer.eos_token_id\n",
        ")\n",
        "\n",
        "print(sf_tokenizer.decode(output[0]))"
      ],
      "metadata": {
        "colab": {
          "base_uri": "https://localhost:8080/"
        },
        "id": "Ah_EwcfpjpMD",
        "outputId": "bf1ac08d-f61a-4ad2-ca42-df7a3425f7f2"
      },
      "execution_count": 11,
      "outputs": [
        {
          "output_type": "stream",
          "name": "stderr",
          "text": [
            "Some weights of the model checkpoint at /content/sf_trained_model were not used when initializing GPTNeoXForCausalLM: ['module.embed_out.weight', 'module.gpt_neox.embed_in.weight', 'module.gpt_neox.final_layer_norm.bias', 'module.gpt_neox.final_layer_norm.weight', 'module.gpt_neox.layers.0.attention.dense.bias', 'module.gpt_neox.layers.0.attention.dense.weight', 'module.gpt_neox.layers.0.attention.query_key_value.bias', 'module.gpt_neox.layers.0.attention.query_key_value.weight', 'module.gpt_neox.layers.0.input_layernorm.bias', 'module.gpt_neox.layers.0.input_layernorm.weight', 'module.gpt_neox.layers.0.mlp.dense_4h_to_h.bias', 'module.gpt_neox.layers.0.mlp.dense_4h_to_h.weight', 'module.gpt_neox.layers.0.mlp.dense_h_to_4h.bias', 'module.gpt_neox.layers.0.mlp.dense_h_to_4h.weight', 'module.gpt_neox.layers.0.post_attention_layernorm.bias', 'module.gpt_neox.layers.0.post_attention_layernorm.weight', 'module.gpt_neox.layers.1.attention.dense.bias', 'module.gpt_neox.layers.1.attention.dense.weight', 'module.gpt_neox.layers.1.attention.query_key_value.bias', 'module.gpt_neox.layers.1.attention.query_key_value.weight', 'module.gpt_neox.layers.1.input_layernorm.bias', 'module.gpt_neox.layers.1.input_layernorm.weight', 'module.gpt_neox.layers.1.mlp.dense_4h_to_h.bias', 'module.gpt_neox.layers.1.mlp.dense_4h_to_h.weight', 'module.gpt_neox.layers.1.mlp.dense_h_to_4h.bias', 'module.gpt_neox.layers.1.mlp.dense_h_to_4h.weight', 'module.gpt_neox.layers.1.post_attention_layernorm.bias', 'module.gpt_neox.layers.1.post_attention_layernorm.weight', 'module.gpt_neox.layers.10.attention.dense.bias', 'module.gpt_neox.layers.10.attention.dense.weight', 'module.gpt_neox.layers.10.attention.query_key_value.bias', 'module.gpt_neox.layers.10.attention.query_key_value.weight', 'module.gpt_neox.layers.10.input_layernorm.bias', 'module.gpt_neox.layers.10.input_layernorm.weight', 'module.gpt_neox.layers.10.mlp.dense_4h_to_h.bias', 'module.gpt_neox.layers.10.mlp.dense_4h_to_h.weight', 'module.gpt_neox.layers.10.mlp.dense_h_to_4h.bias', 'module.gpt_neox.layers.10.mlp.dense_h_to_4h.weight', 'module.gpt_neox.layers.10.post_attention_layernorm.bias', 'module.gpt_neox.layers.10.post_attention_layernorm.weight', 'module.gpt_neox.layers.11.attention.dense.bias', 'module.gpt_neox.layers.11.attention.dense.weight', 'module.gpt_neox.layers.11.attention.query_key_value.bias', 'module.gpt_neox.layers.11.attention.query_key_value.weight', 'module.gpt_neox.layers.11.input_layernorm.bias', 'module.gpt_neox.layers.11.input_layernorm.weight', 'module.gpt_neox.layers.11.mlp.dense_4h_to_h.bias', 'module.gpt_neox.layers.11.mlp.dense_4h_to_h.weight', 'module.gpt_neox.layers.11.mlp.dense_h_to_4h.bias', 'module.gpt_neox.layers.11.mlp.dense_h_to_4h.weight', 'module.gpt_neox.layers.11.post_attention_layernorm.bias', 'module.gpt_neox.layers.11.post_attention_layernorm.weight', 'module.gpt_neox.layers.2.attention.dense.bias', 'module.gpt_neox.layers.2.attention.dense.weight', 'module.gpt_neox.layers.2.attention.query_key_value.bias', 'module.gpt_neox.layers.2.attention.query_key_value.weight', 'module.gpt_neox.layers.2.input_layernorm.bias', 'module.gpt_neox.layers.2.input_layernorm.weight', 'module.gpt_neox.layers.2.mlp.dense_4h_to_h.bias', 'module.gpt_neox.layers.2.mlp.dense_4h_to_h.weight', 'module.gpt_neox.layers.2.mlp.dense_h_to_4h.bias', 'module.gpt_neox.layers.2.mlp.dense_h_to_4h.weight', 'module.gpt_neox.layers.2.post_attention_layernorm.bias', 'module.gpt_neox.layers.2.post_attention_layernorm.weight', 'module.gpt_neox.layers.3.attention.dense.bias', 'module.gpt_neox.layers.3.attention.dense.weight', 'module.gpt_neox.layers.3.attention.query_key_value.bias', 'module.gpt_neox.layers.3.attention.query_key_value.weight', 'module.gpt_neox.layers.3.input_layernorm.bias', 'module.gpt_neox.layers.3.input_layernorm.weight', 'module.gpt_neox.layers.3.mlp.dense_4h_to_h.bias', 'module.gpt_neox.layers.3.mlp.dense_4h_to_h.weight', 'module.gpt_neox.layers.3.mlp.dense_h_to_4h.bias', 'module.gpt_neox.layers.3.mlp.dense_h_to_4h.weight', 'module.gpt_neox.layers.3.post_attention_layernorm.bias', 'module.gpt_neox.layers.3.post_attention_layernorm.weight', 'module.gpt_neox.layers.4.attention.dense.bias', 'module.gpt_neox.layers.4.attention.dense.weight', 'module.gpt_neox.layers.4.attention.query_key_value.bias', 'module.gpt_neox.layers.4.attention.query_key_value.weight', 'module.gpt_neox.layers.4.input_layernorm.bias', 'module.gpt_neox.layers.4.input_layernorm.weight', 'module.gpt_neox.layers.4.mlp.dense_4h_to_h.bias', 'module.gpt_neox.layers.4.mlp.dense_4h_to_h.weight', 'module.gpt_neox.layers.4.mlp.dense_h_to_4h.bias', 'module.gpt_neox.layers.4.mlp.dense_h_to_4h.weight', 'module.gpt_neox.layers.4.post_attention_layernorm.bias', 'module.gpt_neox.layers.4.post_attention_layernorm.weight', 'module.gpt_neox.layers.5.attention.dense.bias', 'module.gpt_neox.layers.5.attention.dense.weight', 'module.gpt_neox.layers.5.attention.query_key_value.bias', 'module.gpt_neox.layers.5.attention.query_key_value.weight', 'module.gpt_neox.layers.5.input_layernorm.bias', 'module.gpt_neox.layers.5.input_layernorm.weight', 'module.gpt_neox.layers.5.mlp.dense_4h_to_h.bias', 'module.gpt_neox.layers.5.mlp.dense_4h_to_h.weight', 'module.gpt_neox.layers.5.mlp.dense_h_to_4h.bias', 'module.gpt_neox.layers.5.mlp.dense_h_to_4h.weight', 'module.gpt_neox.layers.5.post_attention_layernorm.bias', 'module.gpt_neox.layers.5.post_attention_layernorm.weight', 'module.gpt_neox.layers.6.attention.dense.bias', 'module.gpt_neox.layers.6.attention.dense.weight', 'module.gpt_neox.layers.6.attention.query_key_value.bias', 'module.gpt_neox.layers.6.attention.query_key_value.weight', 'module.gpt_neox.layers.6.input_layernorm.bias', 'module.gpt_neox.layers.6.input_layernorm.weight', 'module.gpt_neox.layers.6.mlp.dense_4h_to_h.bias', 'module.gpt_neox.layers.6.mlp.dense_4h_to_h.weight', 'module.gpt_neox.layers.6.mlp.dense_h_to_4h.bias', 'module.gpt_neox.layers.6.mlp.dense_h_to_4h.weight', 'module.gpt_neox.layers.6.post_attention_layernorm.bias', 'module.gpt_neox.layers.6.post_attention_layernorm.weight', 'module.gpt_neox.layers.7.attention.dense.bias', 'module.gpt_neox.layers.7.attention.dense.weight', 'module.gpt_neox.layers.7.attention.query_key_value.bias', 'module.gpt_neox.layers.7.attention.query_key_value.weight', 'module.gpt_neox.layers.7.input_layernorm.bias', 'module.gpt_neox.layers.7.input_layernorm.weight', 'module.gpt_neox.layers.7.mlp.dense_4h_to_h.bias', 'module.gpt_neox.layers.7.mlp.dense_4h_to_h.weight', 'module.gpt_neox.layers.7.mlp.dense_h_to_4h.bias', 'module.gpt_neox.layers.7.mlp.dense_h_to_4h.weight', 'module.gpt_neox.layers.7.post_attention_layernorm.bias', 'module.gpt_neox.layers.7.post_attention_layernorm.weight', 'module.gpt_neox.layers.8.attention.dense.bias', 'module.gpt_neox.layers.8.attention.dense.weight', 'module.gpt_neox.layers.8.attention.query_key_value.bias', 'module.gpt_neox.layers.8.attention.query_key_value.weight', 'module.gpt_neox.layers.8.input_layernorm.bias', 'module.gpt_neox.layers.8.input_layernorm.weight', 'module.gpt_neox.layers.8.mlp.dense_4h_to_h.bias', 'module.gpt_neox.layers.8.mlp.dense_4h_to_h.weight', 'module.gpt_neox.layers.8.mlp.dense_h_to_4h.bias', 'module.gpt_neox.layers.8.mlp.dense_h_to_4h.weight', 'module.gpt_neox.layers.8.post_attention_layernorm.bias', 'module.gpt_neox.layers.8.post_attention_layernorm.weight', 'module.gpt_neox.layers.9.attention.dense.bias', 'module.gpt_neox.layers.9.attention.dense.weight', 'module.gpt_neox.layers.9.attention.query_key_value.bias', 'module.gpt_neox.layers.9.attention.query_key_value.weight', 'module.gpt_neox.layers.9.input_layernorm.bias', 'module.gpt_neox.layers.9.input_layernorm.weight', 'module.gpt_neox.layers.9.mlp.dense_4h_to_h.bias', 'module.gpt_neox.layers.9.mlp.dense_4h_to_h.weight', 'module.gpt_neox.layers.9.mlp.dense_h_to_4h.bias', 'module.gpt_neox.layers.9.mlp.dense_h_to_4h.weight', 'module.gpt_neox.layers.9.post_attention_layernorm.bias', 'module.gpt_neox.layers.9.post_attention_layernorm.weight']\n",
            "- This IS expected if you are initializing GPTNeoXForCausalLM from the checkpoint of a model trained on another task or with another architecture (e.g. initializing a BertForSequenceClassification model from a BertForPreTraining model).\n",
            "- This IS NOT expected if you are initializing GPTNeoXForCausalLM from the checkpoint of a model that you expect to be exactly identical (initializing a BertForSequenceClassification model from a BertForSequenceClassification model).\n",
            "Some weights of GPTNeoXForCausalLM were not initialized from the model checkpoint at /content/sf_trained_model and are newly initialized: ['embed_in.weight', 'embed_out.weight', 'final_layer_norm.bias', 'final_layer_norm.weight', 'layers.0.attention.dense.bias', 'layers.0.attention.dense.weight', 'layers.0.attention.query_key_value.bias', 'layers.0.attention.query_key_value.weight', 'layers.0.input_layernorm.bias', 'layers.0.input_layernorm.weight', 'layers.0.mlp.dense_4h_to_h.bias', 'layers.0.mlp.dense_4h_to_h.weight', 'layers.0.mlp.dense_h_to_4h.bias', 'layers.0.mlp.dense_h_to_4h.weight', 'layers.0.post_attention_layernorm.bias', 'layers.0.post_attention_layernorm.weight', 'layers.1.attention.dense.bias', 'layers.1.attention.dense.weight', 'layers.1.attention.query_key_value.bias', 'layers.1.attention.query_key_value.weight', 'layers.1.input_layernorm.bias', 'layers.1.input_layernorm.weight', 'layers.1.mlp.dense_4h_to_h.bias', 'layers.1.mlp.dense_4h_to_h.weight', 'layers.1.mlp.dense_h_to_4h.bias', 'layers.1.mlp.dense_h_to_4h.weight', 'layers.1.post_attention_layernorm.bias', 'layers.1.post_attention_layernorm.weight', 'layers.10.attention.dense.bias', 'layers.10.attention.dense.weight', 'layers.10.attention.query_key_value.bias', 'layers.10.attention.query_key_value.weight', 'layers.10.input_layernorm.bias', 'layers.10.input_layernorm.weight', 'layers.10.mlp.dense_4h_to_h.bias', 'layers.10.mlp.dense_4h_to_h.weight', 'layers.10.mlp.dense_h_to_4h.bias', 'layers.10.mlp.dense_h_to_4h.weight', 'layers.10.post_attention_layernorm.bias', 'layers.10.post_attention_layernorm.weight', 'layers.11.attention.dense.bias', 'layers.11.attention.dense.weight', 'layers.11.attention.query_key_value.bias', 'layers.11.attention.query_key_value.weight', 'layers.11.input_layernorm.bias', 'layers.11.input_layernorm.weight', 'layers.11.mlp.dense_4h_to_h.bias', 'layers.11.mlp.dense_4h_to_h.weight', 'layers.11.mlp.dense_h_to_4h.bias', 'layers.11.mlp.dense_h_to_4h.weight', 'layers.11.post_attention_layernorm.bias', 'layers.11.post_attention_layernorm.weight', 'layers.2.attention.dense.bias', 'layers.2.attention.dense.weight', 'layers.2.attention.query_key_value.bias', 'layers.2.attention.query_key_value.weight', 'layers.2.input_layernorm.bias', 'layers.2.input_layernorm.weight', 'layers.2.mlp.dense_4h_to_h.bias', 'layers.2.mlp.dense_4h_to_h.weight', 'layers.2.mlp.dense_h_to_4h.bias', 'layers.2.mlp.dense_h_to_4h.weight', 'layers.2.post_attention_layernorm.bias', 'layers.2.post_attention_layernorm.weight', 'layers.3.attention.dense.bias', 'layers.3.attention.dense.weight', 'layers.3.attention.query_key_value.bias', 'layers.3.attention.query_key_value.weight', 'layers.3.input_layernorm.bias', 'layers.3.input_layernorm.weight', 'layers.3.mlp.dense_4h_to_h.bias', 'layers.3.mlp.dense_4h_to_h.weight', 'layers.3.mlp.dense_h_to_4h.bias', 'layers.3.mlp.dense_h_to_4h.weight', 'layers.3.post_attention_layernorm.bias', 'layers.3.post_attention_layernorm.weight', 'layers.4.attention.dense.bias', 'layers.4.attention.dense.weight', 'layers.4.attention.query_key_value.bias', 'layers.4.attention.query_key_value.weight', 'layers.4.input_layernorm.bias', 'layers.4.input_layernorm.weight', 'layers.4.mlp.dense_4h_to_h.bias', 'layers.4.mlp.dense_4h_to_h.weight', 'layers.4.mlp.dense_h_to_4h.bias', 'layers.4.mlp.dense_h_to_4h.weight', 'layers.4.post_attention_layernorm.bias', 'layers.4.post_attention_layernorm.weight', 'layers.5.attention.dense.bias', 'layers.5.attention.dense.weight', 'layers.5.attention.query_key_value.bias', 'layers.5.attention.query_key_value.weight', 'layers.5.input_layernorm.bias', 'layers.5.input_layernorm.weight', 'layers.5.mlp.dense_4h_to_h.bias', 'layers.5.mlp.dense_4h_to_h.weight', 'layers.5.mlp.dense_h_to_4h.bias', 'layers.5.mlp.dense_h_to_4h.weight', 'layers.5.post_attention_layernorm.bias', 'layers.5.post_attention_layernorm.weight', 'layers.6.attention.dense.bias', 'layers.6.attention.dense.weight', 'layers.6.attention.query_key_value.bias', 'layers.6.attention.query_key_value.weight', 'layers.6.input_layernorm.bias', 'layers.6.input_layernorm.weight', 'layers.6.mlp.dense_4h_to_h.bias', 'layers.6.mlp.dense_4h_to_h.weight', 'layers.6.mlp.dense_h_to_4h.bias', 'layers.6.mlp.dense_h_to_4h.weight', 'layers.6.post_attention_layernorm.bias', 'layers.6.post_attention_layernorm.weight', 'layers.7.attention.dense.bias', 'layers.7.attention.dense.weight', 'layers.7.attention.query_key_value.bias', 'layers.7.attention.query_key_value.weight', 'layers.7.input_layernorm.bias', 'layers.7.input_layernorm.weight', 'layers.7.mlp.dense_4h_to_h.bias', 'layers.7.mlp.dense_4h_to_h.weight', 'layers.7.mlp.dense_h_to_4h.bias', 'layers.7.mlp.dense_h_to_4h.weight', 'layers.7.post_attention_layernorm.bias', 'layers.7.post_attention_layernorm.weight', 'layers.8.attention.dense.bias', 'layers.8.attention.dense.weight', 'layers.8.attention.query_key_value.bias', 'layers.8.attention.query_key_value.weight', 'layers.8.input_layernorm.bias', 'layers.8.input_layernorm.weight', 'layers.8.mlp.dense_4h_to_h.bias', 'layers.8.mlp.dense_4h_to_h.weight', 'layers.8.mlp.dense_h_to_4h.bias', 'layers.8.mlp.dense_h_to_4h.weight', 'layers.8.post_attention_layernorm.bias', 'layers.8.post_attention_layernorm.weight', 'layers.9.attention.dense.bias', 'layers.9.attention.dense.weight', 'layers.9.attention.query_key_value.bias', 'layers.9.attention.query_key_value.weight', 'layers.9.input_layernorm.bias', 'layers.9.input_layernorm.weight', 'layers.9.mlp.dense_4h_to_h.bias', 'layers.9.mlp.dense_4h_to_h.weight', 'layers.9.mlp.dense_h_to_4h.bias', 'layers.9.mlp.dense_h_to_4h.weight', 'layers.9.post_attention_layernorm.bias', 'layers.9.post_attention_layernorm.weight']\n",
            "You should probably TRAIN this model on a down-stream task to be able to use it for predictions and inference.\n",
            "Special tokens have been added in the vocabulary, make sure the associated word embeddings are fine-tuned or trained.\n"
          ]
        },
        {
          "output_type": "stream",
          "name": "stdout",
          "text": [
            "### TITLE: title 1\n",
            " ### ABSTRACT: abstract 1\n",
            " ###EXPLANATION:  bursting Maced consumers BGCOLOR pillar ν\n"
          ]
        }
      ]
    },
    {
      "cell_type": "markdown",
      "source": [
        "### Using ZeRO\n",
        "ZeRO is a strong tool when a model cannot fit on GPU memory, so it is sharded across them (parameters, gradients and activations). Further memory reduction could be by enabling fp16/bf16, and gradient_checkpointing."
      ],
      "metadata": {
        "id": "pUMQOApVieeJ"
      }
    },
    {
      "cell_type": "code",
      "source": [
        "# This time, we just change the use_zero arg to True, and opposite to use_ddp.\n",
        "sft_train_cloud(model_name = model_name, from_hf=from_hf, dataset_name=dataset_name,\n",
        "        keys = keys, data = data,\n",
        "        template = template, job_name='zero_example_cloud', api_key=api_key,\n",
        "        response_template=response_template, use_zero=True, use_ddp=False)"
      ],
      "metadata": {
        "id": "K0jWa3RnigXS"
      },
      "execution_count": 12,
      "outputs": []
    },
    {
      "cell_type": "code",
      "source": [
        "# repeat the same step of extracting jobs and ids\n",
        "status = get_job_status(api_key)\n",
        "\n",
        "for num,i in enumerate(status):\n",
        "  print(f'Number {num} status: {i}\\n')"
      ],
      "metadata": {
        "colab": {
          "base_uri": "https://localhost:8080/"
        },
        "id": "ROzP-Lc9k3-J",
        "outputId": "3f64346a-c3aa-494b-e718-2e3f7b3a1db3"
      },
      "execution_count": 13,
      "outputs": [
        {
          "output_type": "stream",
          "name": "stdout",
          "text": [
            "Number 0 status: {'job_id': '52c7c957-e712-46a3-a5b9-f479f9065d2d', 'job_name': 'sft_cloud_example', 'status': 'completed'}\n",
            "\n",
            "Number 1 status: {'job_id': '85bff99b-f469-4041-a955-9bd6eb6a5ec5', 'job_name': 'sft_cloud_example', 'status': 'completed'}\n",
            "\n",
            "Number 2 status: {'job_id': '2fe4a5a4-a2ad-41c2-b2e9-ce9f15d3ccf1', 'job_name': 'sft_cloud_example', 'status': 'completed'}\n",
            "\n",
            "Number 3 status: {'job_id': '85ce697f-e8ce-45c0-8c92-8decfee2f9bd', 'job_name': 'sft_cloud_example', 'status': 'completed'}\n",
            "\n",
            "Number 4 status: {'job_id': '93cac1ce-6cba-4819-b70d-4cf94e99c67a', 'job_name': 'sft_cloud_example', 'status': 'completed'}\n",
            "\n",
            "Number 5 status: {'job_id': '5f05254a-5d2f-46c9-9843-da1b215e91b4', 'job_name': 'test', 'status': 'completed'}\n",
            "\n",
            "Number 6 status: {'job_id': 'd46aecbb-84a0-40fc-9913-43065b3cb4f2', 'job_name': 'test', 'status': 'completed'}\n",
            "\n",
            "Number 7 status: {'job_id': '46a0bde6-e526-49cf-a004-330ddd7ed830', 'job_name': 'zero_example', 'status': 'completed'}\n",
            "\n",
            "Number 8 status: {'job_id': 'f1fdab0a-2d85-4f2f-8655-97e5f2490614', 'job_name': 'sft_cloud_example', 'status': 'completed'}\n",
            "\n",
            "Number 9 status: {'job_id': '6b2b73e5-63e1-4249-b7e2-49d3c48309e7', 'job_name': 'test', 'status': 'completed'}\n",
            "\n",
            "Number 10 status: {'job_id': 'de19e139-253e-4cc6-ae5a-3c1b23b8e4af', 'job_name': 'test', 'status': 'completed'}\n",
            "\n",
            "Number 11 status: {'job_id': '133b6ce4-0d4c-43bb-84db-6bfb1660d2ed', 'job_name': 'zero_example', 'status': 'completed'}\n",
            "\n",
            "Number 12 status: {'job_id': '87424419-edf5-4a5f-8048-eb064f82e8a7', 'job_name': 'zero_example_cloud', 'status': 'completed'}\n",
            "\n",
            "Number 13 status: {'job_id': 'fdc29e2f-122e-420d-94ee-b57b64a03e60', 'job_name': 'test', 'status': 'completed'}\n",
            "\n",
            "Number 14 status: {'job_id': '754a2d8d-e2ec-42e1-9b08-c5da3f2742cf', 'job_name': 'test', 'status': 'completed'}\n",
            "\n",
            "Number 15 status: {'job_id': 'ef765ffc-c3f6-4e59-a04d-5922a336e47d', 'job_name': 'test', 'status': 'completed'}\n",
            "\n",
            "Number 16 status: {'job_id': 'e9fcb313-2e4f-46d6-bfd9-73381f612caa', 'job_name': 'test', 'status': 'completed'}\n",
            "\n",
            "Number 17 status: {'job_id': 'e24699b1-9c7a-4e94-8cd7-ddd8c54c6e1a', 'job_name': 'test', 'status': 'completed'}\n",
            "\n",
            "Number 18 status: {'job_id': '74a3bdf0-8783-483f-949c-5710b89fc2a9', 'job_name': 'test', 'status': 'completed'}\n",
            "\n",
            "Number 19 status: {'job_id': '0eaf50fc-5ad4-4bbe-83e2-1e4652a6a845', 'job_name': 'test', 'status': 'completed'}\n",
            "\n",
            "Number 20 status: {'job_id': '11003723-5239-42fd-ad63-642efe17f4f4', 'job_name': 'test', 'status': 'completed'}\n",
            "\n",
            "Number 21 status: {'job_id': '186122da-938e-4c66-883d-03995958e640', 'job_name': 'testing_ddp', 'status': 'completed'}\n",
            "\n",
            "Number 22 status: {'job_id': '3f976775-230d-4fba-b21b-b66c60903380', 'job_name': 'zero_example_cloud', 'status': 'in progress'}\n",
            "\n"
          ]
        }
      ]
    },
    {
      "cell_type": "code",
      "source": [
        "# extracting logs again\n",
        "job_id = status[-1]['job_id']\n",
        "\n",
        "logs = get_train_logs(api_key, job_id)\n",
        "print(logs)"
      ],
      "metadata": {
        "colab": {
          "base_uri": "https://localhost:8080/"
        },
        "id": "CnJCzj5hk8gP",
        "outputId": "d9c8b24f-f143-4da2-91d9-e62abf4bc172"
      },
      "execution_count": 14,
      "outputs": [
        {
          "output_type": "stream",
          "name": "stdout",
          "text": [
            "{'response': \"W0726 20:15:50.983000 126427955855488 torch/distributed/run.py:757] \\nW0726 20:15:50.983000 126427955855488 torch/distributed/run.py:757] *****************************************\\nW0726 20:15:50.983000 126427955855488 torch/distributed/run.py:757] Setting OMP_NUM_THREADS environment variable for each process to be 1 in default, to avoid your system being overloaded, please further tune the variable for optimal performance in your application as needed. \\nW0726 20:15:50.983000 126427955855488 torch/distributed/run.py:757] *****************************************\\n[2024-07-26 20:15:54,649] [INFO] [real_accelerator.py:203:get_accelerator] Setting ds_accelerator to cuda (auto detect)\\n[2024-07-26 20:15:54,823] [INFO] [real_accelerator.py:203:get_accelerator] Setting ds_accelerator to cuda (auto detect)\\n[2024-07-26 20:15:54,955] [INFO] [real_accelerator.py:203:get_accelerator] Setting ds_accelerator to cuda (auto detect)\\n[2024-07-26 20:15:54,966] [INFO] [real_accelerator.py:203:get_accelerator] Setting ds_accelerator to cuda (auto detect)\\n[2024-07-26 20:15:55,032] [INFO] [real_accelerator.py:203:get_accelerator] Setting ds_accelerator to cuda (auto detect)\\n[2024-07-26 20:15:55,040] [INFO] [real_accelerator.py:203:get_accelerator] Setting ds_accelerator to cuda (auto detect)\\n[2024-07-26 20:15:55,040] [INFO] [real_accelerator.py:203:get_accelerator] Setting ds_accelerator to cuda (auto detect)\\n[2024-07-26 20:15:55,046] [INFO] [real_accelerator.py:203:get_accelerator] Setting ds_accelerator to cuda (auto detect)\\n\\x1b[93m [WARNING] \\x1b[0m async_io requires the dev libaio .so object and headers but these were not found.\\n\\x1b[93m [WARNING] \\x1b[0m async_io: please install the libaio-dev package with apt\\n\\x1b[93m [WARNING] \\x1b[0m If libaio is already installed (perhaps from source), try setting the CFLAGS and LDFLAGS environment variables to where it can be found.\\n\\x1b[93m [WARNING] \\x1b[0m Please specify the CUTLASS repo directory as environment variable $CUTLASS_PATH\\n\\x1b[93m [WARNING] \\x1b[0m sparse_attn requires a torch version >= 1.5 and < 2.0 but detected 2.3\\n\\x1b[93m [WARNING] \\x1b[0m using untested triton version (2.3.1), only 1.0.0 is known to be compatible\\n\\x1b[93m [WARNING] \\x1b[0m async_io requires the dev libaio .so object and headers but these were not found.\\n\\x1b[93m [WARNING] \\x1b[0m async_io: please install the libaio-dev package with apt\\n\\x1b[93m [WARNING] \\x1b[0m If libaio is already installed (perhaps from source), try setting the CFLAGS and LDFLAGS environment variables to where it can be found.\\n\\x1b[93m [WARNING] \\x1b[0m Please specify the CUTLASS repo directory as environment variable $CUTLASS_PATH\\n\\x1b[93m [WARNING] \\x1b[0m sparse_attn requires a torch version >= 1.5 and < 2.0 but detected 2.3\\n\\x1b[93m [WARNING] \\x1b[0m using untested triton version (2.3.1), only 1.0.0 is known to be compatible\\n\\x1b[93m [WARNING] \\x1b[0m async_io requires the dev libaio .so object and headers but these were not found.\\n\\x1b[93m [WARNING] \\x1b[0m async_io: please install the libaio-dev package with apt\\n\\x1b[93m [WARNING] \\x1b[0m If libaio is already installed (perhaps from source), try setting the CFLAGS and LDFLAGS environment variables to where it can be found.\\n\\x1b[93m [WARNING] \\x1b[0m Please specify the CUTLASS repo directory as environment variable $CUTLASS_PATH\\n\\x1b[93m [WARNING] \\x1b[0m sparse_attn requires a torch version >= 1.5 and < 2.0 but detected 2.3\\n\\x1b[93m [WARNING] \\x1b[0m async_io requires the dev libaio .so object and headers but these were not found.\\n\\x1b[93m [WARNING] \\x1b[0m using untested triton version (2.3.1), only 1.0.0 is known to be compatible\\n\\x1b[93m [WARNING] \\x1b[0m async_io: please install the libaio-dev package with apt\\n\\x1b[93m [WARNING] \\x1b[0m If libaio is already installed (perhaps from source), try setting the CFLAGS and LDFLAGS environment variables to where it can be found.\\n\\x1b[93m [WARNING] \\x1b[0m Please specify the CUTLASS repo directory as environment variable $CUTLASS_PATH\\n\\x1b[93m [WARNING] \\x1b[0m async_io requires the dev libaio .so object and headers but these were not found.\\n\\x1b[93m [WARNING] \\x1b[0m async_io requires the dev libaio .so object and headers but these were not found.\\n\\x1b[93m [WARNING] \\x1b[0m sparse_attn requires a torch version >= 1.5 and < 2.0 but detected 2.3\\n\\x1b[93m [WARNING] \\x1b[0m using untested triton version (2.3.1), only 1.0.0 is known to be compatible\\n\\x1b[93m [WARNING] \\x1b[0m async_io: please install the libaio-dev package with apt\\n\\x1b[93m [WARNING] \\x1b[0m If libaio is already installed (perhaps from source), try setting the CFLAGS and LDFLAGS environment variables to where it can be found.\\n\\x1b[93m [WARNING] \\x1b[0m Please specify the CUTLASS repo directory as environment variable $CUTLASS_PATH\\n\\x1b[93m [WARNING] \\x1b[0m async_io requires the dev libaio .so object and headers but these were not found.\\n\\x1b[93m [WARNING] \\x1b[0m async_io: please install the libaio-dev package with apt\\n\\x1b[93m [WARNING] \\x1b[0m If libaio is already installed (perhaps from source), try setting the CFLAGS and LDFLAGS environment variables to where it can be found.\\n\\x1b[93m [WARNING] \\x1b[0m Please specify the CUTLASS repo directory as environment variable $CUTLASS_PATH\\n\\x1b[93m [WARNING] \\x1b[0m async_io: please install the libaio-dev package with apt\\n\\x1b[93m [WARNING] \\x1b[0m If libaio is already installed (perhaps from source), try setting the CFLAGS and LDFLAGS environment variables to where it can be found.\\n\\x1b[93m [WARNING] \\x1b[0m Please specify the CUTLASS repo directory as environment variable $CUTLASS_PATH\\n\\x1b[93m [WARNING] \\x1b[0m async_io requires the dev libaio .so object and headers but these were not found.\\n\\x1b[93m [WARNING] \\x1b[0m async_io: please install the libaio-dev package with apt\\n\\x1b[93m [WARNING] \\x1b[0m If libaio is already installed (perhaps from source), try setting the CFLAGS and LDFLAGS environment variables to where it can be found.\\n\\x1b[93m [WARNING] \\x1b[0m Please specify the CUTLASS repo directory as environment variable $CUTLASS_PATH\\n\\x1b[93m [WARNING] \\x1b[0m sparse_attn requires a torch version >= 1.5 and < 2.0 but detected 2.3\\n\\x1b[93m [WARNING] \\x1b[0m using untested triton version (2.3.1), only 1.0.0 is known to be compatible\\n\\x1b[93m [WARNING] \\x1b[0m sparse_attn requires a torch version >= 1.5 and < 2.0 but detected 2.3\\n\\x1b[93m [WARNING] \\x1b[0m using untested triton version (2.3.1), only 1.0.0 is known to be compatible\\n\\x1b[93m [WARNING] \\x1b[0m sparse_attn requires a torch version >= 1.5 and < 2.0 but detected 2.3\\n\\x1b[93m [WARNING] \\x1b[0m using untested triton version (2.3.1), only 1.0.0 is known to be compatible\\n\\x1b[93m [WARNING] \\x1b[0m sparse_attn requires a torch version >= 1.5 and < 2.0 but detected 2.3\\n\\x1b[93m [WARNING] \\x1b[0m using untested triton version (2.3.1), only 1.0.0 is known to be compatible\\n\\n\\n=====================\\n\\n /home/ubuntu/src/tmp/3f976775-230d-4fba-b21b-b66c60903380 \\n\\n=====================\\n\\n\\n\\n\\n=====================\\n\\n /home/ubuntu/src/tmp/3f976775-230d-4fba-b21b-b66c60903380 \\n\\n=====================\\n\\n\\n\\nMap:   0%|          | 0/480 [00:00<?, ? examples/s]\\nMap: 100%|██████████| 480/480 [00:00<00:00, 27131.14 examples/s]\\n\\nMap:   0%|          | 0/120 [00:00<?, ? examples/s]\\n\\n=====================\\n\\n /home/ubuntu/src/tmp/3f976775-230d-4fba-b21b-b66c60903380 \\n\\n=====================\\n\\n\\n\\nMap: 100%|██████████| 120/120 [00:00<00:00, 10477.03 examples/s]\\n\\nMap:   0%|          | 0/480 [00:00<?, ? examples/s]\\nMap: 100%|██████████| 480/480 [00:00<00:00, 24937.03 examples/s]\\n\\nMap:   0%|          | 0/120 [00:00<?, ? examples/s]\\n\\n=====================\\n\\n /home/ubuntu/src/tmp/3f976775-230d-4fba-b21b-b66c60903380 \\n\\n=====================\\n\\n\\n\\nMap: 100%|██████████| 120/120 [00:00<00:00, 13308.21 examples/s]\\n\\n\\n=====================\\n\\n /home/ubuntu/src/tmp/3f976775-230d-4fba-b21b-b66c60903380 \\n\\n=====================\\n\\n\\n\\n\\n=====================\\n\\n /home/ubuntu/src/tmp/3f976775-230d-4fba-b21b-b66c60903380 \\n\\n=====================\\n\\n\\n\\n\\n=====================\\n\\n /home/ubuntu/src/tmp/3f976775-230d-4fba-b21b-b66c60903380 \\n\\n=====================\\n\\n\\n\\n\\n=====================\\n\\n /home/ubuntu/src/tmp/3f976775-230d-4fba-b21b-b66c60903380 \\n\\n=====================\\n\\n\\n\\nMap:   0%|          | 0/480 [00:00<?, ? examples/s]\\nMap: 100%|██████████| 480/480 [00:00<00:00, 28082.16 examples/s]\\n\\nMap:   0%|          | 0/120 [00:00<?, ? examples/s]\\nMap: 100%|██████████| 120/120 [00:00<00:00, 13704.64 examples/s]\\n\\nMap:   0%|          | 0/480 [00:00<?, ? examples/s]\\nMap: 100%|██████████| 480/480 [00:00<00:00, 25215.62 examples/s]\\n\\nMap:   0%|          | 0/480 [00:00<?, ? examples/s]\\nMap:   0%|          | 0/480 [00:00<?, ? examples/s]\\nMap:   0%|          | 0/120 [00:00<?, ? examples/s]\\nMap: 100%|██████████| 480/480 [00:00<00:00, 23540.64 examples/s]\\n\\nMap:   0%|          | 0/480 [00:00<?, ? examples/s]\\nMap: 100%|██████████| 120/120 [00:00<00:00, 9732.88 examples/s]\\n\\nMap:   0%|          | 0/480 [00:00<?, ? examples/s]\\nMap: 100%|██████████| 480/480 [00:00<00:00, 21144.86 examples/s]\\n\\nMap: 100%|██████████| 480/480 [00:00<00:00, 22859.84 examples/s]\\n\\nMap:   0%|          | 0/120 [00:00<?, ? examples/s]\\nMap: 100%|██████████| 480/480 [00:00<00:00, 25021.64 examples/s]\\n\\nMap: 100%|██████████| 120/120 [00:00<00:00, 10072.17 examples/s]\\n\\nMap:   0%|          | 0/120 [00:00<?, ? examples/s]\\nMap:   0%|          | 0/120 [00:00<?, ? examples/s]\\nMap: 100%|██████████| 120/120 [00:00<00:00, 11889.46 examples/s]\\n\\nMap: 100%|██████████| 120/120 [00:00<00:00, 10132.80 examples/s]\\n\\nMap:   0%|          | 0/120 [00:00<?, ? examples/s]\\nMap: 100%|██████████| 120/120 [00:00<00:00, 11255.34 examples/s]\\nUsing CUDA\\n[2024-07-26 20:15:56,526] [INFO] [comm.py:637:init_distributed] cdb=None\\nUsing CUDA\\n[2024-07-26 20:15:56,610] [INFO] [comm.py:637:init_distributed] cdb=None\\nUsing CUDA\\n[2024-07-26 20:15:56,674] [INFO] [comm.py:637:init_distributed] cdb=None\\nUsing CUDA\\n[2024-07-26 20:15:56,781] [INFO] [comm.py:637:init_distributed] cdb=None\\n[2024-07-26 20:15:56,781] [INFO] [comm.py:668:init_distributed] Initializing TorchBackend in DeepSpeed with backend nccl\\nUsing CUDA\\n[2024-07-26 20:15:56,799] [INFO] [comm.py:637:init_distributed] cdb=None\\nUsing CUDA\\n[2024-07-26 20:15:56,817] [INFO] [comm.py:637:init_distributed] cdb=None\\nUsing CUDA\\n[2024-07-26 20:15:56,853] [INFO] [comm.py:637:init_distributed] cdb=None\\nUsing CUDA\\n[2024-07-26 20:15:56,935] [INFO] [comm.py:637:init_distributed] cdb=None\\n/home/ubuntu/mlenv/lib/python3.12/site-packages/trl/trainer/sft_trainer.py:505: UserWarning: You passed a dataset that is already processed (contains an `input_ids` field) together with a valid formatting function. Therefore `formatting_func` will be ignored.\\n  warnings.warn(\\n/home/ubuntu/mlenv/lib/python3.12/site-packages/trl/trainer/sft_trainer.py:505: UserWarning: You passed a dataset that is already processed (contains an `input_ids` field) together with a valid formatting function. Therefore `formatting_func` will be ignored.\\n  warnings.warn(\\n/home/ubuntu/mlenv/lib/python3.12/site-packages/trl/trainer/sft_trainer.py:505: UserWarning: You passed a dataset that is already processed (contains an `input_ids` field) together with a valid formatting function. Therefore `formatting_func` will be ignored.\\n  warnings.warn(\\n/home/ubuntu/mlenv/lib/python3.12/site-packages/trl/trainer/sft_trainer.py:505: UserWarning: You passed a dataset that is already processed (contains an `input_ids` field) together with a valid formatting function. Therefore `formatting_func` will be ignored.\\n  warnings.warn(\\n/home/ubuntu/mlenv/lib/python3.12/site-packages/trl/trainer/sft_trainer.py:505: UserWarning: You passed a dataset that is already processed (contains an `input_ids` field) together with a valid formatting function. Therefore `formatting_func` will be ignored.\\n  warnings.warn(\\n/home/ubuntu/mlenv/lib/python3.12/site-packages/trl/trainer/sft_trainer.py:505: UserWarning: You passed a dataset that is already processed (contains an `input_ids` field) together with a valid formatting function. Therefore `formatting_func` will be ignored.\\n  warnings.warn(\\n/home/ubuntu/mlenv/lib/python3.12/site-packages/trl/trainer/sft_trainer.py:505: UserWarning: You passed a dataset that is already processed (contains an `input_ids` field) together with a valid formatting function. Therefore `formatting_func` will be ignored.\\n  warnings.warn(\\n/home/ubuntu/mlenv/lib/python3.12/site-packages/trl/trainer/sft_trainer.py:505: UserWarning: You passed a dataset that is already processed (contains an `input_ids` field) together with a valid formatting function. Therefore `formatting_func` will be ignored.\\n  warnings.warn(\\n[2024-07-26 20:15:59,979] [WARNING] [cpu_adam.py:84:__init__] FP16 params for CPUAdam may not work on AMD CPUs\\n[2024-07-26 20:15:59,981] [WARNING] [cpu_adam.py:84:__init__] FP16 params for CPUAdam may not work on AMD CPUs\\n[2024-07-26 20:15:59,982] [WARNING] [cpu_adam.py:84:__init__] FP16 params for CPUAdam may not work on AMD CPUs\\n[2024-07-26 20:15:59,983] [WARNING] [cpu_adam.py:84:__init__] FP16 params for CPUAdam may not work on AMD CPUs\\n[2024-07-26 20:15:59,983] [WARNING] [cpu_adam.py:84:__init__] FP16 params for CPUAdam may not work on AMD CPUs\\n[2024-07-26 20:15:59,985] [WARNING] [cpu_adam.py:84:__init__] FP16 params for CPUAdam may not work on AMD CPUs\\n[2024-07-26 20:15:59,985] [WARNING] [cpu_adam.py:84:__init__] FP16 params for CPUAdam may not work on AMD CPUs\\n[2024-07-26 20:16:00,012] [WARNING] [cpu_adam.py:84:__init__] FP16 params for CPUAdam may not work on AMD CPUs\\nInstalled CUDA version 12.0 does not match the version torch was compiled with 12.1 but since the APIs are compatible, accepting this combination\\nUsing /home/ubuntu/.cache/torch_extensions/py312_cu121 as PyTorch extensions root...\\nInstalled CUDA version 12.0 does not match the version torch was compiled with 12.1 but since the APIs are compatible, accepting this combination\\nUsing /home/ubuntu/.cache/torch_extensions/py312_cu121 as PyTorch extensions root...\\nInstalled CUDA version 12.0 does not match the version torch was compiled with 12.1 but since the APIs are compatible, accepting this combination\\nUsing /home/ubuntu/.cache/torch_extensions/py312_cu121 as PyTorch extensions root...\\nInstalled CUDA version 12.0 does not match the version torch was compiled with 12.1 but since the APIs are compatible, accepting this combination\\nUsing /home/ubuntu/.cache/torch_extensions/py312_cu121 as PyTorch extensions root...\\nInstalled CUDA version 12.0 does not match the version torch was compiled with 12.1 but since the APIs are compatible, accepting this combination\\nUsing /home/ubuntu/.cache/torch_extensions/py312_cu121 as PyTorch extensions root...\\nInstalled CUDA version 12.0 does not match the version torch was compiled with 12.1 but since the APIs are compatible, accepting this combination\\nUsing /home/ubuntu/.cache/torch_extensions/py312_cu121 as PyTorch extensions root...\\nInstalled CUDA version 12.0 does not match the version torch was compiled with 12.1 but since the APIs are compatible, accepting this combination\\nInstalled CUDA version 12.0 does not match the version torch was compiled with 12.1 but since the APIs are compatible, accepting this combination\\nUsing /home/ubuntu/.cache/torch_extensions/py312_cu121 as PyTorch extensions root...\\nUsing /home/ubuntu/.cache/torch_extensions/py312_cu121 as PyTorch extensions root...\\nEmitting ninja build file /home/ubuntu/.cache/torch_extensions/py312_cu121/cpu_adam/build.ninja...\\nBuilding extension module cpu_adam...\\nAllowing ninja to set a default number of workers... (overridable by setting the environment variable MAX_JOBS=N)\\nninja: no work to do.\\nLoading extension module cpu_adam...\\nTime to load cpu_adam op: 2.445747137069702 seconds\\nLoading extension module cpu_adam...\\nTime to load cpu_adam op: 2.4943928718566895 seconds\\nLoading extension module cpu_adam...\\nLoading extension module cpu_adam...\\nTime to load cpu_adam op: 2.497846841812134 seconds\\nTime to load cpu_adam op: 2.503580093383789 seconds\\nLoading extension module cpu_adam...\\nTime to load cpu_adam op: 2.5022165775299072 seconds\\nLoading extension module cpu_adam...\\nTime to load cpu_adam op: 2.5057873725891113 seconds\\nLoading extension module cpu_adam...\\nLoading extension module cpu_adam...\\nTime to load cpu_adam op: 2.508068799972534 seconds\\nTime to load cpu_adam op: 2.4774398803710938 seconds\\n`use_cache=True` is incompatible with gradient checkpointing. Setting `use_cache=False`...\\n/home/ubuntu/mlenv/lib/python3.12/site-packages/torch/utils/checkpoint.py:464: UserWarning: torch.utils.checkpoint: the use_reentrant parameter should be passed explicitly. In version 2.4 we will raise an exception if use_reentrant is not passed. use_reentrant=False is recommended, but if you need to preserve the current default behavior, you can pass use_reentrant=True. Refer to docs for more details on the differences between the two variants.\\n  warnings.warn(\\n`use_cache=True` is incompatible with gradient checkpointing. Setting `use_cache=False`...\\n/home/ubuntu/mlenv/lib/python3.12/site-packages/torch/utils/checkpoint.py:464: UserWarning: torch.utils.checkpoint: the use_reentrant parameter should be passed explicitly. In version 2.4 we will raise an exception if use_reentrant is not passed. use_reentrant=False is recommended, but if you need to preserve the current default behavior, you can pass use_reentrant=True. Refer to docs for more details on the differences between the two variants.\\n  warnings.warn(\\n`use_cache=True` is incompatible with gradient checkpointing. Setting `use_cache=False`...\\n/home/ubuntu/mlenv/lib/python3.12/site-packages/torch/utils/checkpoint.py:464: UserWarning: torch.utils.checkpoint: the use_reentrant parameter should be passed explicitly. In version 2.4 we will raise an exception if use_reentrant is not passed. use_reentrant=False is recommended, but if you need to preserve the current default behavior, you can pass use_reentrant=True. Refer to docs for more details on the differences between the two variants.\\n  warnings.warn(\\n`use_cache=True` is incompatible with gradient checkpointing. Setting `use_cache=False`...\\n/home/ubuntu/mlenv/lib/python3.12/site-packages/torch/utils/checkpoint.py:464: UserWarning: torch.utils.checkpoint: the use_reentrant parameter should be passed explicitly. In version 2.4 we will raise an exception if use_reentrant is not passed. use_reentrant=False is recommended, but if you need to preserve the current default behavior, you can pass use_reentrant=True. Refer to docs for more details on the differences between the two variants.\\n  warnings.warn(\\n`use_cache=True` is incompatible with gradient checkpointing. Setting `use_cache=False`...\\n`use_cache=True` is incompatible with gradient checkpointing. Setting `use_cache=False`...\\n/home/ubuntu/mlenv/lib/python3.12/site-packages/torch/utils/checkpoint.py:464: UserWarning: torch.utils.checkpoint: the use_reentrant parameter should be passed explicitly. In version 2.4 we will raise an exception if use_reentrant is not passed. use_reentrant=False is recommended, but if you need to preserve the current default behavior, you can pass use_reentrant=True. Refer to docs for more details on the differences between the two variants.\\n  warnings.warn(\\n/home/ubuntu/mlenv/lib/python3.12/site-packages/torch/utils/checkpoint.py:464: UserWarning: torch.utils.checkpoint: the use_reentrant parameter should be passed explicitly. In version 2.4 we will raise an exception if use_reentrant is not passed. use_reentrant=False is recommended, but if you need to preserve the current default behavior, you can pass use_reentrant=True. Refer to docs for more details on the differences between the two variants.\\n  warnings.warn(\\n`use_cache=True` is incompatible with gradient checkpointing. Setting `use_cache=False`...\\n/home/ubuntu/mlenv/lib/python3.12/site-packages/torch/utils/checkpoint.py:464: UserWarning: torch.utils.checkpoint: the use_reentrant parameter should be passed explicitly. In version 2.4 we will raise an exception if use_reentrant is not passed. use_reentrant=False is recommended, but if you need to preserve the current default behavior, you can pass use_reentrant=True. Refer to docs for more details on the differences between the two variants.\\n  warnings.warn(\\n\\n  0%|          | 0/15 [00:00<?, ?it/s]`use_cache=True` is incompatible with gradient checkpointing. Setting `use_cache=False`...\\n/home/ubuntu/mlenv/lib/python3.12/site-packages/torch/utils/checkpoint.py:464: UserWarning: torch.utils.checkpoint: the use_reentrant parameter should be passed explicitly. In version 2.4 we will raise an exception if use_reentrant is not passed. use_reentrant=False is recommended, but if you need to preserve the current default behavior, you can pass use_reentrant=True. Refer to docs for more details on the differences between the two variants.\\n  warnings.warn(\\n`use_cache=True` is incompatible with gradient checkpointing. Setting `use_cache=False`...\\n`use_cache=True` is incompatible with gradient checkpointing. Setting `use_cache=False`...\\n`use_cache=True` is incompatible with gradient checkpointing. Setting `use_cache=False`...\\n`use_cache=True` is incompatible with gradient checkpointing. Setting `use_cache=False`...\\n`use_cache=True` is incompatible with gradient checkpointing. Setting `use_cache=False`...\\n`use_cache=True` is incompatible with gradient checkpointing. Setting `use_cache=False`...\\n`use_cache=True` is incompatible with gradient checkpointing. Setting `use_cache=False`...\\n`use_cache=True` is incompatible with gradient checkpointing. Setting `use_cache=False`...\\n`use_cache=True` is incompatible with gradient checkpointing. Setting `use_cache=False`...\\n`use_cache=True` is incompatible with gradient checkpointing. Setting `use_cache=False`...\\n`use_cache=True` is incompatible with gradient checkpointing. Setting `use_cache=False`...\\n`use_cache=True` is incompatible with gradient checkpointing. Setting `use_cache=False`...\\n`use_cache=True` is incompatible with gradient checkpointing. Setting `use_cache=False`...\\n`use_cache=True` is incompatible with gradient checkpointing. Setting `use_cache=False`...\\n`use_cache=True` is incompatible with gradient checkpointing. Setting `use_cache=False`...\\n`use_cache=True` is incompatible with gradient checkpointing. Setting `use_cache=False`...\\n`use_cache=True` is incompatible with gradient checkpointing. Setting `use_cache=False`...\\n`use_cache=True` is incompatible with gradient checkpointing. Setting `use_cache=False`...\\n`use_cache=True` is incompatible with gradient checkpointing. Setting `use_cache=False`...\\n`use_cache=True` is incompatible with gradient checkpointing. Setting `use_cache=False`...\\n`use_cache=True` is incompatible with gradient checkpointing. Setting `use_cache=False`...\\n`use_cache=True` is incompatible with gradient checkpointing. Setting `use_cache=False`...\\n`use_cache=True` is incompatible with gradient checkpointing. Setting `use_cache=False`...\\n`use_cache=True` is incompatible with gradient checkpointing. Setting `use_cache=False`...\\n\\n  7%|▋         | 1/15 [00:01<00:26,  1.92s/it]`use_cache=True` is incompatible with gradient checkpointing. Setting `use_cache=False`...\\n`use_cache=True` is incompatible with gradient checkpointing. Setting `use_cache=False`...\\n`use_cache=True` is incompatible with gradient checkpointing. Setting `use_cache=False`...\\n`use_cache=True` is incompatible with gradient checkpointing. Setting `use_cache=False`...\\n`use_cache=True` is incompatible with gradient checkpointing. Setting `use_cache=False`...\\n`use_cache=True` is incompatible with gradient checkpointing. Setting `use_cache=False`...\\n`use_cache=True` is incompatible with gradient checkpointing. Setting `use_cache=False`...\\n`use_cache=True` is incompatible with gradient checkpointing. Setting `use_cache=False`...\\n`use_cache=True` is incompatible with gradient checkpointing. Setting `use_cache=False`...\\n`use_cache=True` is incompatible with gradient checkpointing. Setting `use_cache=False`...\\n`use_cache=True` is incompatible with gradient checkpointing. Setting `use_cache=False`...\\n`use_cache=True` is incompatible with gradient checkpointing. Setting `use_cache=False`...\\n`use_cache=True` is incompatible with gradient checkpointing. Setting `use_cache=False`...\\n`use_cache=True` is incompatible with gradient checkpointing. Setting `use_cache=False`...\\n`use_cache=True` is incompatible with gradient checkpointing. Setting `use_cache=False`...\\n`use_cache=True` is incompatible with gradient checkpointing. Setting `use_cache=False`...\\n`use_cache=True` is incompatible with gradient checkpointing. Setting `use_cache=False`...\\n`use_cache=True` is incompatible with gradient checkpointing. Setting `use_cache=False`...\\n`use_cache=True` is incompatible with gradient checkpointing. Setting `use_cache=False`...\\n`use_cache=True` is incompatible with gradient checkpointing. Setting `use_cache=False`...\\n`use_cache=True` is incompatible with gradient checkpointing. Setting `use_cache=False`...\\n`use_cache=True` is incompatible with gradient checkpointing. Setting `use_cache=False`...\\n`use_cache=True` is incompatible with gradient checkpointing. Setting `use_cache=False`...\\n`use_cache=True` is incompatible with gradient checkpointing. Setting `use_cache=False`...\\n`use_cache=True` is incompatible with gradient checkpointing. Setting `use_cache=False`...\\n`use_cache=True` is incompatible with gradient checkpointing. Setting `use_cache=False`...\\n`use_cache=True` is incompatible with gradient checkpointing. Setting `use_cache=False`...\\n`use_cache=True` is incompatible with gradient checkpointing. Setting `use_cache=False`...\\n`use_cache=True` is incompatible with gradient checkpointing. Setting `use_cache=False`...\\n`use_cache=True` is incompatible with gradient checkpointing. Setting `use_cache=False`...\\n`use_cache=True` is incompatible with gradient checkpointing. Setting `use_cache=False`...\\n`use_cache=True` is incompatible with gradient checkpointing. Setting `use_cache=False`...\\n\\n 13%|█▎        | 2/15 [00:03<00:19,  1.47s/it]`use_cache=True` is incompatible with gradient checkpointing. Setting `use_cache=False`...\\n`use_cache=True` is incompatible with gradient checkpointing. Setting `use_cache=False`...\\n`use_cache=True` is incompatible with gradient checkpointing. Setting `use_cache=False`...\\n`use_cache=True` is incompatible with gradient checkpointing. Setting `use_cache=False`...\\n`use_cache=True` is incompatible with gradient checkpointing. Setting `use_cache=False`...\\n`use_cache=True` is incompatible with gradient checkpointing. Setting `use_cache=False`...\\n`use_cache=True` is incompatible with gradient checkpointing. Setting `use_cache=False`...\\n`use_cache=True` is incompatible with gradient checkpointing. Setting `use_cache=False`...\\n`use_cache=True` is incompatible with gradient checkpointing. Setting `use_cache=False`...\\n`use_cache=True` is incompatible with gradient checkpointing. Setting `use_cache=False`...\\n`use_cache=True` is incompatible with gradient checkpointing. Setting `use_cache=False`...\\n`use_cache=True` is incompatible with gradient checkpointing. Setting `use_cache=False`...\\n`use_cache=True` is incompatible with gradient checkpointing. Setting `use_cache=False`...\\n`use_cache=True` is incompatible with gradient checkpointing. Setting `use_cache=False`...\\n`use_cache=True` is incompatible with gradient checkpointing. Setting `use_cache=False`...\\n`use_cache=True` is incompatible with gradient checkpointing. Setting `use_cache=False`...\\n`use_cache=True` is incompatible with gradient checkpointing. Setting `use_cache=False`...\\n`use_cache=True` is incompatible with gradient checkpointing. Setting `use_cache=False`...\\n`use_cache=True` is incompatible with gradient checkpointing. Setting `use_cache=False`...\\n`use_cache=True` is incompatible with gradient checkpointing. Setting `use_cache=False`...\\n`use_cache=True` is incompatible with gradient checkpointing. Setting `use_cache=False`...\\n`use_cache=True` is incompatible with gradient checkpointing. Setting `use_cache=False`...\\n`use_cache=True` is incompatible with gradient checkpointing. Setting `use_cache=False`...\\n`use_cache=True` is incompatible with gradient checkpointing. Setting `use_cache=False`...\\n`use_cache=True` is incompatible with gradient checkpointing. Setting `use_cache=False`...\\n`use_cache=True` is incompatible with gradient checkpointing. Setting `use_cache=False`...\\n`use_cache=True` is incompatible with gradient checkpointing. Setting `use_cache=False`...\\n`use_cache=True` is incompatible with gradient checkpointing. Setting `use_cache=False`...\\n`use_cache=True` is incompatible with gradient checkpointing. Setting `use_cache=False`...\\n`use_cache=True` is incompatible with gradient checkpointing. Setting `use_cache=False`...\\n`use_cache=True` is incompatible with gradient checkpointing. Setting `use_cache=False`...\\n`use_cache=True` is incompatible with gradient checkpointing. Setting `use_cache=False`...\\n\\n 20%|██        | 3/15 [00:04<00:15,  1.33s/it]`use_cache=True` is incompatible with gradient checkpointing. Setting `use_cache=False`...\\n`use_cache=True` is incompatible with gradient checkpointing. Setting `use_cache=False`...\\n`use_cache=True` is incompatible with gradient checkpointing. Setting `use_cache=False`...\\n`use_cache=True` is incompatible with gradient checkpointing. Setting `use_cache=False`...\\n`use_cache=True` is incompatible with gradient checkpointing. Setting `use_cache=False`...\\n`use_cache=True` is incompatible with gradient checkpointing. Setting `use_cache=False`...\\n`use_cache=True` is incompatible with gradient checkpointing. Setting `use_cache=False`...\\n`use_cache=True` is incompatible with gradient checkpointing. Setting `use_cache=False`...\\n`use_cache=True` is incompatible with gradient checkpointing. Setting `use_cache=False`...\\n`use_cache=True` is incompatible with gradient checkpointing. Setting `use_cache=False`...\\n`use_cache=True` is incompatible with gradient checkpointing. Setting `use_cache=False`...\\n`use_cache=True` is incompatible with gradient checkpointing. Setting `use_cache=False`...\\n`use_cache=True` is incompatible with gradient checkpointing. Setting `use_cache=False`...\\n`use_cache=True` is incompatible with gradient checkpointing. Setting `use_cache=False`...\\n`use_cache=True` is incompatible with gradient checkpointing. Setting `use_cache=False`...\\n`use_cache=True` is incompatible with gradient checkpointing. Setting `use_cache=False`...\\n`use_cache=True` is incompatible with gradient checkpointing. Setting `use_cache=False`...\\n`use_cache=True` is incompatible with gradient checkpointing. Setting `use_cache=False`...\\n`use_cache=True` is incompatible with gradient checkpointing. Setting `use_cache=False`...\\n`use_cache=True` is incompatible with gradient checkpointing. Setting `use_cache=False`...\\n`use_cache=True` is incompatible with gradient checkpointing. Setting `use_cache=False`...\\n`use_cache=True` is incompatible with gradient checkpointing. Setting `use_cache=False`...\\n`use_cache=True` is incompatible with gradient checkpointing. Setting `use_cache=False`...\\n`use_cache=True` is incompatible with gradient checkpointing. Setting `use_cache=False`...\\n`use_cache=True` is incompatible with gradient checkpointing. Setting `use_cache=False`...\\n`use_cache=True` is incompatible with gradient checkpointing. Setting `use_cache=False`...\\n`use_cache=True` is incompatible with gradient checkpointing. Setting `use_cache=False`...\\n`use_cache=True` is incompatible with gradient checkpointing. Setting `use_cache=False`...\\n`use_cache=True` is incompatible with gradient checkpointing. Setting `use_cache=False`...\\n`use_cache=True` is incompatible with gradient checkpointing. Setting `use_cache=False`...\\n`use_cache=True` is incompatible with gradient checkpointing. Setting `use_cache=False`...\\n`use_cache=True` is incompatible with gradient checkpointing. Setting `use_cache=False`...\\n`use_cache=True` is incompatible with gradient checkpointing. Setting `use_cache=False`...\\n\\n 27%|██▋       | 4/15 [00:05<00:14,  1.28s/it]`use_cache=True` is incompatible with gradient checkpointing. Setting `use_cache=False`...\\n`use_cache=True` is incompatible with gradient checkpointing. Setting `use_cache=False`...\\n`use_cache=True` is incompatible with gradient checkpointing. Setting `use_cache=False`...\\n`use_cache=True` is incompatible with gradient checkpointing. Setting `use_cache=False`...\\n`use_cache=True` is incompatible with gradient checkpointing. Setting `use_cache=False`...\\n`use_cache=True` is incompatible with gradient checkpointing. Setting `use_cache=False`...\\n`use_cache=True` is incompatible with gradient checkpointing. Setting `use_cache=False`...\\n`use_cache=True` is incompatible with gradient checkpointing. Setting `use_cache=False`...\\n`use_cache=True` is incompatible with gradient checkpointing. Setting `use_cache=False`...\\n`use_cache=True` is incompatible with gradient checkpointing. Setting `use_cache=False`...\\n`use_cache=True` is incompatible with gradient checkpointing. Setting `use_cache=False`...\\n`use_cache=True` is incompatible with gradient checkpointing. Setting `use_cache=False`...\\n`use_cache=True` is incompatible with gradient checkpointing. Setting `use_cache=False`...\\n`use_cache=True` is incompatible with gradient checkpointing. Setting `use_cache=False`...\\n`use_cache=True` is incompatible with gradient checkpointing. Setting `use_cache=False`...\\n`use_cache=True` is incompatible with gradient checkpointing. Setting `use_cache=False`...\\n`use_cache=True` is incompatible with gradient checkpointing. Setting `use_cache=False`...\\n`use_cache=True` is incompatible with gradient checkpointing. Setting `use_cache=False`...\\n`use_cache=True` is incompatible with gradient checkpointing. Setting `use_cache=False`...\\n`use_cache=True` is incompatible with gradient checkpointing. Setting `use_cache=False`...\\n`use_cache=True` is incompatible with gradient checkpointing. Setting `use_cache=False`...\\n`use_cache=True` is incompatible with gradient checkpointing. Setting `use_cache=False`...\\n`use_cache=True` is incompatible with gradient checkpointing. Setting `use_cache=False`...\\n`use_cache=True` is incompatible with gradient checkpointing. Setting `use_cache=False`...\\n`use_cache=True` is incompatible with gradient checkpointing. Setting `use_cache=False`...\\n`use_cache=True` is incompatible with gradient checkpointing. Setting `use_cache=False`...\\n`use_cache=True` is incompatible with gradient checkpointing. Setting `use_cache=False`...\\n`use_cache=True` is incompatible with gradient checkpointing. Setting `use_cache=False`...\\n`use_cache=True` is incompatible with gradient checkpointing. Setting `use_cache=False`...\\n`use_cache=True` is incompatible with gradient checkpointing. Setting `use_cache=False`...\\n`use_cache=True` is incompatible with gradient checkpointing. Setting `use_cache=False`...\\n\\n 33%|███▎      | 5/15 [00:06<00:12,  1.29s/it]`use_cache=True` is incompatible with gradient checkpointing. Setting `use_cache=False`...\\n`use_cache=True` is incompatible with gradient checkpointing. Setting `use_cache=False`...\\n`use_cache=True` is incompatible with gradient checkpointing. Setting `use_cache=False`...\\n`use_cache=True` is incompatible with gradient checkpointing. Setting `use_cache=False`...\\n`use_cache=True` is incompatible with gradient checkpointing. Setting `use_cache=False`...\\n`use_cache=True` is incompatible with gradient checkpointing. Setting `use_cache=False`...\\n`use_cache=True` is incompatible with gradient checkpointing. Setting `use_cache=False`...\\n`use_cache=True` is incompatible with gradient checkpointing. Setting `use_cache=False`...\\n`use_cache=True` is incompatible with gradient checkpointing. Setting `use_cache=False`...\\n`use_cache=True` is incompatible with gradient checkpointing. Setting `use_cache=False`...\\n`use_cache=True` is incompatible with gradient checkpointing. Setting `use_cache=False`...\\n`use_cache=True` is incompatible with gradient checkpointing. Setting `use_cache=False`...\\n`use_cache=True` is incompatible with gradient checkpointing. Setting `use_cache=False`...\\n`use_cache=True` is incompatible with gradient checkpointing. Setting `use_cache=False`...\\n`use_cache=True` is incompatible with gradient checkpointing. Setting `use_cache=False`...\\n`use_cache=True` is incompatible with gradient checkpointing. Setting `use_cache=False`...\\n`use_cache=True` is incompatible with gradient checkpointing. Setting `use_cache=False`...\\n`use_cache=True` is incompatible with gradient checkpointing. Setting `use_cache=False`...\\n`use_cache=True` is incompatible with gradient checkpointing. Setting `use_cache=False`...\\n`use_cache=True` is incompatible with gradient checkpointing. Setting `use_cache=False`...\\n`use_cache=True` is incompatible with gradient checkpointing. Setting `use_cache=False`...\\n`use_cache=True` is incompatible with gradient checkpointing. Setting `use_cache=False`...\\n`use_cache=True` is incompatible with gradient checkpointing. Setting `use_cache=False`...\\n`use_cache=True` is incompatible with gradient checkpointing. Setting `use_cache=False`...\\n`use_cache=True` is incompatible with gradient checkpointing. Setting `use_cache=False`...\\n`use_cache=True` is incompatible with gradient checkpointing. Setting `use_cache=False`...\\n`use_cache=True` is incompatible with gradient checkpointing. Setting `use_cache=False`...\\n`use_cache=True` is incompatible with gradient checkpointing. Setting `use_cache=False`...\\n`use_cache=True` is incompatible with gradient checkpointing. Setting `use_cache=False`...\\n`use_cache=True` is incompatible with gradient checkpointing. Setting `use_cache=False`...\\n`use_cache=True` is incompatible with gradient checkpointing. Setting `use_cache=False`...\\n`use_cache=True` is incompatible with gradient checkpointing. Setting `use_cache=False`...\\n\\n 40%|████      | 6/15 [00:07<00:11,  1.27s/it]`use_cache=True` is incompatible with gradient checkpointing. Setting `use_cache=False`...\\n`use_cache=True` is incompatible with gradient checkpointing. Setting `use_cache=False`...\\n`use_cache=True` is incompatible with gradient checkpointing. Setting `use_cache=False`...\\n`use_cache=True` is incompatible with gradient checkpointing. Setting `use_cache=False`...\\n`use_cache=True` is incompatible with gradient checkpointing. Setting `use_cache=False`...\\n`use_cache=True` is incompatible with gradient checkpointing. Setting `use_cache=False`...\\n`use_cache=True` is incompatible with gradient checkpointing. Setting `use_cache=False`...\\n`use_cache=True` is incompatible with gradient checkpointing. Setting `use_cache=False`...\\n`use_cache=True` is incompatible with gradient checkpointing. Setting `use_cache=False`...\\n`use_cache=True` is incompatible with gradient checkpointing. Setting `use_cache=False`...\\n`use_cache=True` is incompatible with gradient checkpointing. Setting `use_cache=False`...\\n`use_cache=True` is incompatible with gradient checkpointing. Setting `use_cache=False`...\\n`use_cache=True` is incompatible with gradient checkpointing. Setting `use_cache=False`...\\n`use_cache=True` is incompatible with gradient checkpointing. Setting `use_cache=False`...\\n`use_cache=True` is incompatible with gradient checkpointing. Setting `use_cache=False`...\\n`use_cache=True` is incompatible with gradient checkpointing. Setting `use_cache=False`...\\n`use_cache=True` is incompatible with gradient checkpointing. Setting `use_cache=False`...\\n`use_cache=True` is incompatible with gradient checkpointing. Setting `use_cache=False`...\\n`use_cache=True` is incompatible with gradient checkpointing. Setting `use_cache=False`...\\n`use_cache=True` is incompatible with gradient checkpointing. Setting `use_cache=False`...\\n`use_cache=True` is incompatible with gradient checkpointing. Setting `use_cache=False`...\\n`use_cache=True` is incompatible with gradient checkpointing. Setting `use_cache=False`...\\n`use_cache=True` is incompatible with gradient checkpointing. Setting `use_cache=False`...\\n`use_cache=True` is incompatible with gradient checkpointing. Setting `use_cache=False`...\\n`use_cache=True` is incompatible with gradient checkpointing. Setting `use_cache=False`...\\n`use_cache=True` is incompatible with gradient checkpointing. Setting `use_cache=False`...\\n`use_cache=True` is incompatible with gradient checkpointing. Setting `use_cache=False`...\\n`use_cache=True` is incompatible with gradient checkpointing. Setting `use_cache=False`...\\n`use_cache=True` is incompatible with gradient checkpointing. Setting `use_cache=False`...\\n`use_cache=True` is incompatible with gradient checkpointing. Setting `use_cache=False`...\\n`use_cache=True` is incompatible with gradient checkpointing. Setting `use_cache=False`...\\n`use_cache=True` is incompatible with gradient checkpointing. Setting `use_cache=False`...\\n\\n 47%|████▋     | 7/15 [00:09<00:10,  1.37s/it]`use_cache=True` is incompatible with gradient checkpointing. Setting `use_cache=False`...\\n`use_cache=True` is incompatible with gradient checkpointing. Setting `use_cache=False`...\\n`use_cache=True` is incompatible with gradient checkpointing. Setting `use_cache=False`...\\n`use_cache=True` is incompatible with gradient checkpointing. Setting `use_cache=False`...\\n`use_cache=True` is incompatible with gradient checkpointing. Setting `use_cache=False`...\\n`use_cache=True` is incompatible with gradient checkpointing. Setting `use_cache=False`...\\n`use_cache=True` is incompatible with gradient checkpointing. Setting `use_cache=False`...\\n`use_cache=True` is incompatible with gradient checkpointing. Setting `use_cache=False`...\\n`use_cache=True` is incompatible with gradient checkpointing. Setting `use_cache=False`...\\n`use_cache=True` is incompatible with gradient checkpointing. Setting `use_cache=False`...\\n`use_cache=True` is incompatible with gradient checkpointing. Setting `use_cache=False`...\\n`use_cache=True` is incompatible with gradient checkpointing. Setting `use_cache=False`...\\n`use_cache=True` is incompatible with gradient checkpointing. Setting `use_cache=False`...\\n`use_cache=True` is incompatible with gradient checkpointing. Setting `use_cache=False`...\\n`use_cache=True` is incompatible with gradient checkpointing. Setting `use_cache=False`...\\n`use_cache=True` is incompatible with gradient checkpointing. Setting `use_cache=False`...\\n`use_cache=True` is incompatible with gradient checkpointing. Setting `use_cache=False`...\\n`use_cache=True` is incompatible with gradient checkpointing. Setting `use_cache=False`...\\n`use_cache=True` is incompatible with gradient checkpointing. Setting `use_cache=False`...\\n`use_cache=True` is incompatible with gradient checkpointing. Setting `use_cache=False`...\\n`use_cache=True` is incompatible with gradient checkpointing. Setting `use_cache=False`...\\n`use_cache=True` is incompatible with gradient checkpointing. Setting `use_cache=False`...\\n`use_cache=True` is incompatible with gradient checkpointing. Setting `use_cache=False`...\\n`use_cache=True` is incompatible with gradient checkpointing. Setting `use_cache=False`...\\n`use_cache=True` is incompatible with gradient checkpointing. Setting `use_cache=False`...\\n`use_cache=True` is incompatible with gradient checkpointing. Setting `use_cache=False`...\\n`use_cache=True` is incompatible with gradient checkpointing. Setting `use_cache=False`...\\n`use_cache=True` is incompatible with gradient checkpointing. Setting `use_cache=False`...\\n`use_cache=True` is incompatible with gradient checkpointing. Setting `use_cache=False`...\\n`use_cache=True` is incompatible with gradient checkpointing. Setting `use_cache=False`...\\n`use_cache=True` is incompatible with gradient checkpointing. Setting `use_cache=False`...\\n`use_cache=True` is incompatible with gradient checkpointing. Setting `use_cache=False`...\\n\\n 53%|█████▎    | 8/15 [00:10<00:09,  1.36s/it]`use_cache=True` is incompatible with gradient checkpointing. Setting `use_cache=False`...\\n`use_cache=True` is incompatible with gradient checkpointing. Setting `use_cache=False`...\\n`use_cache=True` is incompatible with gradient checkpointing. Setting `use_cache=False`...\\n`use_cache=True` is incompatible with gradient checkpointing. Setting `use_cache=False`...\\n`use_cache=True` is incompatible with gradient checkpointing. Setting `use_cache=False`...\\n`use_cache=True` is incompatible with gradient checkpointing. Setting `use_cache=False`...\\n`use_cache=True` is incompatible with gradient checkpointing. Setting `use_cache=False`...\\n`use_cache=True` is incompatible with gradient checkpointing. Setting `use_cache=False`...\\n`use_cache=True` is incompatible with gradient checkpointing. Setting `use_cache=False`...\\n`use_cache=True` is incompatible with gradient checkpointing. Setting `use_cache=False`...\\n`use_cache=True` is incompatible with gradient checkpointing. Setting `use_cache=False`...\\n`use_cache=True` is incompatible with gradient checkpointing. Setting `use_cache=False`...\\n`use_cache=True` is incompatible with gradient checkpointing. Setting `use_cache=False`...\\n`use_cache=True` is incompatible with gradient checkpointing. Setting `use_cache=False`...\\n`use_cache=True` is incompatible with gradient checkpointing. Setting `use_cache=False`...\\n`use_cache=True` is incompatible with gradient checkpointing. Setting `use_cache=False`...\\n`use_cache=True` is incompatible with gradient checkpointing. Setting `use_cache=False`...\\n`use_cache=True` is incompatible with gradient checkpointing. Setting `use_cache=False`...\\n`use_cache=True` is incompatible with gradient checkpointing. Setting `use_cache=False`...\\n`use_cache=True` is incompatible with gradient checkpointing. Setting `use_cache=False`...\\n`use_cache=True` is incompatible with gradient checkpointing. Setting `use_cache=False`...\\n`use_cache=True` is incompatible with gradient checkpointing. Setting `use_cache=False`...\\n`use_cache=True` is incompatible with gradient checkpointing. Setting `use_cache=False`...\\n`use_cache=True` is incompatible with gradient checkpointing. Setting `use_cache=False`...\\n`use_cache=True` is incompatible with gradient checkpointing. Setting `use_cache=False`...\\n`use_cache=True` is incompatible with gradient checkpointing. Setting `use_cache=False`...\\n`use_cache=True` is incompatible with gradient checkpointing. Setting `use_cache=False`...\\n`use_cache=True` is incompatible with gradient checkpointing. Setting `use_cache=False`...\\n`use_cache=True` is incompatible with gradient checkpointing. Setting `use_cache=False`...\\n`use_cache=True` is incompatible with gradient checkpointing. Setting `use_cache=False`...\\n`use_cache=True` is incompatible with gradient checkpointing. Setting `use_cache=False`...\\n`use_cache=True` is incompatible with gradient checkpointing. Setting `use_cache=False`...\\n\\n 60%|██████    | 9/15 [00:12<00:08,  1.40s/it]`use_cache=True` is incompatible with gradient checkpointing. Setting `use_cache=False`...\\n`use_cache=True` is incompatible with gradient checkpointing. Setting `use_cache=False`...\\n`use_cache=True` is incompatible with gradient checkpointing. Setting `use_cache=False`...\\n`use_cache=True` is incompatible with gradient checkpointing. Setting `use_cache=False`...\\n`use_cache=True` is incompatible with gradient checkpointing. Setting `use_cache=False`...\\n`use_cache=True` is incompatible with gradient checkpointing. Setting `use_cache=False`...\\n`use_cache=True` is incompatible with gradient checkpointing. Setting `use_cache=False`...\\n`use_cache=True` is incompatible with gradient checkpointing. Setting `use_cache=False`...\\n`use_cache=True` is incompatible with gradient checkpointing. Setting `use_cache=False`...\\n`use_cache=True` is incompatible with gradient checkpointing. Setting `use_cache=False`...\\n`use_cache=True` is incompatible with gradient checkpointing. Setting `use_cache=False`...\\n`use_cache=True` is incompatible with gradient checkpointing. Setting `use_cache=False`...\\n`use_cache=True` is incompatible with gradient checkpointing. Setting `use_cache=False`...\\n`use_cache=True` is incompatible with gradient checkpointing. Setting `use_cache=False`...\\n`use_cache=True` is incompatible with gradient checkpointing. Setting `use_cache=False`...\\n`use_cache=True` is incompatible with gradient checkpointing. Setting `use_cache=False`...\\n`use_cache=True` is incompatible with gradient checkpointing. Setting `use_cache=False`...\\n`use_cache=True` is incompatible with gradient checkpointing. Setting `use_cache=False`...\\n`use_cache=True` is incompatible with gradient checkpointing. Setting `use_cache=False`...\\n`use_cache=True` is incompatible with gradient checkpointing. Setting `use_cache=False`...\\n`use_cache=True` is incompatible with gradient checkpointing. Setting `use_cache=False`...\\n`use_cache=True` is incompatible with gradient checkpointing. Setting `use_cache=False`...\\n`use_cache=True` is incompatible with gradient checkpointing. Setting `use_cache=False`...\\n`use_cache=True` is incompatible with gradient checkpointing. Setting `use_cache=False`...\\n`use_cache=True` is incompatible with gradient checkpointing. Setting `use_cache=False`...\\n`use_cache=True` is incompatible with gradient checkpointing. Setting `use_cache=False`...\\n`use_cache=True` is incompatible with gradient checkpointing. Setting `use_cache=False`...\\n`use_cache=True` is incompatible with gradient checkpointing. Setting `use_cache=False`...\\n`use_cache=True` is incompatible with gradient checkpointing. Setting `use_cache=False`...\\n`use_cache=True` is incompatible with gradient checkpointing. Setting `use_cache=False`...\\n`use_cache=True` is incompatible with gradient checkpointing. Setting `use_cache=False`...\\n`use_cache=True` is incompatible with gradient checkpointing. Setting `use_cache=False`...\\n\\n 67%|██████▋   | 10/15 [00:13<00:06,  1.33s/it]`use_cache=True` is incompatible with gradient checkpointing. Setting `use_cache=False`...\\n`use_cache=True` is incompatible with gradient checkpointing. Setting `use_cache=False`...\\n`use_cache=True` is incompatible with gradient checkpointing. Setting `use_cache=False`...\\n`use_cache=True` is incompatible with gradient checkpointing. Setting `use_cache=False`...\\n`use_cache=True` is incompatible with gradient checkpointing. Setting `use_cache=False`...\\n`use_cache=True` is incompatible with gradient checkpointing. Setting `use_cache=False`...\\n`use_cache=True` is incompatible with gradient checkpointing. Setting `use_cache=False`...\\n`use_cache=True` is incompatible with gradient checkpointing. Setting `use_cache=False`...\\n`use_cache=True` is incompatible with gradient checkpointing. Setting `use_cache=False`...\\n`use_cache=True` is incompatible with gradient checkpointing. Setting `use_cache=False`...\\n`use_cache=True` is incompatible with gradient checkpointing. Setting `use_cache=False`...\\n`use_cache=True` is incompatible with gradient checkpointing. Setting `use_cache=False`...\\n`use_cache=True` is incompatible with gradient checkpointing. Setting `use_cache=False`...\\n`use_cache=True` is incompatible with gradient checkpointing. Setting `use_cache=False`...\\n`use_cache=True` is incompatible with gradient checkpointing. Setting `use_cache=False`...\\n`use_cache=True` is incompatible with gradient checkpointing. Setting `use_cache=False`...\\n`use_cache=True` is incompatible with gradient checkpointing. Setting `use_cache=False`...\\n`use_cache=True` is incompatible with gradient checkpointing. Setting `use_cache=False`...\\n`use_cache=True` is incompatible with gradient checkpointing. Setting `use_cache=False`...\\n`use_cache=True` is incompatible with gradient checkpointing. Setting `use_cache=False`...\\n`use_cache=True` is incompatible with gradient checkpointing. Setting `use_cache=False`...\\n`use_cache=True` is incompatible with gradient checkpointing. Setting `use_cache=False`...\\n`use_cache=True` is incompatible with gradient checkpointing. Setting `use_cache=False`...\\n`use_cache=True` is incompatible with gradient checkpointing. Setting `use_cache=False`...\\n`use_cache=True` is incompatible with gradient checkpointing. Setting `use_cache=False`...\\n`use_cache=True` is incompatible with gradient checkpointing. Setting `use_cache=False`...\\n`use_cache=True` is incompatible with gradient checkpointing. Setting `use_cache=False`...\\n`use_cache=True` is incompatible with gradient checkpointing. Setting `use_cache=False`...\\n`use_cache=True` is incompatible with gradient checkpointing. Setting `use_cache=False`...\\n`use_cache=True` is incompatible with gradient checkpointing. Setting `use_cache=False`...\\n`use_cache=True` is incompatible with gradient checkpointing. Setting `use_cache=False`...\\n`use_cache=True` is incompatible with gradient checkpointing. Setting `use_cache=False`...\\n\\n 73%|███████▎  | 11/15 [00:15<00:05,  1.37s/it]`use_cache=True` is incompatible with gradient checkpointing. Setting `use_cache=False`...\\n`use_cache=True` is incompatible with gradient checkpointing. Setting `use_cache=False`...\\n`use_cache=True` is incompatible with gradient checkpointing. Setting `use_cache=False`...\\n`use_cache=True` is incompatible with gradient checkpointing. Setting `use_cache=False`...\\n`use_cache=True` is incompatible with gradient checkpointing. Setting `use_cache=False`...\\n`use_cache=True` is incompatible with gradient checkpointing. Setting `use_cache=False`...\\n`use_cache=True` is incompatible with gradient checkpointing. Setting `use_cache=False`...\\n`use_cache=True` is incompatible with gradient checkpointing. Setting `use_cache=False`...\\n`use_cache=True` is incompatible with gradient checkpointing. Setting `use_cache=False`...\\n`use_cache=True` is incompatible with gradient checkpointing. Setting `use_cache=False`...\\n`use_cache=True` is incompatible with gradient checkpointing. Setting `use_cache=False`...\\n`use_cache=True` is incompatible with gradient checkpointing. Setting `use_cache=False`...\\n`use_cache=True` is incompatible with gradient checkpointing. Setting `use_cache=False`...\\n`use_cache=True` is incompatible with gradient checkpointing. Setting `use_cache=False`...\\n`use_cache=True` is incompatible with gradient checkpointing. Setting `use_cache=False`...\\n`use_cache=True` is incompatible with gradient checkpointing. Setting `use_cache=False`...\\n`use_cache=True` is incompatible with gradient checkpointing. Setting `use_cache=False`...\\n`use_cache=True` is incompatible with gradient checkpointing. Setting `use_cache=False`...\\n`use_cache=True` is incompatible with gradient checkpointing. Setting `use_cache=False`...\\n`use_cache=True` is incompatible with gradient checkpointing. Setting `use_cache=False`...\\n`use_cache=True` is incompatible with gradient checkpointing. Setting `use_cache=False`...\\n`use_cache=True` is incompatible with gradient checkpointing. Setting `use_cache=False`...\\n`use_cache=True` is incompatible with gradient checkpointing. Setting `use_cache=False`...\\n`use_cache=True` is incompatible with gradient checkpointing. Setting `use_cache=False`...\\n`use_cache=True` is incompatible with gradient checkpointing. Setting `use_cache=False`...\\n`use_cache=True` is incompatible with gradient checkpointing. Setting `use_cache=False`...\\n`use_cache=True` is incompatible with gradient checkpointing. Setting `use_cache=False`...\\n`use_cache=True` is incompatible with gradient checkpointing. Setting `use_cache=False`...\\n`use_cache=True` is incompatible with gradient checkpointing. Setting `use_cache=False`...\\n`use_cache=True` is incompatible with gradient checkpointing. Setting `use_cache=False`...\\n`use_cache=True` is incompatible with gradient checkpointing. Setting `use_cache=False`...\\n`use_cache=True` is incompatible with gradient checkpointing. Setting `use_cache=False`...\\n\\n 80%|████████  | 12/15 [00:16<00:04,  1.36s/it]`use_cache=True` is incompatible with gradient checkpointing. Setting `use_cache=False`...\\n`use_cache=True` is incompatible with gradient checkpointing. Setting `use_cache=False`...\\n`use_cache=True` is incompatible with gradient checkpointing. Setting `use_cache=False`...\\n`use_cache=True` is incompatible with gradient checkpointing. Setting `use_cache=False`...\\n`use_cache=True` is incompatible with gradient checkpointing. Setting `use_cache=False`...\\n`use_cache=True` is incompatible with gradient checkpointing. Setting `use_cache=False`...\\n`use_cache=True` is incompatible with gradient checkpointing. Setting `use_cache=False`...\\n`use_cache=True` is incompatible with gradient checkpointing. Setting `use_cache=False`...\\n`use_cache=True` is incompatible with gradient checkpointing. Setting `use_cache=False`...\\n`use_cache=True` is incompatible with gradient checkpointing. Setting `use_cache=False`...\\n`use_cache=True` is incompatible with gradient checkpointing. Setting `use_cache=False`...\\n`use_cache=True` is incompatible with gradient checkpointing. Setting `use_cache=False`...\\n`use_cache=True` is incompatible with gradient checkpointing. Setting `use_cache=False`...\\n`use_cache=True` is incompatible with gradient checkpointing. Setting `use_cache=False`...\\n`use_cache=True` is incompatible with gradient checkpointing. Setting `use_cache=False`...\\n`use_cache=True` is incompatible with gradient checkpointing. Setting `use_cache=False`...\\n`use_cache=True` is incompatible with gradient checkpointing. Setting `use_cache=False`...\\n`use_cache=True` is incompatible with gradient checkpointing. Setting `use_cache=False`...\\n`use_cache=True` is incompatible with gradient checkpointing. Setting `use_cache=False`...\\n`use_cache=True` is incompatible with gradient checkpointing. Setting `use_cache=False`...\\n`use_cache=True` is incompatible with gradient checkpointing. Setting `use_cache=False`...\\n`use_cache=True` is incompatible with gradient checkpointing. Setting `use_cache=False`...\\n`use_cache=True` is incompatible with gradient checkpointing. Setting `use_cache=False`...\\n`use_cache=True` is incompatible with gradient checkpointing. Setting `use_cache=False`...\\n`use_cache=True` is incompatible with gradient checkpointing. Setting `use_cache=False`...\\n`use_cache=True` is incompatible with gradient checkpointing. Setting `use_cache=False`...\\n`use_cache=True` is incompatible with gradient checkpointing. Setting `use_cache=False`...\\n`use_cache=True` is incompatible with gradient checkpointing. Setting `use_cache=False`...\\n`use_cache=True` is incompatible with gradient checkpointing. Setting `use_cache=False`...\\n`use_cache=True` is incompatible with gradient checkpointing. Setting `use_cache=False`...\\n`use_cache=True` is incompatible with gradient checkpointing. Setting `use_cache=False`...\\n`use_cache=True` is incompatible with gradient checkpointing. Setting `use_cache=False`...\\n\\n 87%|████████▋ | 13/15 [00:17<00:02,  1.37s/it]`use_cache=True` is incompatible with gradient checkpointing. Setting `use_cache=False`...\\n`use_cache=True` is incompatible with gradient checkpointing. Setting `use_cache=False`...\\n`use_cache=True` is incompatible with gradient checkpointing. Setting `use_cache=False`...\\n`use_cache=True` is incompatible with gradient checkpointing. Setting `use_cache=False`...\\n`use_cache=True` is incompatible with gradient checkpointing. Setting `use_cache=False`...\\n`use_cache=True` is incompatible with gradient checkpointing. Setting `use_cache=False`...\\n`use_cache=True` is incompatible with gradient checkpointing. Setting `use_cache=False`...\\n`use_cache=True` is incompatible with gradient checkpointing. Setting `use_cache=False`...\\n`use_cache=True` is incompatible with gradient checkpointing. Setting `use_cache=False`...\\n`use_cache=True` is incompatible with gradient checkpointing. Setting `use_cache=False`...\\n`use_cache=True` is incompatible with gradient checkpointing. Setting `use_cache=False`...\\n`use_cache=True` is incompatible with gradient checkpointing. Setting `use_cache=False`...\\n`use_cache=True` is incompatible with gradient checkpointing. Setting `use_cache=False`...\\n`use_cache=True` is incompatible with gradient checkpointing. Setting `use_cache=False`...\\n`use_cache=True` is incompatible with gradient checkpointing. Setting `use_cache=False`...\\n`use_cache=True` is incompatible with gradient checkpointing. Setting `use_cache=False`...\\n`use_cache=True` is incompatible with gradient checkpointing. Setting `use_cache=False`...\\n`use_cache=True` is incompatible with gradient checkpointing. Setting `use_cache=False`...\\n`use_cache=True` is incompatible with gradient checkpointing. Setting `use_cache=False`...\\n`use_cache=True` is incompatible with gradient checkpointing. Setting `use_cache=False`...\\n`use_cache=True` is incompatible with gradient checkpointing. Setting `use_cache=False`...\\n`use_cache=True` is incompatible with gradient checkpointing. Setting `use_cache=False`...\\n`use_cache=True` is incompatible with gradient checkpointing. Setting `use_cache=False`...\\n`use_cache=True` is incompatible with gradient checkpointing. Setting `use_cache=False`...\\n`use_cache=True` is incompatible with gradient checkpointing. Setting `use_cache=False`...\\n`use_cache=True` is incompatible with gradient checkpointing. Setting `use_cache=False`...\\n`use_cache=True` is incompatible with gradient checkpointing. Setting `use_cache=False`...\\n`use_cache=True` is incompatible with gradient checkpointing. Setting `use_cache=False`...\\n`use_cache=True` is incompatible with gradient checkpointing. Setting `use_cache=False`...\\n`use_cache=True` is incompatible with gradient checkpointing. Setting `use_cache=False`...\\n`use_cache=True` is incompatible with gradient checkpointing. Setting `use_cache=False`...\\n`use_cache=True` is incompatible with gradient checkpointing. Setting `use_cache=False`...\\n`use_cache=True` is incompatible with gradient checkpointing. Setting `use_cache=False`...\\n\\n 93%|█████████▎| 14/15 [00:19<00:01,  1.36s/it]`use_cache=True` is incompatible with gradient checkpointing. Setting `use_cache=False`...\\n`use_cache=True` is incompatible with gradient checkpointing. Setting `use_cache=False`...\\n`use_cache=True` is incompatible with gradient checkpointing. Setting `use_cache=False`...\\n`use_cache=True` is incompatible with gradient checkpointing. Setting `use_cache=False`...\\n`use_cache=True` is incompatible with gradient checkpointing. Setting `use_cache=False`...\\n`use_cache=True` is incompatible with gradient checkpointing. Setting `use_cache=False`...\\n`use_cache=True` is incompatible with gradient checkpointing. Setting `use_cache=False`...\\n`use_cache=True` is incompatible with gradient checkpointing. Setting `use_cache=False`...\\n`use_cache=True` is incompatible with gradient checkpointing. Setting `use_cache=False`...\\n`use_cache=True` is incompatible with gradient checkpointing. Setting `use_cache=False`...\\n`use_cache=True` is incompatible with gradient checkpointing. Setting `use_cache=False`...\\n`use_cache=True` is incompatible with gradient checkpointing. Setting `use_cache=False`...\\n`use_cache=True` is incompatible with gradient checkpointing. Setting `use_cache=False`...\\n`use_cache=True` is incompatible with gradient checkpointing. Setting `use_cache=False`...\\n`use_cache=True` is incompatible with gradient checkpointing. Setting `use_cache=False`...\\n`use_cache=True` is incompatible with gradient checkpointing. Setting `use_cache=False`...\\n`use_cache=True` is incompatible with gradient checkpointing. Setting `use_cache=False`...\\n`use_cache=True` is incompatible with gradient checkpointing. Setting `use_cache=False`...\\n`use_cache=True` is incompatible with gradient checkpointing. Setting `use_cache=False`...\\n`use_cache=True` is incompatible with gradient checkpointing. Setting `use_cache=False`...\\n`use_cache=True` is incompatible with gradient checkpointing. Setting `use_cache=False`...\\n`use_cache=True` is incompatible with gradient checkpointing. Setting `use_cache=False`...\\n`use_cache=True` is incompatible with gradient checkpointing. Setting `use_cache=False`...\\n`use_cache=True` is incompatible with gradient checkpointing. Setting `use_cache=False`...\\n`use_cache=True` is incompatible with gradient checkpointing. Setting `use_cache=False`...\\n`use_cache=True` is incompatible with gradient checkpointing. Setting `use_cache=False`...\\n`use_cache=True` is incompatible with gradient checkpointing. Setting `use_cache=False`...\\n`use_cache=True` is incompatible with gradient checkpointing. Setting `use_cache=False`...\\n`use_cache=True` is incompatible with gradient checkpointing. Setting `use_cache=False`...\\n`use_cache=True` is incompatible with gradient checkpointing. Setting `use_cache=False`...\\n`use_cache=True` is incompatible with gradient checkpointing. Setting `use_cache=False`...\\n\\n100%|██████████| 15/15 [00:20<00:00,  1.36s/it]\\n                                               \\n{'train_runtime': 21.7623, 'train_samples_per_second': 22.056, 'train_steps_per_second': 0.689, 'train_loss': 2.5359568277994793, 'epoch': 1.0}\\n\\n100%|██████████| 15/15 [00:21<00:00,  1.36s/it]\\n100%|██████████| 15/15 [00:21<00:00,  1.45s/it]\\n\"}\n"
          ]
        }
      ]
    },
    {
      "cell_type": "markdown",
      "source": [
        "As above, now we download the model."
      ],
      "metadata": {
        "id": "pJLlB9Yvr5hk"
      }
    },
    {
      "cell_type": "code",
      "source": [
        "# creating a folder to store the model\n",
        "os.mkdir('sf_trained_model_ZeRO')\n",
        "\n",
        "# download and save the model to it.\n",
        "# This might take some time, have a sip of that coffee! :)\n",
        "download_model(api_key=api_key, job_id=job_id, extract_to='/content/sf_trained_model_ZeRO')"
      ],
      "metadata": {
        "colab": {
          "base_uri": "https://localhost:8080/"
        },
        "id": "qrHsE6G3r5R5",
        "outputId": "8314a92b-58ce-4dd6-d8aa-2e62715efc84"
      },
      "execution_count": 15,
      "outputs": [
        {
          "output_type": "stream",
          "name": "stderr",
          "text": [
            "Downloading: 100%|██████████| 296M/296M [00:22<00:00, 13.2MiB/s]\n"
          ]
        },
        {
          "output_type": "stream",
          "name": "stdout",
          "text": [
            "\n",
            "Directory downloaded successfully and saved to /content/sf_trained_model_ZeRO/3f976775-230d-4fba-b21b-b66c60903380.zip\n",
            "Model unzipped successfully to /content/sf_trained_model_ZeRO\n",
            "Deleted the zip file at /content/sf_trained_model_ZeRO/3f976775-230d-4fba-b21b-b66c60903380.zip\n",
            "Model downloaded, unzipped, and zip file deleted successfully!\n"
          ]
        }
      ]
    },
    {
      "cell_type": "markdown",
      "source": [
        "Next we test this model trained with ZeRO for generation."
      ],
      "metadata": {
        "id": "ik0t_wDOsKZC"
      }
    },
    {
      "cell_type": "code",
      "source": [
        "from transformers import AutoModelForCausalLM, AutoTokenizer\n",
        "\n",
        "path = '/content/sf_trained_model_ZeRO'\n",
        "sf_model = AutoModelForCausalLM.from_pretrained(path)\n",
        "sf_tokenizer = AutoTokenizer.from_pretrained(path)\n",
        "\n",
        "input_example = '''### TITLE: title 1\\n ### ABSTRACT: abstract 1\\n ###EXPLANATION: '''\n",
        "\n",
        "input_example = sf_tokenizer(input_example, return_tensors='pt')\n",
        "\n",
        "output = sf_model.generate(input_example['input_ids'],\n",
        "                           attention_mask=input_example['attention_mask'],\n",
        "                           max_length=30,eos_token_id=sf_tokenizer.eos_token_id,\n",
        "                           early_stopping=True,\n",
        "                           pad_token_id=sf_tokenizer.eos_token_id\n",
        ")\n",
        "\n",
        "print(sf_tokenizer.decode(output[0]))"
      ],
      "metadata": {
        "colab": {
          "base_uri": "https://localhost:8080/"
        },
        "id": "QFI7kO10sJDK",
        "outputId": "81200320-b713-4810-cef1-63a3bae4f38c"
      },
      "execution_count": 16,
      "outputs": [
        {
          "output_type": "stream",
          "name": "stderr",
          "text": [
            "Special tokens have been added in the vocabulary, make sure the associated word embeddings are fine-tuned or trained.\n"
          ]
        },
        {
          "output_type": "stream",
          "name": "stdout",
          "text": [
            "### TITLE: title 1\n",
            " ### ABSTRACT: abstract 1\n",
            " ###EXPLANATION:  explanation 1\n",
            " explanation 1 explanation\n"
          ]
        }
      ]
    }
  ]
}